{
 "cells": [
  {
   "cell_type": "markdown",
   "metadata": {},
   "source": [
    "# Zen of python"
   ]
  },
  {
   "cell_type": "markdown",
   "source": [],
   "metadata": {
    "collapsed": false
   }
  },
  {
   "cell_type": "code",
   "execution_count": 1,
   "outputs": [
    {
     "name": "stdout",
     "output_type": "stream",
     "text": [
      "The Zen of Python, by Tim Peters\n",
      "\n",
      "Beautiful is better than ugly.\n",
      "Explicit is better than implicit.\n",
      "Simple is better than complex.\n",
      "Complex is better than complicated.\n",
      "Flat is better than nested.\n",
      "Sparse is better than dense.\n",
      "Readability counts.\n",
      "Special cases aren't special enough to break the rules.\n",
      "Although practicality beats purity.\n",
      "Errors should never pass silently.\n",
      "Unless explicitly silenced.\n",
      "In the face of ambiguity, refuse the temptation to guess.\n",
      "There should be one-- and preferably only one --obvious way to do it.\n",
      "Although that way may not be obvious at first unless you're Dutch.\n",
      "Now is better than never.\n",
      "Although never is often better than *right* now.\n",
      "If the implementation is hard to explain, it's a bad idea.\n",
      "If the implementation is easy to explain, it may be a good idea.\n",
      "Namespaces are one honking great idea -- let's do more of those!\n"
     ]
    }
   ],
   "source": [
    "import this"
   ],
   "metadata": {
    "collapsed": false,
    "pycharm": {
     "name": "#%%\n"
    }
   }
  },
  {
   "cell_type": "markdown",
   "source": [
    "# The Python Programming Language: Types and Sequences"
   ],
   "metadata": {
    "collapsed": false
   }
  },
  {
   "cell_type": "markdown",
   "source": [
    "Use `type` to return the object's type."
   ],
   "metadata": {
    "collapsed": false
   }
  },
  {
   "cell_type": "code",
   "execution_count": 3,
   "metadata": {},
   "outputs": [
    {
     "data": {
      "text/plain": "int"
     },
     "execution_count": 3,
     "metadata": {},
     "output_type": "execute_result"
    }
   ],
   "source": [
    "x = 3\n",
    "type(x)"
   ]
  },
  {
   "cell_type": "code",
   "execution_count": null,
   "metadata": {},
   "outputs": [],
   "source": []
  },
  {
   "cell_type": "code",
   "execution_count": null,
   "metadata": {},
   "outputs": [],
   "source": []
  },
  {
   "cell_type": "markdown",
   "source": [
    "# The Python Programming Language: Functions"
   ],
   "metadata": {
    "collapsed": false,
    "pycharm": {
     "name": "#%% md\n"
    }
   }
  },
  {
   "cell_type": "markdown",
   "metadata": {},
   "source": [
    "`add_numbers` is a function that takes two numbers and adds them together."
   ]
  },
  {
   "cell_type": "code",
   "execution_count": 9,
   "metadata": {},
   "outputs": [],
   "source": [
    "def add_numbers(x, y):\n",
    "    return x+y"
   ]
  },
  {
   "cell_type": "code",
   "execution_count": 10,
   "outputs": [
    {
     "data": {
      "text/plain": "5"
     },
     "execution_count": 10,
     "metadata": {},
     "output_type": "execute_result"
    }
   ],
   "source": [
    "add_numbers(2,3)"
   ],
   "metadata": {
    "collapsed": false,
    "pycharm": {
     "name": "#%%\n"
    }
   }
  },
  {
   "cell_type": "markdown",
   "source": [
    "Try calling the function using strings"
   ],
   "metadata": {
    "collapsed": false,
    "pycharm": {
     "name": "#%% md\n"
    }
   }
  },
  {
   "cell_type": "code",
   "execution_count": 11,
   "outputs": [
    {
     "data": {
      "text/plain": "'ab'"
     },
     "execution_count": 11,
     "metadata": {},
     "output_type": "execute_result"
    }
   ],
   "source": [
    "add_numbers('a','b')"
   ],
   "metadata": {
    "collapsed": false,
    "pycharm": {
     "name": "#%%\n"
    }
   }
  },
  {
   "cell_type": "markdown",
   "source": [
    "Now using a 3rd parameter"
   ],
   "metadata": {
    "collapsed": false,
    "pycharm": {
     "name": "#%% md\n"
    }
   }
  },
  {
   "cell_type": "code",
   "execution_count": 12,
   "outputs": [
    {
     "ename": "TypeError",
     "evalue": "add_numbers() takes 2 positional arguments but 3 were given",
     "output_type": "error",
     "traceback": [
      "\u001B[1;31m---------------------------------------------------------------------------\u001B[0m",
      "\u001B[1;31mTypeError\u001B[0m                                 Traceback (most recent call last)",
      "\u001B[1;32m<ipython-input-12-39a65dd9cc10>\u001B[0m in \u001B[0;36m<module>\u001B[1;34m\u001B[0m\n\u001B[1;32m----> 1\u001B[1;33m \u001B[0madd_numbers\u001B[0m\u001B[1;33m(\u001B[0m\u001B[1;36m1\u001B[0m\u001B[1;33m,\u001B[0m\u001B[1;36m2\u001B[0m\u001B[1;33m,\u001B[0m\u001B[1;36m3\u001B[0m\u001B[1;33m)\u001B[0m\u001B[1;33m\u001B[0m\u001B[1;33m\u001B[0m\u001B[0m\n\u001B[0m",
      "\u001B[1;31mTypeError\u001B[0m: add_numbers() takes 2 positional arguments but 3 were given"
     ]
    }
   ],
   "source": [
    "#add_numbers(1,2,3)"
   ],
   "metadata": {
    "collapsed": false,
    "pycharm": {
     "name": "#%%\n"
    }
   }
  },
  {
   "cell_type": "markdown",
   "source": [
    "Support an additional parameter"
   ],
   "metadata": {
    "collapsed": false,
    "pycharm": {
     "name": "#%% md\n"
    }
   }
  },
  {
   "cell_type": "code",
   "execution_count": 14,
   "metadata": {},
   "outputs": [],
   "source": [
    "def add_numbers(x, y, z):\n",
    "    return x+y+z"
   ]
  },
  {
   "cell_type": "code",
   "execution_count": 15,
   "outputs": [
    {
     "data": {
      "text/plain": "6"
     },
     "execution_count": 15,
     "metadata": {},
     "output_type": "execute_result"
    }
   ],
   "source": [
    "add_numbers(1,2,3)"
   ],
   "metadata": {
    "collapsed": false,
    "pycharm": {
     "name": "#%%\n"
    }
   }
  },
  {
   "cell_type": "code",
   "execution_count": 20,
   "outputs": [],
   "source": [
    "def add_numbers(x,y,z=0):\n",
    "    return x+y+z"
   ],
   "metadata": {
    "collapsed": false,
    "pycharm": {
     "name": "#%%\n"
    }
   }
  },
  {
   "cell_type": "code",
   "execution_count": 19,
   "outputs": [
    {
     "data": {
      "text/plain": "5"
     },
     "execution_count": 19,
     "metadata": {},
     "output_type": "execute_result"
    }
   ],
   "source": [
    "add_numbers(1,2)"
   ],
   "metadata": {
    "collapsed": false,
    "pycharm": {
     "name": "#%%\n"
    }
   }
  },
  {
   "cell_type": "markdown",
   "metadata": {},
   "source": [
    "`add_numbers` updated to take an optional flag parameter. Using `print` allows printing of multiple expressions within a single cell."
   ]
  },
  {
   "cell_type": "code",
   "execution_count": 87,
   "metadata": {},
   "outputs": [
    {
     "data": {
      "text/plain": "'2a'"
     },
     "execution_count": 87,
     "metadata": {},
     "output_type": "execute_result"
    }
   ],
   "source": [
    "def add_numbers(x, y, z=None, flag=False):\n",
    "    if flag:\n",
    "        print('Flag is true')\n",
    "    if not z:\n",
    "        return x+y\n",
    "    else:\n",
    "        return x+y+z\n",
    "\n",
    "#ergebnis = add_numbers(10.0,5, flag=True,z=10)\n",
    "#add_numbers(2, 'a', 0, True)\n",
    "#2 + 'a'\n",
    "#'hallo ' + 'welt'\n",
    "add_numbers('2','a')\n",
    "#add_numbers(2,3,2,True)\n",
    "#ergebnis = add_numbers(2,3,flag=True,z=100)\n",
    "\n",
    "#add_numbers('a','b', flag=True)"
   ]
  },
  {
   "cell_type": "code",
   "execution_count": 84,
   "outputs": [
    {
     "data": {
      "text/plain": "{'__name__': '__main__',\n '__doc__': 'Automatically created module for IPython interactive environment',\n '__package__': None,\n '__loader__': None,\n '__spec__': None,\n '__builtin__': <module 'builtins' (built-in)>,\n '__builtins__': <module 'builtins' (built-in)>,\n '_ih': ['',\n  'import this',\n  'x = 3',\n  'x = 3\\ntype(x)',\n  \"print('Hallo')\",\n  'def add_numbers(x, y):\\n    return x+y',\n  'add_numbers(2,3)',\n  'def add_numbers(x, y):\\n    x+y',\n  'add_numbers(2,3)',\n  'def add_numbers(x, y):\\n    return x+y',\n  'add_numbers(2,3)',\n  \"add_numbers('a','b')\",\n  'add_numbers(1,2,3)',\n  'add_numbers(2)',\n  'def add_numbers(x, y, z):\\n    return x+y+z',\n  'add_numbers(1,2,3)',\n  'def add_numbers(x,y,z=0):\\n    return x+y+z',\n  'add_numbers(1,2)',\n  'def add_numbers(x,y,z=2):\\n    return x+y+z',\n  'add_numbers(1,2)',\n  'def add_numbers(x,y,z=0):\\n    return x+y+z',\n  'def add_numbers(x, y, z=None, flag=False):\\n    return ',\n  'add_numbers(1)',\n  'add_numbers(2,3)',\n  'add_numbers(1,2,3,4)',\n  \"def add_numbers(x, y, z=None, flag=False):\\n    if flag:\\n        print('Flag is true')\\n    if not z:\\n        return x+y\\n    else:\\n        return x+y+z\\n\\nadd_numbers(2,3)\",\n  \"def add_numbers(x, y, z=None, flag=False):\\n    if flag:\\n        print('Flag is true')\\n    if not z:\\n        return x+y\\n    else:\\n        return x+y+z\\n\\nadd_numbers(2,3,0,True)\",\n  \"def add_numbers(x, y, z=None, flag=False):\\n    if flag:\\n        print('Flag is true')\\n    if not z:\\n        return x+y\\n    else:\\n        return x+y+z\\n\\nadd_numbers(2,3,0,True)\\nadd_numbers(2,3,flag=True)\",\n  \"def add_numbers(x, y, z=None, flag=False):\\n    if flag:\\n        print('Flag is true')\\n    if not z:\\n        return x+y\\n    else:\\n        return x+y+z\\n\\n#add_numbers(2,3,0,True)\\nadd_numbers(2,3,flag=True)\",\n  \"def add_numbers(x, y, z=None, flag=False):\\n    if flag:\\n        print('Flag is true')\\n    if not z:\\n        return x+y\\n    else:\\n        return x+y+z\\n\\nadd_numbers(2,3,2,True)\\n#add_numbers(2,3,flag=True)\",\n  \"def add_numbers(x, y, z=None, flag=False):\\n    if flag:\\n        print('Flag is true')\\n    if not z:\\n        return x+y\\n    else:\\n        return x+y+z\\n\\n#add_numbers(2,3,2,True)\\nadd_numbers(2,3,flag=True,z=100)\",\n  \"def add_numbers(x, y, z=None, flag=False):\\n    if flag:\\n        print('Flag is true')\\n    if not z:\\n        return x+y\\n    else:\\n        return x+y+z\\n\\n#add_numbers(2,3,2,True)\\nergebnis = add_numbers(2,3,flag=True,z=100)\\nergebnis\",\n  \"def add_numbers(x, y, z=None, flag=False):\\n    if flag:\\n        print('Flag is true')\\n    if not z:\\n        return x+y\\n    else:\\n        return x+y+z\\n\\n#add_numbers(2,3,2,True)\\nergebnis = add_numbers(2,3,flag=True,z=100)\\nadd_numbers('a','b')\",\n  \"def add_numbers(x, y, z=None, flag=False):\\n  if flag:\\n        print('Flag is true')\\n    if not z:\\n        return x+y\\n    else:\\n        return x+y+z\\n\\n#add_numbers(2,3,2,True)\\nergebnis = add_numbers(2,3,flag=True,z=100)\\nadd_numbers('a','b')\",\n  \"def add_numbers(x, y, z=None, flag=False):\\n if flag:\\n        print('Flag is true')\\n    if not z:\\n        return x+y\\n    else:\\n        return x+y+z\\n\\n#add_numbers(2,3,2,True)\\nergebnis = add_numbers(2,3,flag=True,z=100)\\nadd_numbers('a','b')\",\n  \"def add_numbers(x, y, z=None, flag=False):\\n    if flag:\\n    print('Flag is true')\\n    if not z:\\n        return x+y\\n    else:\\n        return x+y+z\\n\\n#add_numbers(2,3,2,True)\\nergebnis = add_numbers(2,3,flag=True,z=100)\\nadd_numbers('a','b')\",\n  \"def add_numbers(x, y, z=None, flag=False):\\n    if flag:\\n        print('Flag is true')\\n    if not z:\\n        return x+y\\n    else:\\n        return x+y+z\\n    print('Reached end')\\n\\n#add_numbers(2,3,2,True)\\n#ergebnis = add_numbers(2,3,flag=True,z=100)\\nadd_numbers('a','b')\",\n  \"def add_numbers(x, y, z=None, flag=False):\\n    if flag:\\n        print('Flag is true')\\n    if not z:\\n        return x+y\\n    else:\\n        return x+y+z\\n    print('Reached end')\\n\\n#add_numbers(2,3,2,True)\\n#ergebnis = add_numbers(2,3,flag=True,z=100)\\nadd_numbers('a','b')\",\n  \"def add_numbers(x, y, z=None, flag=None):\\n    if flag:\\n        print('Flag is true')\\n    if not z:\\n        return x+y\\n    else:\\n        return x+y+z\\n    print('Reached end')\\n\\n#add_numbers(2,3,2,True)\\n#ergebnis = add_numbers(2,3,flag=True,z=100)\\nadd_numbers('a','b')\",\n  \"def add_numbers(x, y, z=None, flag=None):\\n    if flag:\\n        print('Flag is true')\\n    if not z:\\n        return x+y\\n    else:\\n        return x+y+z\\n    print('Reached end')\\n\\n#add_numbers(2,3,2,True)\\n#ergebnis = add_numbers(2,3,flag=True,z=100)\\n\\nadd_numbers('a','b', flag='a')\",\n  \"def add_numbers(x, y, z=None, flag=None):\\n    if flag:\\n        print('Flag is true')\\n    if not z:\\n        return x+y\\n    else:\\n        return x+y+z\\n    print('Reached end')\\n\\n#add_numbers(2,3,2,True)\\n#ergebnis = add_numbers(2,3,flag=True,z=100)\\n\\nadd_numbers('a','b', flag=False)\",\n  \"def add_numbers(x, y, z=None, flag=None):\\n    if flag:\\n        print('Flag is true')\\n    if not z:\\n        return x+y\\n    else:\\n        return x+y+z\\n    print('Reached end')\\n\\n#add_numbers(2,3,2,True)\\n#ergebnis = add_numbers(2,3,flag=True,z=100)\\n\\nadd_numbers('a','b', flag=None)\",\n  \"def add_numbers(x, y, z=None, flag=None):\\n    if flag:\\n        print('Flag is true')\\n    if not z:\\n        return x+y\\n    else:\\n        return x+y+z\\n    print('Reached end')\\n\\n#add_numbers(2,3,2,True)\\n#ergebnis = add_numbers(2,3,flag=True,z=100)\\n\\nadd_numbers('a','b', flag=True)\",\n  \"def add_numbers(x, y, z=None, flag=None):\\n    if flag:\\n        print('Flag is true')\\n    if not z:\\n        return x+y\\n    else:\\n        return x+y+z\\n    print('Reached end')\\n\\n#add_numbers(2,3,2,True)\\n#ergebnis = add_numbers(2,3,flag=True,z=100)\\n\\nadd_numbers('a','b', flag=True)\\nbool('a')\",\n  \"def add_numbers(x, y, z=None, flag=None):\\n    if flag:\\n        print('Flag is true')\\n    if not z:\\n        return x+y\\n    else:\\n        return x+y+z\\n    print('Reached end')\\n\\n#add_numbers(2,3,2,True)\\n#ergebnis = add_numbers(2,3,flag=True,z=100)\\n\\n#add_numbers('a','b', flag=True)\\nbool('a')\",\n  \"def add_numbers(x, y, z=None, flag=None):\\n    if flag:\\n        print('Flag is true')\\n    if not z:\\n        return x+y\\n    else:\\n        return x+y+z\\n    print('Reached end')\\n\\n#add_numbers(2,3,2,True)\\n#ergebnis = add_numbers(2,3,flag=True,z=100)\\n\\n#add_numbers('a','b', flag=True)\\nbool('')\",\n  \"def add_numbers(x, y, z=None, flag=None):\\n    if flag:\\n        print('Flag is true')\\n    if not z:\\n        return x+y\\n    else:\\n        return x+y+z\\n    print('Reached end')\\n\\n#add_numbers(2,3,2,True)\\n#ergebnis = add_numbers(2,3,flag=True,z=100)\\n\\n#add_numbers('a','b', flag=True)\\nbool(None)\",\n  \"def add_numbers(x, y, z=None, flag=None):\\n    if flag:\\n        print('Flag is true')\\n    if not z:\\n        return x+y\\n    else:\\n        return x+y+z\\n    print('Reached end')\\n\\n#add_numbers(2,3,2,True)\\n#ergebnis = add_numbers(2,3,flag=True,z=100)\\n\\n#add_numbers('a','b', flag=True)\\n\\nx = ''\\nif x =='':\\n    print('x is empty')\",\n  \"def add_numbers(x, y, z=None, flag=None):\\n    if flag:\\n        print('Flag is true')\\n    if not z:\\n        return x+y\\n    else:\\n        return x+y+z\\n    print('Reached end')\\n\\n#add_numbers(2,3,2,True)\\n#ergebnis = add_numbers(2,3,flag=True,z=100)\\n\\n#add_numbers('a','b', flag=True)\\n\\nx = ''\\nif x:\\n    print('x is empty')\",\n  \"def add_numbers(x, y, z=None, flag=None):\\n    if flag:\\n        print('Flag is true')\\n    if not z:\\n        return x+y\\n    else:\\n        return x+y+z\\n    print('Reached end')\\n\\n#add_numbers(2,3,2,True)\\n#ergebnis = add_numbers(2,3,flag=True,z=100)\\n\\n#add_numbers('a','b', flag=True)\\n\\nx = ''\\nif not x:\\n    print('x is empty')\",\n  \"def add_numbers(x, y, z=None, flag=None):\\n    if flag:\\n        print('Flag is true')\\n    if not z:\\n        return x+y\\n    else:\\n        return x+y+z\\n    print('Reached end')\\n\\n#add_numbers(2,3,2,True)\\n#ergebnis = add_numbers(2,3,flag=True,z=100)\\n\\n#add_numbers('a','b', flag=True)\\n\\nx = 123\\nif x:\\n    print('x has a value')\",\n  \"def add_numbers(x, y, z=None, flag=None):\\n    if flag:\\n        print('Flag is true')\\n    if not z:\\n        return x+y\\n    else:\\n        return x+y+z\\n    print('Reached end')\\n\\n#add_numbers(2,3,2,True)\\n#ergebnis = add_numbers(2,3,flag=True,z=100)\\n\\n#add_numbers('a','b', flag=True)\\n\\nx = 123\\nif x > 0:\\n    print('x has a value')\",\n  \"def add_numbers(x, y, z=None, flag=None):\\n    if flag:\\n        print('Flag is true')\\n    if not z:\\n        return x+y\\n    else:\\n        return x+y+z\\n    print('Reached end')\\n\\n#add_numbers(2,3,2,True)\\n#ergebnis = add_numbers(2,3,flag=True,z=100)\\n\\n#add_numbers('a','b', flag=True)\\n\\nx = 123\\nif x != 0:\\n    print('x has a value')\",\n  \"def add_numbers(x, y, z=None, flag=False):\\n    if flag:\\n        print('Flag is true')\\n    if not z:\\n        return x+y\\n    else:\\n        return x+y+z\\n    print('Reached end')\\n\\n#add_numbers(2,3,2,True)\\n#ergebnis = add_numbers(2,3,flag=True,z=100)\\n\\n#add_numbers('a','b', flag=True)\",\n  \"def add_numbers(x, y, z=None, flag):\\n    if flag:\\n        print('Flag is true')\\n    if not z:\\n        return x+y\\n    else:\\n        return x+y+z\\n    print('Reached end')\\n\\n#add_numbers(2,3,2,True)\\n#ergebnis = add_numbers(2,3,flag=True,z=100)\\n\\n#add_numbers('a','b', flag=True)\",\n  \"def add_numbers(x, y, z=None, flag=False):\\n    if flag:\\n        print('Flag is true')\\n    if not z:\\n        return x+y\\n    else:\\n        return x+y+z\\n    print('Reached end')\\n\\n#add_numbers(2,3,2,True)\\n#ergebnis = add_numbers(2,3,flag=True,z=100)\\n\\n#add_numbers('a','b', flag=True)\",\n  \"def add_numbers(x=1, y, z=None, flag=False):\\n    if flag:\\n        print('Flag is true')\\n    if not z:\\n        return x+y\\n    else:\\n        return x+y+z\\n    print('Reached end')\\n\\n#add_numbers(2,3,2,True)\\n#ergebnis = add_numbers(2,3,flag=True,z=100)\\n\\n#add_numbers('a','b', flag=True)\",\n  \"def add_numbers(x, y, z=None, flag=False):\\n    if flag:\\n        print('Flag is true')\\n    if not z:\\n        return x+y\\n    else:\\n        return x+y+z\\n    print('Reached end')\\n\\n#add_numbers(2,3,2,True)\\n#ergebnis = add_numbers(2,3,flag=True,z=100)\\n\\n#add_numbers('a','b', flag=True)\",\n  \"def add_numbers(x, y, z=None, flag=False):\\n    if flag:\\n        print('Flag is true')\\n    if not z:\\n        return x+y\\n    else:\\n        return x+y+z\\n    print('Reached end')\\n\\n#add_numbers(2,3,2,True)\\n#ergebnis = add_numbers(2,3,flag=True,z=100)\\n\\n#add_numbers('a','b', flag=True)\",\n  \"def add_numbers(x, y, z=None, flag=False):\\n    if flag:\\n        print('Flag is true')\\n    if not z:\\n        return x+y\\n    else:\\n        return x+y+z\\n    print('Reached end')\\n\\nadd_numbers(10,5, flag=True,z=10)\\n#add_numbers(2,3,2,True)\\n#ergebnis = add_numbers(2,3,flag=True,z=100)\\n\\n#add_numbers('a','b', flag=True)\",\n  \"def add_numbers(x, y, z=None, flag=False):\\n    if flag:\\n        print('Flag is true')\\n    if not z:\\n        return x+y\\n    else:\\n        return x+y+z\\nadd_numbers(10,5, flag=True,z=10)\\n#add_numbers(2,3,2,True)\\n#ergebnis = add_numbers(2,3,flag=True,z=100)\\n\\n#add_numbers('a','b', flag=True)\",\n  \"def add_numbers(x, y, z=None, flag=False):\\n    if flag:\\n        print('Flag is true')\\n    if not z:\\n        return x+y\\n    else:\\n        return x+y+z\\n\\nergebnis = add_numbers(10,5, flag=True,z=10)\\nprint(ergebnis)\\n#add_numbers(2,3,2,True)\\n#ergebnis = add_numbers(2,3,flag=True,z=100)\\n\\n#add_numbers('a','b', flag=True)\",\n  \"def add_numbers(x, y, z=None, flag=False):\\n    if flag:\\n        print('Flag is true')\\n    if not z:\\n        return x+y\\n    else:\\n        return x+y+z\\n\\nergebnis = add_numbers(10,5, flag=True,z=10)\\ntype(ergebnis)\\n#add_numbers(2,3,2,True)\\n#ergebnis = add_numbers(2,3,flag=True,z=100)\\n\\n#add_numbers('a','b', flag=True)\",\n  \"def add_numbers(x, y, z=None, flag=False):\\n    if flag:\\n        print('Flag is true')\\n    if not z:\\n        return x+y\\n    else:\\n        return x+y+z\\n\\nergebnis = add_numbers(10.0,5, flag=True,z=10)\\ntype(ergebnis)\\n#add_numbers(2,3,2,True)\\n#ergebnis = add_numbers(2,3,flag=True,z=100)\\n\\n#add_numbers('a','b', flag=True)\",\n  \"def add_numbers(x, y, z=None, flag=False):\\n    if flag:\\n        print('Flag is true')\\n    if not z:\\n        return x+y\\n    else:\\n        return x+y+z\\n\\nergebnis = add_numbers(10.0,5, flag=True,z=10)\\ntype(ergebnis)\\nergebnis\\n#add_numbers(2,3,2,True)\\n#ergebnis = add_numbers(2,3,flag=True,z=100)\\n\\n#add_numbers('a','b', flag=True)\",\n  'type(add_numbers)',\n  'func = add_numbers\\nfunc(1,2,3)',\n  \"def add_numbers(x, y, z=None, flag=False):\\n    if flag:\\n        print('Flag is true')\\n    if not z:\\n        return x+y\\n    else:\\n        return x+y+z\\n\\nergebnis = add_numbers(10.0,5, flag=True,z=10)\\nadd_numbers(2, 'a')\\n#add_numbers(2,3,2,True)\\n#ergebnis = add_numbers(2,3,flag=True,z=100)\\n\\n#add_numbers('a','b', flag=True)\",\n  \"def add_numbers(x, y, z=None, flag=False):\\n    if flag:\\n        print('Flag is true')\\n    if not z:\\n        return x+y\\n    else:\\n        return x+y+z\\n\\n#ergebnis = add_numbers(10.0,5, flag=True,z=10)\\nadd_numbers(2, 'a', 0, True)\\n#add_numbers(2,3,2,True)\\n#ergebnis = add_numbers(2,3,flag=True,z=100)\\n\\n#add_numbers('a','b', flag=True)\",\n  \"def add_numbers(x, y, z=None, flag=False):\\n    if flag:\\n        print('Flag is true')\\n    if not z:\\n        return x+y\\n    else:\\n        return x+y+z\\n\\n#ergebnis = add_numbers(10.0,5, flag=True,z=10)\\n#add_numbers(2, 'a', 0, True)\\n'a' + 2\\n#add_numbers(2,3,2,True)\\n#ergebnis = add_numbers(2,3,flag=True,z=100)\\n\\n#add_numbers('a','b', flag=True)\",\n  \"def add_numbers(x, y, z=None, flag=False):\\n    if flag:\\n        print('Flag is true')\\n    if not z:\\n        return x+y\\n    else:\\n        return x+y+z\\n\\n#ergebnis = add_numbers(10.0,5, flag=True,z=10)\\n#add_numbers(2, 'a', 0, True)\\n2 + 'a'\\n#add_numbers(2,3,2,True)\\n#ergebnis = add_numbers(2,3,flag=True,z=100)\\n\\n#add_numbers('a','b', flag=True)\",\n  \"def add_numbers(x, y, z=None, flag=False):\\n    if flag:\\n        print('Flag is true')\\n    if not z:\\n        return x+y\\n    else:\\n        return x+y+z\\n\\n#ergebnis = add_numbers(10.0,5, flag=True,z=10)\\n#add_numbers(2, 'a', 0, True)\\n#2 + 'a'\\n'hallo ' + 'welt'\\n#add_numbers(2,3,2,True)\\n#ergebnis = add_numbers(2,3,flag=True,z=100)\\n\\n#add_numbers('a','b', flag=True)\",\n  \"def add_numbers(x, y, z=None, flag=False):\\n    if flag:\\n        print('Flag is true')\\n    if not z:\\n        return x+y\\n    else:\\n        return x+y+z\\n\\n#ergebnis = add_numbers(10.0,5, flag=True,z=10)\\n#add_numbers(2, 'a', 0, True)\\n#2 + 'a'\\n'hallo ' + 'welt'\\nadd_numbers('2','a')\\n#add_numbers(2,3,2,True)\\n#ergebnis = add_numbers(2,3,flag=True,z=100)\\n\\n#add_numbers('a','b', flag=True)\",\n  \"def add_numbers(x=1, y, z=None, flag=False):\\n    if flag:\\n        print('Flag is true')\\n    if not z:\\n        return x+y\\n    else:\\n        return x+y+z\\n\\n#ergebnis = add_numbers(10.0,5, flag=True,z=10)\\n#add_numbers(2, 'a', 0, True)\\n#2 + 'a'\\n'hallo ' + 'welt'\\nadd_numbers('2','a')\\n#add_numbers(2,3,2,True)\\n#ergebnis = add_numbers(2,3,flag=True,z=100)\\n\\n#add_numbers('a','b', flag=True)\",\n  \"def add_numbers(x=1, y, z=None, flag=False):\\n    if flag:\\n        print('Flag is true')\\n    if not z:\\n        return x+y\\n    else:\\n        return x+y+z\\n\\n#ergebnis = add_numbers(10.0,5, flag=True,z=10)\\n#add_numbers(2, 'a', 0, True)\\n#2 + 'a'\\n'hallo ' + 'welt'\\nadd_numbers('2','a')\\n#add_numbers(2,3,2,True)\\n#ergebnis = add_numbers(2,3,flag=True,z=100)\\n\\n#add_numbers('a','b', flag=True)\",\n  \"def add_numbers(x=1, y, z=None, flag=False):\\n    if flag:\\n        print('Flag is true')\\n    if not z:\\n        return x+y\\n    else:\\n        return x+y+z\\n\\n#ergebnis = add_numbers(10.0,5, flag=True,z=10)\\n#add_numbers(2, 'a', 0, True)\\n#2 + 'a'\\n'hallo ' + 'welt'\\nadd_numbers('2','a')\\n#add_numbers(2,3,2,True)\\n#ergebnis = add_numbers(2,3,flag=True,z=100)\\n\\n#add_numbers('a','b', flag=True)\",\n  \"def add_numbers(x=1, y, z=None, flag=False):\\n    if flag:\\n        print('Flag is true')\\n    if not z:\\n        return x+y\\n    else:\\n        return x+y+z\\n\\n#ergebnis = add_numbers(10.0,5, flag=True,z=10)\\n#add_numbers(2, 'a', 0, True)\\n#2 + 'a'\\n'hallo ' + 'welt'\\nadd_numbers('2','a')\\n#add_numbers(2,3,2,True)\\n#ergebnis = add_numbers(2,3,flag=True,z=100)\\n\\n#add_numbers('a','b', flag=True)\",\n  \"def add_numbers(x=1, y, z=None, flag=False):\\n    if flag:\\n        print('Flag is true')\\n    if not z:\\n        return x+y\\n    else:\\n        return x+y+z\\n\\n#ergebnis = add_numbers(10.0,5, flag=True,z=10)\\n#add_numbers(2, 'a', 0, True)\\n#2 + 'a'\\n'hallo ' + 'welt'\\nadd_numbers('2','a')\\n#add_numbers(2,3,2,True)\\n#ergebnis = add_numbers(2,3,flag=True,z=100)\\n\\n#add_numbers('a','b', flag=True)\",\n  \"def add_numbers(x, y, z=None, flag=False):\\n if flag:\\n        print('Flag is true')\\n    if not z:\\n        return x+y\\n    else:\\n        return x+y+z\\n\\n#ergebnis = add_numbers(10.0,5, flag=True,z=10)\\n#add_numbers(2, 'a', 0, True)\\n#2 + 'a'\\n'hallo ' + 'welt'\\nadd_numbers('2','a')\\n#add_numbers(2,3,2,True)\\n#ergebnis = add_numbers(2,3,flag=True,z=100)\\n\\n#add_numbers('a','b', flag=True)\",\n  \"def add_numbers(x, y, z=None, flag=False):\\n    if flag:\\n        print('Flag is true')\\n    if not z:\\n        return x+y\\n    else:\\n        return x+y+z\\n\\n#ergebnis = add_numbers(10.0,5, flag=True,z=10)\\n#add_numbers(2, 'a', 0, True)\\n#2 + 'a'\\n'hallo ' + 'welt'\\nadd_numbers('2','a')\\n#add_numbers(2,3,2,True)\\n#ergebnis = add_numbers(2,3,flag=True,z=100)\\n\\n#add_numbers('a','b', flag=True)\",\n  'globals()',\n  'locals()'],\n '_oh': {3: int,\n  6: 5,\n  10: 5,\n  11: 'ab',\n  15: 6,\n  17: 3,\n  19: 5,\n  25: 5,\n  26: 5,\n  27: 5,\n  28: 5,\n  29: 7,\n  30: 105,\n  31: 105,\n  32: 'ab',\n  38: 'ab',\n  39: 'ab',\n  40: 'ab',\n  41: 'ab',\n  42: 'ab',\n  43: 'ab',\n  44: 'ab',\n  45: True,\n  46: True,\n  47: False,\n  48: False,\n  61: 25,\n  62: 25,\n  64: int,\n  65: float,\n  66: 25.0,\n  67: function,\n  68: 6,\n  73: 'hallo welt',\n  74: '2a',\n  82: '2a',\n  83: {...}},\n '_dh': ['C:\\\\Users\\\\Moh\\\\Documents\\\\FHWN\\\\fh_github\\\\dqda\\\\class\\\\introduction'],\n 'In': ['',\n  'import this',\n  'x = 3',\n  'x = 3\\ntype(x)',\n  \"print('Hallo')\",\n  'def add_numbers(x, y):\\n    return x+y',\n  'add_numbers(2,3)',\n  'def add_numbers(x, y):\\n    x+y',\n  'add_numbers(2,3)',\n  'def add_numbers(x, y):\\n    return x+y',\n  'add_numbers(2,3)',\n  \"add_numbers('a','b')\",\n  'add_numbers(1,2,3)',\n  'add_numbers(2)',\n  'def add_numbers(x, y, z):\\n    return x+y+z',\n  'add_numbers(1,2,3)',\n  'def add_numbers(x,y,z=0):\\n    return x+y+z',\n  'add_numbers(1,2)',\n  'def add_numbers(x,y,z=2):\\n    return x+y+z',\n  'add_numbers(1,2)',\n  'def add_numbers(x,y,z=0):\\n    return x+y+z',\n  'def add_numbers(x, y, z=None, flag=False):\\n    return ',\n  'add_numbers(1)',\n  'add_numbers(2,3)',\n  'add_numbers(1,2,3,4)',\n  \"def add_numbers(x, y, z=None, flag=False):\\n    if flag:\\n        print('Flag is true')\\n    if not z:\\n        return x+y\\n    else:\\n        return x+y+z\\n\\nadd_numbers(2,3)\",\n  \"def add_numbers(x, y, z=None, flag=False):\\n    if flag:\\n        print('Flag is true')\\n    if not z:\\n        return x+y\\n    else:\\n        return x+y+z\\n\\nadd_numbers(2,3,0,True)\",\n  \"def add_numbers(x, y, z=None, flag=False):\\n    if flag:\\n        print('Flag is true')\\n    if not z:\\n        return x+y\\n    else:\\n        return x+y+z\\n\\nadd_numbers(2,3,0,True)\\nadd_numbers(2,3,flag=True)\",\n  \"def add_numbers(x, y, z=None, flag=False):\\n    if flag:\\n        print('Flag is true')\\n    if not z:\\n        return x+y\\n    else:\\n        return x+y+z\\n\\n#add_numbers(2,3,0,True)\\nadd_numbers(2,3,flag=True)\",\n  \"def add_numbers(x, y, z=None, flag=False):\\n    if flag:\\n        print('Flag is true')\\n    if not z:\\n        return x+y\\n    else:\\n        return x+y+z\\n\\nadd_numbers(2,3,2,True)\\n#add_numbers(2,3,flag=True)\",\n  \"def add_numbers(x, y, z=None, flag=False):\\n    if flag:\\n        print('Flag is true')\\n    if not z:\\n        return x+y\\n    else:\\n        return x+y+z\\n\\n#add_numbers(2,3,2,True)\\nadd_numbers(2,3,flag=True,z=100)\",\n  \"def add_numbers(x, y, z=None, flag=False):\\n    if flag:\\n        print('Flag is true')\\n    if not z:\\n        return x+y\\n    else:\\n        return x+y+z\\n\\n#add_numbers(2,3,2,True)\\nergebnis = add_numbers(2,3,flag=True,z=100)\\nergebnis\",\n  \"def add_numbers(x, y, z=None, flag=False):\\n    if flag:\\n        print('Flag is true')\\n    if not z:\\n        return x+y\\n    else:\\n        return x+y+z\\n\\n#add_numbers(2,3,2,True)\\nergebnis = add_numbers(2,3,flag=True,z=100)\\nadd_numbers('a','b')\",\n  \"def add_numbers(x, y, z=None, flag=False):\\n  if flag:\\n        print('Flag is true')\\n    if not z:\\n        return x+y\\n    else:\\n        return x+y+z\\n\\n#add_numbers(2,3,2,True)\\nergebnis = add_numbers(2,3,flag=True,z=100)\\nadd_numbers('a','b')\",\n  \"def add_numbers(x, y, z=None, flag=False):\\n if flag:\\n        print('Flag is true')\\n    if not z:\\n        return x+y\\n    else:\\n        return x+y+z\\n\\n#add_numbers(2,3,2,True)\\nergebnis = add_numbers(2,3,flag=True,z=100)\\nadd_numbers('a','b')\",\n  \"def add_numbers(x, y, z=None, flag=False):\\n    if flag:\\n    print('Flag is true')\\n    if not z:\\n        return x+y\\n    else:\\n        return x+y+z\\n\\n#add_numbers(2,3,2,True)\\nergebnis = add_numbers(2,3,flag=True,z=100)\\nadd_numbers('a','b')\",\n  \"def add_numbers(x, y, z=None, flag=False):\\n    if flag:\\n        print('Flag is true')\\n    if not z:\\n        return x+y\\n    else:\\n        return x+y+z\\n    print('Reached end')\\n\\n#add_numbers(2,3,2,True)\\n#ergebnis = add_numbers(2,3,flag=True,z=100)\\nadd_numbers('a','b')\",\n  \"def add_numbers(x, y, z=None, flag=False):\\n    if flag:\\n        print('Flag is true')\\n    if not z:\\n        return x+y\\n    else:\\n        return x+y+z\\n    print('Reached end')\\n\\n#add_numbers(2,3,2,True)\\n#ergebnis = add_numbers(2,3,flag=True,z=100)\\nadd_numbers('a','b')\",\n  \"def add_numbers(x, y, z=None, flag=None):\\n    if flag:\\n        print('Flag is true')\\n    if not z:\\n        return x+y\\n    else:\\n        return x+y+z\\n    print('Reached end')\\n\\n#add_numbers(2,3,2,True)\\n#ergebnis = add_numbers(2,3,flag=True,z=100)\\nadd_numbers('a','b')\",\n  \"def add_numbers(x, y, z=None, flag=None):\\n    if flag:\\n        print('Flag is true')\\n    if not z:\\n        return x+y\\n    else:\\n        return x+y+z\\n    print('Reached end')\\n\\n#add_numbers(2,3,2,True)\\n#ergebnis = add_numbers(2,3,flag=True,z=100)\\n\\nadd_numbers('a','b', flag='a')\",\n  \"def add_numbers(x, y, z=None, flag=None):\\n    if flag:\\n        print('Flag is true')\\n    if not z:\\n        return x+y\\n    else:\\n        return x+y+z\\n    print('Reached end')\\n\\n#add_numbers(2,3,2,True)\\n#ergebnis = add_numbers(2,3,flag=True,z=100)\\n\\nadd_numbers('a','b', flag=False)\",\n  \"def add_numbers(x, y, z=None, flag=None):\\n    if flag:\\n        print('Flag is true')\\n    if not z:\\n        return x+y\\n    else:\\n        return x+y+z\\n    print('Reached end')\\n\\n#add_numbers(2,3,2,True)\\n#ergebnis = add_numbers(2,3,flag=True,z=100)\\n\\nadd_numbers('a','b', flag=None)\",\n  \"def add_numbers(x, y, z=None, flag=None):\\n    if flag:\\n        print('Flag is true')\\n    if not z:\\n        return x+y\\n    else:\\n        return x+y+z\\n    print('Reached end')\\n\\n#add_numbers(2,3,2,True)\\n#ergebnis = add_numbers(2,3,flag=True,z=100)\\n\\nadd_numbers('a','b', flag=True)\",\n  \"def add_numbers(x, y, z=None, flag=None):\\n    if flag:\\n        print('Flag is true')\\n    if not z:\\n        return x+y\\n    else:\\n        return x+y+z\\n    print('Reached end')\\n\\n#add_numbers(2,3,2,True)\\n#ergebnis = add_numbers(2,3,flag=True,z=100)\\n\\nadd_numbers('a','b', flag=True)\\nbool('a')\",\n  \"def add_numbers(x, y, z=None, flag=None):\\n    if flag:\\n        print('Flag is true')\\n    if not z:\\n        return x+y\\n    else:\\n        return x+y+z\\n    print('Reached end')\\n\\n#add_numbers(2,3,2,True)\\n#ergebnis = add_numbers(2,3,flag=True,z=100)\\n\\n#add_numbers('a','b', flag=True)\\nbool('a')\",\n  \"def add_numbers(x, y, z=None, flag=None):\\n    if flag:\\n        print('Flag is true')\\n    if not z:\\n        return x+y\\n    else:\\n        return x+y+z\\n    print('Reached end')\\n\\n#add_numbers(2,3,2,True)\\n#ergebnis = add_numbers(2,3,flag=True,z=100)\\n\\n#add_numbers('a','b', flag=True)\\nbool('')\",\n  \"def add_numbers(x, y, z=None, flag=None):\\n    if flag:\\n        print('Flag is true')\\n    if not z:\\n        return x+y\\n    else:\\n        return x+y+z\\n    print('Reached end')\\n\\n#add_numbers(2,3,2,True)\\n#ergebnis = add_numbers(2,3,flag=True,z=100)\\n\\n#add_numbers('a','b', flag=True)\\nbool(None)\",\n  \"def add_numbers(x, y, z=None, flag=None):\\n    if flag:\\n        print('Flag is true')\\n    if not z:\\n        return x+y\\n    else:\\n        return x+y+z\\n    print('Reached end')\\n\\n#add_numbers(2,3,2,True)\\n#ergebnis = add_numbers(2,3,flag=True,z=100)\\n\\n#add_numbers('a','b', flag=True)\\n\\nx = ''\\nif x =='':\\n    print('x is empty')\",\n  \"def add_numbers(x, y, z=None, flag=None):\\n    if flag:\\n        print('Flag is true')\\n    if not z:\\n        return x+y\\n    else:\\n        return x+y+z\\n    print('Reached end')\\n\\n#add_numbers(2,3,2,True)\\n#ergebnis = add_numbers(2,3,flag=True,z=100)\\n\\n#add_numbers('a','b', flag=True)\\n\\nx = ''\\nif x:\\n    print('x is empty')\",\n  \"def add_numbers(x, y, z=None, flag=None):\\n    if flag:\\n        print('Flag is true')\\n    if not z:\\n        return x+y\\n    else:\\n        return x+y+z\\n    print('Reached end')\\n\\n#add_numbers(2,3,2,True)\\n#ergebnis = add_numbers(2,3,flag=True,z=100)\\n\\n#add_numbers('a','b', flag=True)\\n\\nx = ''\\nif not x:\\n    print('x is empty')\",\n  \"def add_numbers(x, y, z=None, flag=None):\\n    if flag:\\n        print('Flag is true')\\n    if not z:\\n        return x+y\\n    else:\\n        return x+y+z\\n    print('Reached end')\\n\\n#add_numbers(2,3,2,True)\\n#ergebnis = add_numbers(2,3,flag=True,z=100)\\n\\n#add_numbers('a','b', flag=True)\\n\\nx = 123\\nif x:\\n    print('x has a value')\",\n  \"def add_numbers(x, y, z=None, flag=None):\\n    if flag:\\n        print('Flag is true')\\n    if not z:\\n        return x+y\\n    else:\\n        return x+y+z\\n    print('Reached end')\\n\\n#add_numbers(2,3,2,True)\\n#ergebnis = add_numbers(2,3,flag=True,z=100)\\n\\n#add_numbers('a','b', flag=True)\\n\\nx = 123\\nif x > 0:\\n    print('x has a value')\",\n  \"def add_numbers(x, y, z=None, flag=None):\\n    if flag:\\n        print('Flag is true')\\n    if not z:\\n        return x+y\\n    else:\\n        return x+y+z\\n    print('Reached end')\\n\\n#add_numbers(2,3,2,True)\\n#ergebnis = add_numbers(2,3,flag=True,z=100)\\n\\n#add_numbers('a','b', flag=True)\\n\\nx = 123\\nif x != 0:\\n    print('x has a value')\",\n  \"def add_numbers(x, y, z=None, flag=False):\\n    if flag:\\n        print('Flag is true')\\n    if not z:\\n        return x+y\\n    else:\\n        return x+y+z\\n    print('Reached end')\\n\\n#add_numbers(2,3,2,True)\\n#ergebnis = add_numbers(2,3,flag=True,z=100)\\n\\n#add_numbers('a','b', flag=True)\",\n  \"def add_numbers(x, y, z=None, flag):\\n    if flag:\\n        print('Flag is true')\\n    if not z:\\n        return x+y\\n    else:\\n        return x+y+z\\n    print('Reached end')\\n\\n#add_numbers(2,3,2,True)\\n#ergebnis = add_numbers(2,3,flag=True,z=100)\\n\\n#add_numbers('a','b', flag=True)\",\n  \"def add_numbers(x, y, z=None, flag=False):\\n    if flag:\\n        print('Flag is true')\\n    if not z:\\n        return x+y\\n    else:\\n        return x+y+z\\n    print('Reached end')\\n\\n#add_numbers(2,3,2,True)\\n#ergebnis = add_numbers(2,3,flag=True,z=100)\\n\\n#add_numbers('a','b', flag=True)\",\n  \"def add_numbers(x=1, y, z=None, flag=False):\\n    if flag:\\n        print('Flag is true')\\n    if not z:\\n        return x+y\\n    else:\\n        return x+y+z\\n    print('Reached end')\\n\\n#add_numbers(2,3,2,True)\\n#ergebnis = add_numbers(2,3,flag=True,z=100)\\n\\n#add_numbers('a','b', flag=True)\",\n  \"def add_numbers(x, y, z=None, flag=False):\\n    if flag:\\n        print('Flag is true')\\n    if not z:\\n        return x+y\\n    else:\\n        return x+y+z\\n    print('Reached end')\\n\\n#add_numbers(2,3,2,True)\\n#ergebnis = add_numbers(2,3,flag=True,z=100)\\n\\n#add_numbers('a','b', flag=True)\",\n  \"def add_numbers(x, y, z=None, flag=False):\\n    if flag:\\n        print('Flag is true')\\n    if not z:\\n        return x+y\\n    else:\\n        return x+y+z\\n    print('Reached end')\\n\\n#add_numbers(2,3,2,True)\\n#ergebnis = add_numbers(2,3,flag=True,z=100)\\n\\n#add_numbers('a','b', flag=True)\",\n  \"def add_numbers(x, y, z=None, flag=False):\\n    if flag:\\n        print('Flag is true')\\n    if not z:\\n        return x+y\\n    else:\\n        return x+y+z\\n    print('Reached end')\\n\\nadd_numbers(10,5, flag=True,z=10)\\n#add_numbers(2,3,2,True)\\n#ergebnis = add_numbers(2,3,flag=True,z=100)\\n\\n#add_numbers('a','b', flag=True)\",\n  \"def add_numbers(x, y, z=None, flag=False):\\n    if flag:\\n        print('Flag is true')\\n    if not z:\\n        return x+y\\n    else:\\n        return x+y+z\\nadd_numbers(10,5, flag=True,z=10)\\n#add_numbers(2,3,2,True)\\n#ergebnis = add_numbers(2,3,flag=True,z=100)\\n\\n#add_numbers('a','b', flag=True)\",\n  \"def add_numbers(x, y, z=None, flag=False):\\n    if flag:\\n        print('Flag is true')\\n    if not z:\\n        return x+y\\n    else:\\n        return x+y+z\\n\\nergebnis = add_numbers(10,5, flag=True,z=10)\\nprint(ergebnis)\\n#add_numbers(2,3,2,True)\\n#ergebnis = add_numbers(2,3,flag=True,z=100)\\n\\n#add_numbers('a','b', flag=True)\",\n  \"def add_numbers(x, y, z=None, flag=False):\\n    if flag:\\n        print('Flag is true')\\n    if not z:\\n        return x+y\\n    else:\\n        return x+y+z\\n\\nergebnis = add_numbers(10,5, flag=True,z=10)\\ntype(ergebnis)\\n#add_numbers(2,3,2,True)\\n#ergebnis = add_numbers(2,3,flag=True,z=100)\\n\\n#add_numbers('a','b', flag=True)\",\n  \"def add_numbers(x, y, z=None, flag=False):\\n    if flag:\\n        print('Flag is true')\\n    if not z:\\n        return x+y\\n    else:\\n        return x+y+z\\n\\nergebnis = add_numbers(10.0,5, flag=True,z=10)\\ntype(ergebnis)\\n#add_numbers(2,3,2,True)\\n#ergebnis = add_numbers(2,3,flag=True,z=100)\\n\\n#add_numbers('a','b', flag=True)\",\n  \"def add_numbers(x, y, z=None, flag=False):\\n    if flag:\\n        print('Flag is true')\\n    if not z:\\n        return x+y\\n    else:\\n        return x+y+z\\n\\nergebnis = add_numbers(10.0,5, flag=True,z=10)\\ntype(ergebnis)\\nergebnis\\n#add_numbers(2,3,2,True)\\n#ergebnis = add_numbers(2,3,flag=True,z=100)\\n\\n#add_numbers('a','b', flag=True)\",\n  'type(add_numbers)',\n  'func = add_numbers\\nfunc(1,2,3)',\n  \"def add_numbers(x, y, z=None, flag=False):\\n    if flag:\\n        print('Flag is true')\\n    if not z:\\n        return x+y\\n    else:\\n        return x+y+z\\n\\nergebnis = add_numbers(10.0,5, flag=True,z=10)\\nadd_numbers(2, 'a')\\n#add_numbers(2,3,2,True)\\n#ergebnis = add_numbers(2,3,flag=True,z=100)\\n\\n#add_numbers('a','b', flag=True)\",\n  \"def add_numbers(x, y, z=None, flag=False):\\n    if flag:\\n        print('Flag is true')\\n    if not z:\\n        return x+y\\n    else:\\n        return x+y+z\\n\\n#ergebnis = add_numbers(10.0,5, flag=True,z=10)\\nadd_numbers(2, 'a', 0, True)\\n#add_numbers(2,3,2,True)\\n#ergebnis = add_numbers(2,3,flag=True,z=100)\\n\\n#add_numbers('a','b', flag=True)\",\n  \"def add_numbers(x, y, z=None, flag=False):\\n    if flag:\\n        print('Flag is true')\\n    if not z:\\n        return x+y\\n    else:\\n        return x+y+z\\n\\n#ergebnis = add_numbers(10.0,5, flag=True,z=10)\\n#add_numbers(2, 'a', 0, True)\\n'a' + 2\\n#add_numbers(2,3,2,True)\\n#ergebnis = add_numbers(2,3,flag=True,z=100)\\n\\n#add_numbers('a','b', flag=True)\",\n  \"def add_numbers(x, y, z=None, flag=False):\\n    if flag:\\n        print('Flag is true')\\n    if not z:\\n        return x+y\\n    else:\\n        return x+y+z\\n\\n#ergebnis = add_numbers(10.0,5, flag=True,z=10)\\n#add_numbers(2, 'a', 0, True)\\n2 + 'a'\\n#add_numbers(2,3,2,True)\\n#ergebnis = add_numbers(2,3,flag=True,z=100)\\n\\n#add_numbers('a','b', flag=True)\",\n  \"def add_numbers(x, y, z=None, flag=False):\\n    if flag:\\n        print('Flag is true')\\n    if not z:\\n        return x+y\\n    else:\\n        return x+y+z\\n\\n#ergebnis = add_numbers(10.0,5, flag=True,z=10)\\n#add_numbers(2, 'a', 0, True)\\n#2 + 'a'\\n'hallo ' + 'welt'\\n#add_numbers(2,3,2,True)\\n#ergebnis = add_numbers(2,3,flag=True,z=100)\\n\\n#add_numbers('a','b', flag=True)\",\n  \"def add_numbers(x, y, z=None, flag=False):\\n    if flag:\\n        print('Flag is true')\\n    if not z:\\n        return x+y\\n    else:\\n        return x+y+z\\n\\n#ergebnis = add_numbers(10.0,5, flag=True,z=10)\\n#add_numbers(2, 'a', 0, True)\\n#2 + 'a'\\n'hallo ' + 'welt'\\nadd_numbers('2','a')\\n#add_numbers(2,3,2,True)\\n#ergebnis = add_numbers(2,3,flag=True,z=100)\\n\\n#add_numbers('a','b', flag=True)\",\n  \"def add_numbers(x=1, y, z=None, flag=False):\\n    if flag:\\n        print('Flag is true')\\n    if not z:\\n        return x+y\\n    else:\\n        return x+y+z\\n\\n#ergebnis = add_numbers(10.0,5, flag=True,z=10)\\n#add_numbers(2, 'a', 0, True)\\n#2 + 'a'\\n'hallo ' + 'welt'\\nadd_numbers('2','a')\\n#add_numbers(2,3,2,True)\\n#ergebnis = add_numbers(2,3,flag=True,z=100)\\n\\n#add_numbers('a','b', flag=True)\",\n  \"def add_numbers(x=1, y, z=None, flag=False):\\n    if flag:\\n        print('Flag is true')\\n    if not z:\\n        return x+y\\n    else:\\n        return x+y+z\\n\\n#ergebnis = add_numbers(10.0,5, flag=True,z=10)\\n#add_numbers(2, 'a', 0, True)\\n#2 + 'a'\\n'hallo ' + 'welt'\\nadd_numbers('2','a')\\n#add_numbers(2,3,2,True)\\n#ergebnis = add_numbers(2,3,flag=True,z=100)\\n\\n#add_numbers('a','b', flag=True)\",\n  \"def add_numbers(x=1, y, z=None, flag=False):\\n    if flag:\\n        print('Flag is true')\\n    if not z:\\n        return x+y\\n    else:\\n        return x+y+z\\n\\n#ergebnis = add_numbers(10.0,5, flag=True,z=10)\\n#add_numbers(2, 'a', 0, True)\\n#2 + 'a'\\n'hallo ' + 'welt'\\nadd_numbers('2','a')\\n#add_numbers(2,3,2,True)\\n#ergebnis = add_numbers(2,3,flag=True,z=100)\\n\\n#add_numbers('a','b', flag=True)\",\n  \"def add_numbers(x=1, y, z=None, flag=False):\\n    if flag:\\n        print('Flag is true')\\n    if not z:\\n        return x+y\\n    else:\\n        return x+y+z\\n\\n#ergebnis = add_numbers(10.0,5, flag=True,z=10)\\n#add_numbers(2, 'a', 0, True)\\n#2 + 'a'\\n'hallo ' + 'welt'\\nadd_numbers('2','a')\\n#add_numbers(2,3,2,True)\\n#ergebnis = add_numbers(2,3,flag=True,z=100)\\n\\n#add_numbers('a','b', flag=True)\",\n  \"def add_numbers(x=1, y, z=None, flag=False):\\n    if flag:\\n        print('Flag is true')\\n    if not z:\\n        return x+y\\n    else:\\n        return x+y+z\\n\\n#ergebnis = add_numbers(10.0,5, flag=True,z=10)\\n#add_numbers(2, 'a', 0, True)\\n#2 + 'a'\\n'hallo ' + 'welt'\\nadd_numbers('2','a')\\n#add_numbers(2,3,2,True)\\n#ergebnis = add_numbers(2,3,flag=True,z=100)\\n\\n#add_numbers('a','b', flag=True)\",\n  \"def add_numbers(x, y, z=None, flag=False):\\n if flag:\\n        print('Flag is true')\\n    if not z:\\n        return x+y\\n    else:\\n        return x+y+z\\n\\n#ergebnis = add_numbers(10.0,5, flag=True,z=10)\\n#add_numbers(2, 'a', 0, True)\\n#2 + 'a'\\n'hallo ' + 'welt'\\nadd_numbers('2','a')\\n#add_numbers(2,3,2,True)\\n#ergebnis = add_numbers(2,3,flag=True,z=100)\\n\\n#add_numbers('a','b', flag=True)\",\n  \"def add_numbers(x, y, z=None, flag=False):\\n    if flag:\\n        print('Flag is true')\\n    if not z:\\n        return x+y\\n    else:\\n        return x+y+z\\n\\n#ergebnis = add_numbers(10.0,5, flag=True,z=10)\\n#add_numbers(2, 'a', 0, True)\\n#2 + 'a'\\n'hallo ' + 'welt'\\nadd_numbers('2','a')\\n#add_numbers(2,3,2,True)\\n#ergebnis = add_numbers(2,3,flag=True,z=100)\\n\\n#add_numbers('a','b', flag=True)\",\n  'globals()',\n  'locals()'],\n 'Out': {3: int,\n  6: 5,\n  10: 5,\n  11: 'ab',\n  15: 6,\n  17: 3,\n  19: 5,\n  25: 5,\n  26: 5,\n  27: 5,\n  28: 5,\n  29: 7,\n  30: 105,\n  31: 105,\n  32: 'ab',\n  38: 'ab',\n  39: 'ab',\n  40: 'ab',\n  41: 'ab',\n  42: 'ab',\n  43: 'ab',\n  44: 'ab',\n  45: True,\n  46: True,\n  47: False,\n  48: False,\n  61: 25,\n  62: 25,\n  64: int,\n  65: float,\n  66: 25.0,\n  67: function,\n  68: 6,\n  73: 'hallo welt',\n  74: '2a',\n  82: '2a',\n  83: {...}},\n 'get_ipython': <bound method InteractiveShell.get_ipython of <ipykernel.zmqshell.ZMQInteractiveShell object at 0x0000028276A5E2E0>>,\n 'exit': <IPython.core.autocall.ZMQExitAutocall at 0x28276ac3f40>,\n 'quit': <IPython.core.autocall.ZMQExitAutocall at 0x28276ac3f40>,\n '_': {...},\n '__': '2a',\n '___': '2a',\n '_i': 'globals()',\n '_ii': \"def add_numbers(x, y, z=None, flag=False):\\n    if flag:\\n        print('Flag is true')\\n    if not z:\\n        return x+y\\n    else:\\n        return x+y+z\\n\\n#ergebnis = add_numbers(10.0,5, flag=True,z=10)\\n#add_numbers(2, 'a', 0, True)\\n#2 + 'a'\\n'hallo ' + 'welt'\\nadd_numbers('2','a')\\n#add_numbers(2,3,2,True)\\n#ergebnis = add_numbers(2,3,flag=True,z=100)\\n\\n#add_numbers('a','b', flag=True)\",\n '_iii': \"def add_numbers(x, y, z=None, flag=False):\\n if flag:\\n        print('Flag is true')\\n    if not z:\\n        return x+y\\n    else:\\n        return x+y+z\\n\\n#ergebnis = add_numbers(10.0,5, flag=True,z=10)\\n#add_numbers(2, 'a', 0, True)\\n#2 + 'a'\\n'hallo ' + 'welt'\\nadd_numbers('2','a')\\n#add_numbers(2,3,2,True)\\n#ergebnis = add_numbers(2,3,flag=True,z=100)\\n\\n#add_numbers('a','b', flag=True)\",\n '_i1': 'import this',\n 'this': <module 'this' from 'C:\\\\Users\\\\Moh\\\\anaconda3\\\\lib\\\\this.py'>,\n 'sys': <module 'sys' (built-in)>,\n '_pydevd_bundle': <module '_pydevd_bundle' from 'C:\\\\Program Files\\\\JetBrains\\\\JetBrains DataSpell 213.2094.12\\\\plugins\\\\python-ce\\\\helpers\\\\pydev\\\\_pydevd_bundle\\\\__init__.py'>,\n 'pydev_jupyter_vars': <module 'pydev_jupyter_vars' from 'C:\\\\Program Files\\\\JetBrains\\\\JetBrains DataSpell 213.2094.12\\\\plugins\\\\python-ce\\\\helpers-pro\\\\jupyter_debug\\\\pydev_jupyter_vars.py'>,\n 'DataFrame': pandas.core.frame.DataFrame,\n 'MultiIndex': pandas.core.indexes.multi.MultiIndex,\n 'print_columns': <function __main__.print_columns(name, column_number)>,\n '_i2': 'x = 3',\n 'x': 123,\n '_i3': 'x = 3\\ntype(x)',\n '_3': int,\n '_i4': \"print('Hallo')\",\n '_i5': 'def add_numbers(x, y):\\n    return x+y',\n 'add_numbers': <function __main__.add_numbers(x, y, z=None, flag=False)>,\n '_i6': 'add_numbers(2,3)',\n '_6': 5,\n '_i7': 'def add_numbers(x, y):\\n    x+y',\n '_i8': 'add_numbers(2,3)',\n '_i9': 'def add_numbers(x, y):\\n    return x+y',\n '_i10': 'add_numbers(2,3)',\n '_10': 5,\n '_i11': \"add_numbers('a','b')\",\n '_11': 'ab',\n '_i12': 'add_numbers(1,2,3)',\n '_i13': 'add_numbers(2)',\n '_i14': 'def add_numbers(x, y, z):\\n    return x+y+z',\n '_i15': 'add_numbers(1,2,3)',\n '_15': 6,\n '_i16': 'def add_numbers(x,y,z=0):\\n    return x+y+z',\n '_i17': 'add_numbers(1,2)',\n '_17': 3,\n '_i18': 'def add_numbers(x,y,z=2):\\n    return x+y+z',\n '_i19': 'add_numbers(1,2)',\n '_19': 5,\n '_i20': 'def add_numbers(x,y,z=0):\\n    return x+y+z',\n '_i21': 'def add_numbers(x, y, z=None, flag=False):\\n    return ',\n '_i22': 'add_numbers(1)',\n '_i23': 'add_numbers(2,3)',\n '_i24': 'add_numbers(1,2,3,4)',\n '_i25': \"def add_numbers(x, y, z=None, flag=False):\\n    if flag:\\n        print('Flag is true')\\n    if not z:\\n        return x+y\\n    else:\\n        return x+y+z\\n\\nadd_numbers(2,3)\",\n '_25': 5,\n '_i26': \"def add_numbers(x, y, z=None, flag=False):\\n    if flag:\\n        print('Flag is true')\\n    if not z:\\n        return x+y\\n    else:\\n        return x+y+z\\n\\nadd_numbers(2,3,0,True)\",\n '_26': 5,\n '_i27': \"def add_numbers(x, y, z=None, flag=False):\\n    if flag:\\n        print('Flag is true')\\n    if not z:\\n        return x+y\\n    else:\\n        return x+y+z\\n\\nadd_numbers(2,3,0,True)\\nadd_numbers(2,3,flag=True)\",\n '_27': 5,\n '_i28': \"def add_numbers(x, y, z=None, flag=False):\\n    if flag:\\n        print('Flag is true')\\n    if not z:\\n        return x+y\\n    else:\\n        return x+y+z\\n\\n#add_numbers(2,3,0,True)\\nadd_numbers(2,3,flag=True)\",\n '_28': 5,\n '_i29': \"def add_numbers(x, y, z=None, flag=False):\\n    if flag:\\n        print('Flag is true')\\n    if not z:\\n        return x+y\\n    else:\\n        return x+y+z\\n\\nadd_numbers(2,3,2,True)\\n#add_numbers(2,3,flag=True)\",\n '_29': 7,\n '_i30': \"def add_numbers(x, y, z=None, flag=False):\\n    if flag:\\n        print('Flag is true')\\n    if not z:\\n        return x+y\\n    else:\\n        return x+y+z\\n\\n#add_numbers(2,3,2,True)\\nadd_numbers(2,3,flag=True,z=100)\",\n '_30': 105,\n '_i31': \"def add_numbers(x, y, z=None, flag=False):\\n    if flag:\\n        print('Flag is true')\\n    if not z:\\n        return x+y\\n    else:\\n        return x+y+z\\n\\n#add_numbers(2,3,2,True)\\nergebnis = add_numbers(2,3,flag=True,z=100)\\nergebnis\",\n 'ergebnis': 25.0,\n '_31': 105,\n '_i32': \"def add_numbers(x, y, z=None, flag=False):\\n    if flag:\\n        print('Flag is true')\\n    if not z:\\n        return x+y\\n    else:\\n        return x+y+z\\n\\n#add_numbers(2,3,2,True)\\nergebnis = add_numbers(2,3,flag=True,z=100)\\nadd_numbers('a','b')\",\n '_32': 'ab',\n '_i33': \"def add_numbers(x, y, z=None, flag=False):\\n  if flag:\\n        print('Flag is true')\\n    if not z:\\n        return x+y\\n    else:\\n        return x+y+z\\n\\n#add_numbers(2,3,2,True)\\nergebnis = add_numbers(2,3,flag=True,z=100)\\nadd_numbers('a','b')\",\n '_i35': \"def add_numbers(x, y, z=None, flag=False):\\n if flag:\\n        print('Flag is true')\\n    if not z:\\n        return x+y\\n    else:\\n        return x+y+z\\n\\n#add_numbers(2,3,2,True)\\nergebnis = add_numbers(2,3,flag=True,z=100)\\nadd_numbers('a','b')\",\n '_i37': \"def add_numbers(x, y, z=None, flag=False):\\n    if flag:\\n    print('Flag is true')\\n    if not z:\\n        return x+y\\n    else:\\n        return x+y+z\\n\\n#add_numbers(2,3,2,True)\\nergebnis = add_numbers(2,3,flag=True,z=100)\\nadd_numbers('a','b')\",\n '_i38': \"def add_numbers(x, y, z=None, flag=False):\\n    if flag:\\n        print('Flag is true')\\n    if not z:\\n        return x+y\\n    else:\\n        return x+y+z\\n    print('Reached end')\\n\\n#add_numbers(2,3,2,True)\\n#ergebnis = add_numbers(2,3,flag=True,z=100)\\nadd_numbers('a','b')\",\n '_38': 'ab',\n '_i39': \"def add_numbers(x, y, z=None, flag=False):\\n    if flag:\\n        print('Flag is true')\\n    if not z:\\n        return x+y\\n    else:\\n        return x+y+z\\n    print('Reached end')\\n\\n#add_numbers(2,3,2,True)\\n#ergebnis = add_numbers(2,3,flag=True,z=100)\\nadd_numbers('a','b')\",\n '_39': 'ab',\n '_i40': \"def add_numbers(x, y, z=None, flag=None):\\n    if flag:\\n        print('Flag is true')\\n    if not z:\\n        return x+y\\n    else:\\n        return x+y+z\\n    print('Reached end')\\n\\n#add_numbers(2,3,2,True)\\n#ergebnis = add_numbers(2,3,flag=True,z=100)\\nadd_numbers('a','b')\",\n '_40': 'ab',\n '_i41': \"def add_numbers(x, y, z=None, flag=None):\\n    if flag:\\n        print('Flag is true')\\n    if not z:\\n        return x+y\\n    else:\\n        return x+y+z\\n    print('Reached end')\\n\\n#add_numbers(2,3,2,True)\\n#ergebnis = add_numbers(2,3,flag=True,z=100)\\n\\nadd_numbers('a','b', flag='a')\",\n '_41': 'ab',\n '_i42': \"def add_numbers(x, y, z=None, flag=None):\\n    if flag:\\n        print('Flag is true')\\n    if not z:\\n        return x+y\\n    else:\\n        return x+y+z\\n    print('Reached end')\\n\\n#add_numbers(2,3,2,True)\\n#ergebnis = add_numbers(2,3,flag=True,z=100)\\n\\nadd_numbers('a','b', flag=False)\",\n '_42': 'ab',\n '_i43': \"def add_numbers(x, y, z=None, flag=None):\\n    if flag:\\n        print('Flag is true')\\n    if not z:\\n        return x+y\\n    else:\\n        return x+y+z\\n    print('Reached end')\\n\\n#add_numbers(2,3,2,True)\\n#ergebnis = add_numbers(2,3,flag=True,z=100)\\n\\nadd_numbers('a','b', flag=None)\",\n '_43': 'ab',\n '_i44': \"def add_numbers(x, y, z=None, flag=None):\\n    if flag:\\n        print('Flag is true')\\n    if not z:\\n        return x+y\\n    else:\\n        return x+y+z\\n    print('Reached end')\\n\\n#add_numbers(2,3,2,True)\\n#ergebnis = add_numbers(2,3,flag=True,z=100)\\n\\nadd_numbers('a','b', flag=True)\",\n '_44': 'ab',\n '_i45': \"def add_numbers(x, y, z=None, flag=None):\\n    if flag:\\n        print('Flag is true')\\n    if not z:\\n        return x+y\\n    else:\\n        return x+y+z\\n    print('Reached end')\\n\\n#add_numbers(2,3,2,True)\\n#ergebnis = add_numbers(2,3,flag=True,z=100)\\n\\nadd_numbers('a','b', flag=True)\\nbool('a')\",\n '_45': True,\n '_i46': \"def add_numbers(x, y, z=None, flag=None):\\n    if flag:\\n        print('Flag is true')\\n    if not z:\\n        return x+y\\n    else:\\n        return x+y+z\\n    print('Reached end')\\n\\n#add_numbers(2,3,2,True)\\n#ergebnis = add_numbers(2,3,flag=True,z=100)\\n\\n#add_numbers('a','b', flag=True)\\nbool('a')\",\n '_46': True,\n '_i47': \"def add_numbers(x, y, z=None, flag=None):\\n    if flag:\\n        print('Flag is true')\\n    if not z:\\n        return x+y\\n    else:\\n        return x+y+z\\n    print('Reached end')\\n\\n#add_numbers(2,3,2,True)\\n#ergebnis = add_numbers(2,3,flag=True,z=100)\\n\\n#add_numbers('a','b', flag=True)\\nbool('')\",\n '_47': False,\n '_i48': \"def add_numbers(x, y, z=None, flag=None):\\n    if flag:\\n        print('Flag is true')\\n    if not z:\\n        return x+y\\n    else:\\n        return x+y+z\\n    print('Reached end')\\n\\n#add_numbers(2,3,2,True)\\n#ergebnis = add_numbers(2,3,flag=True,z=100)\\n\\n#add_numbers('a','b', flag=True)\\nbool(None)\",\n '_48': False,\n '_i49': \"def add_numbers(x, y, z=None, flag=None):\\n    if flag:\\n        print('Flag is true')\\n    if not z:\\n        return x+y\\n    else:\\n        return x+y+z\\n    print('Reached end')\\n\\n#add_numbers(2,3,2,True)\\n#ergebnis = add_numbers(2,3,flag=True,z=100)\\n\\n#add_numbers('a','b', flag=True)\\n\\nx = ''\\nif x =='':\\n    print('x is empty')\",\n '_i50': \"def add_numbers(x, y, z=None, flag=None):\\n    if flag:\\n        print('Flag is true')\\n    if not z:\\n        return x+y\\n    else:\\n        return x+y+z\\n    print('Reached end')\\n\\n#add_numbers(2,3,2,True)\\n#ergebnis = add_numbers(2,3,flag=True,z=100)\\n\\n#add_numbers('a','b', flag=True)\\n\\nx = ''\\nif x:\\n    print('x is empty')\",\n '_i51': \"def add_numbers(x, y, z=None, flag=None):\\n    if flag:\\n        print('Flag is true')\\n    if not z:\\n        return x+y\\n    else:\\n        return x+y+z\\n    print('Reached end')\\n\\n#add_numbers(2,3,2,True)\\n#ergebnis = add_numbers(2,3,flag=True,z=100)\\n\\n#add_numbers('a','b', flag=True)\\n\\nx = ''\\nif not x:\\n    print('x is empty')\",\n '_i52': \"def add_numbers(x, y, z=None, flag=None):\\n    if flag:\\n        print('Flag is true')\\n    if not z:\\n        return x+y\\n    else:\\n        return x+y+z\\n    print('Reached end')\\n\\n#add_numbers(2,3,2,True)\\n#ergebnis = add_numbers(2,3,flag=True,z=100)\\n\\n#add_numbers('a','b', flag=True)\\n\\nx = 123\\nif x:\\n    print('x has a value')\",\n '_i53': \"def add_numbers(x, y, z=None, flag=None):\\n    if flag:\\n        print('Flag is true')\\n    if not z:\\n        return x+y\\n    else:\\n        return x+y+z\\n    print('Reached end')\\n\\n#add_numbers(2,3,2,True)\\n#ergebnis = add_numbers(2,3,flag=True,z=100)\\n\\n#add_numbers('a','b', flag=True)\\n\\nx = 123\\nif x > 0:\\n    print('x has a value')\",\n '_i54': \"def add_numbers(x, y, z=None, flag=None):\\n    if flag:\\n        print('Flag is true')\\n    if not z:\\n        return x+y\\n    else:\\n        return x+y+z\\n    print('Reached end')\\n\\n#add_numbers(2,3,2,True)\\n#ergebnis = add_numbers(2,3,flag=True,z=100)\\n\\n#add_numbers('a','b', flag=True)\\n\\nx = 123\\nif x != 0:\\n    print('x has a value')\",\n '_i55': \"def add_numbers(x, y, z=None, flag=False):\\n    if flag:\\n        print('Flag is true')\\n    if not z:\\n        return x+y\\n    else:\\n        return x+y+z\\n    print('Reached end')\\n\\n#add_numbers(2,3,2,True)\\n#ergebnis = add_numbers(2,3,flag=True,z=100)\\n\\n#add_numbers('a','b', flag=True)\",\n '_i56': \"def add_numbers(x, y, z=None, flag):\\n    if flag:\\n        print('Flag is true')\\n    if not z:\\n        return x+y\\n    else:\\n        return x+y+z\\n    print('Reached end')\\n\\n#add_numbers(2,3,2,True)\\n#ergebnis = add_numbers(2,3,flag=True,z=100)\\n\\n#add_numbers('a','b', flag=True)\",\n '_i57': \"def add_numbers(x, y, z=None, flag=False):\\n    if flag:\\n        print('Flag is true')\\n    if not z:\\n        return x+y\\n    else:\\n        return x+y+z\\n    print('Reached end')\\n\\n#add_numbers(2,3,2,True)\\n#ergebnis = add_numbers(2,3,flag=True,z=100)\\n\\n#add_numbers('a','b', flag=True)\",\n '_i58': \"def add_numbers(x=1, y, z=None, flag=False):\\n    if flag:\\n        print('Flag is true')\\n    if not z:\\n        return x+y\\n    else:\\n        return x+y+z\\n    print('Reached end')\\n\\n#add_numbers(2,3,2,True)\\n#ergebnis = add_numbers(2,3,flag=True,z=100)\\n\\n#add_numbers('a','b', flag=True)\",\n '_i59': \"def add_numbers(x, y, z=None, flag=False):\\n    if flag:\\n        print('Flag is true')\\n    if not z:\\n        return x+y\\n    else:\\n        return x+y+z\\n    print('Reached end')\\n\\n#add_numbers(2,3,2,True)\\n#ergebnis = add_numbers(2,3,flag=True,z=100)\\n\\n#add_numbers('a','b', flag=True)\",\n '_i60': \"def add_numbers(x, y, z=None, flag=False):\\n    if flag:\\n        print('Flag is true')\\n    if not z:\\n        return x+y\\n    else:\\n        return x+y+z\\n    print('Reached end')\\n\\n#add_numbers(2,3,2,True)\\n#ergebnis = add_numbers(2,3,flag=True,z=100)\\n\\n#add_numbers('a','b', flag=True)\",\n '_i61': \"def add_numbers(x, y, z=None, flag=False):\\n    if flag:\\n        print('Flag is true')\\n    if not z:\\n        return x+y\\n    else:\\n        return x+y+z\\n    print('Reached end')\\n\\nadd_numbers(10,5, flag=True,z=10)\\n#add_numbers(2,3,2,True)\\n#ergebnis = add_numbers(2,3,flag=True,z=100)\\n\\n#add_numbers('a','b', flag=True)\",\n '_61': 25,\n '_i62': \"def add_numbers(x, y, z=None, flag=False):\\n    if flag:\\n        print('Flag is true')\\n    if not z:\\n        return x+y\\n    else:\\n        return x+y+z\\nadd_numbers(10,5, flag=True,z=10)\\n#add_numbers(2,3,2,True)\\n#ergebnis = add_numbers(2,3,flag=True,z=100)\\n\\n#add_numbers('a','b', flag=True)\",\n '_62': 25,\n '_i63': \"def add_numbers(x, y, z=None, flag=False):\\n    if flag:\\n        print('Flag is true')\\n    if not z:\\n        return x+y\\n    else:\\n        return x+y+z\\n\\nergebnis = add_numbers(10,5, flag=True,z=10)\\nprint(ergebnis)\\n#add_numbers(2,3,2,True)\\n#ergebnis = add_numbers(2,3,flag=True,z=100)\\n\\n#add_numbers('a','b', flag=True)\",\n '_i64': \"def add_numbers(x, y, z=None, flag=False):\\n    if flag:\\n        print('Flag is true')\\n    if not z:\\n        return x+y\\n    else:\\n        return x+y+z\\n\\nergebnis = add_numbers(10,5, flag=True,z=10)\\ntype(ergebnis)\\n#add_numbers(2,3,2,True)\\n#ergebnis = add_numbers(2,3,flag=True,z=100)\\n\\n#add_numbers('a','b', flag=True)\",\n '_64': int,\n '_i65': \"def add_numbers(x, y, z=None, flag=False):\\n    if flag:\\n        print('Flag is true')\\n    if not z:\\n        return x+y\\n    else:\\n        return x+y+z\\n\\nergebnis = add_numbers(10.0,5, flag=True,z=10)\\ntype(ergebnis)\\n#add_numbers(2,3,2,True)\\n#ergebnis = add_numbers(2,3,flag=True,z=100)\\n\\n#add_numbers('a','b', flag=True)\",\n '_65': float,\n '_i66': \"def add_numbers(x, y, z=None, flag=False):\\n    if flag:\\n        print('Flag is true')\\n    if not z:\\n        return x+y\\n    else:\\n        return x+y+z\\n\\nergebnis = add_numbers(10.0,5, flag=True,z=10)\\ntype(ergebnis)\\nergebnis\\n#add_numbers(2,3,2,True)\\n#ergebnis = add_numbers(2,3,flag=True,z=100)\\n\\n#add_numbers('a','b', flag=True)\",\n '_66': 25.0,\n '_i67': 'type(add_numbers)',\n '_67': function,\n '_i68': 'func = add_numbers\\nfunc(1,2,3)',\n 'func': <function __main__.add_numbers(x, y, z=None, flag=False)>,\n '_68': 6,\n '_i69': \"def add_numbers(x, y, z=None, flag=False):\\n    if flag:\\n        print('Flag is true')\\n    if not z:\\n        return x+y\\n    else:\\n        return x+y+z\\n\\nergebnis = add_numbers(10.0,5, flag=True,z=10)\\nadd_numbers(2, 'a')\\n#add_numbers(2,3,2,True)\\n#ergebnis = add_numbers(2,3,flag=True,z=100)\\n\\n#add_numbers('a','b', flag=True)\",\n '_i70': \"def add_numbers(x, y, z=None, flag=False):\\n    if flag:\\n        print('Flag is true')\\n    if not z:\\n        return x+y\\n    else:\\n        return x+y+z\\n\\n#ergebnis = add_numbers(10.0,5, flag=True,z=10)\\nadd_numbers(2, 'a', 0, True)\\n#add_numbers(2,3,2,True)\\n#ergebnis = add_numbers(2,3,flag=True,z=100)\\n\\n#add_numbers('a','b', flag=True)\",\n '_i71': \"def add_numbers(x, y, z=None, flag=False):\\n    if flag:\\n        print('Flag is true')\\n    if not z:\\n        return x+y\\n    else:\\n        return x+y+z\\n\\n#ergebnis = add_numbers(10.0,5, flag=True,z=10)\\n#add_numbers(2, 'a', 0, True)\\n'a' + 2\\n#add_numbers(2,3,2,True)\\n#ergebnis = add_numbers(2,3,flag=True,z=100)\\n\\n#add_numbers('a','b', flag=True)\",\n '_i72': \"def add_numbers(x, y, z=None, flag=False):\\n    if flag:\\n        print('Flag is true')\\n    if not z:\\n        return x+y\\n    else:\\n        return x+y+z\\n\\n#ergebnis = add_numbers(10.0,5, flag=True,z=10)\\n#add_numbers(2, 'a', 0, True)\\n2 + 'a'\\n#add_numbers(2,3,2,True)\\n#ergebnis = add_numbers(2,3,flag=True,z=100)\\n\\n#add_numbers('a','b', flag=True)\",\n '_i73': \"def add_numbers(x, y, z=None, flag=False):\\n    if flag:\\n        print('Flag is true')\\n    if not z:\\n        return x+y\\n    else:\\n        return x+y+z\\n\\n#ergebnis = add_numbers(10.0,5, flag=True,z=10)\\n#add_numbers(2, 'a', 0, True)\\n#2 + 'a'\\n'hallo ' + 'welt'\\n#add_numbers(2,3,2,True)\\n#ergebnis = add_numbers(2,3,flag=True,z=100)\\n\\n#add_numbers('a','b', flag=True)\",\n '_73': 'hallo welt',\n '_i74': \"def add_numbers(x, y, z=None, flag=False):\\n    if flag:\\n        print('Flag is true')\\n    if not z:\\n        return x+y\\n    else:\\n        return x+y+z\\n\\n#ergebnis = add_numbers(10.0,5, flag=True,z=10)\\n#add_numbers(2, 'a', 0, True)\\n#2 + 'a'\\n'hallo ' + 'welt'\\nadd_numbers('2','a')\\n#add_numbers(2,3,2,True)\\n#ergebnis = add_numbers(2,3,flag=True,z=100)\\n\\n#add_numbers('a','b', flag=True)\",\n '_74': '2a',\n '_i75': \"def add_numbers(x=1, y, z=None, flag=False):\\n    if flag:\\n        print('Flag is true')\\n    if not z:\\n        return x+y\\n    else:\\n        return x+y+z\\n\\n#ergebnis = add_numbers(10.0,5, flag=True,z=10)\\n#add_numbers(2, 'a', 0, True)\\n#2 + 'a'\\n'hallo ' + 'welt'\\nadd_numbers('2','a')\\n#add_numbers(2,3,2,True)\\n#ergebnis = add_numbers(2,3,flag=True,z=100)\\n\\n#add_numbers('a','b', flag=True)\",\n '_i76': \"def add_numbers(x=1, y, z=None, flag=False):\\n    if flag:\\n        print('Flag is true')\\n    if not z:\\n        return x+y\\n    else:\\n        return x+y+z\\n\\n#ergebnis = add_numbers(10.0,5, flag=True,z=10)\\n#add_numbers(2, 'a', 0, True)\\n#2 + 'a'\\n'hallo ' + 'welt'\\nadd_numbers('2','a')\\n#add_numbers(2,3,2,True)\\n#ergebnis = add_numbers(2,3,flag=True,z=100)\\n\\n#add_numbers('a','b', flag=True)\",\n '_i77': \"def add_numbers(x=1, y, z=None, flag=False):\\n    if flag:\\n        print('Flag is true')\\n    if not z:\\n        return x+y\\n    else:\\n        return x+y+z\\n\\n#ergebnis = add_numbers(10.0,5, flag=True,z=10)\\n#add_numbers(2, 'a', 0, True)\\n#2 + 'a'\\n'hallo ' + 'welt'\\nadd_numbers('2','a')\\n#add_numbers(2,3,2,True)\\n#ergebnis = add_numbers(2,3,flag=True,z=100)\\n\\n#add_numbers('a','b', flag=True)\",\n '_i78': \"def add_numbers(x=1, y, z=None, flag=False):\\n    if flag:\\n        print('Flag is true')\\n    if not z:\\n        return x+y\\n    else:\\n        return x+y+z\\n\\n#ergebnis = add_numbers(10.0,5, flag=True,z=10)\\n#add_numbers(2, 'a', 0, True)\\n#2 + 'a'\\n'hallo ' + 'welt'\\nadd_numbers('2','a')\\n#add_numbers(2,3,2,True)\\n#ergebnis = add_numbers(2,3,flag=True,z=100)\\n\\n#add_numbers('a','b', flag=True)\",\n '_i79': \"def add_numbers(x=1, y, z=None, flag=False):\\n    if flag:\\n        print('Flag is true')\\n    if not z:\\n        return x+y\\n    else:\\n        return x+y+z\\n\\n#ergebnis = add_numbers(10.0,5, flag=True,z=10)\\n#add_numbers(2, 'a', 0, True)\\n#2 + 'a'\\n'hallo ' + 'welt'\\nadd_numbers('2','a')\\n#add_numbers(2,3,2,True)\\n#ergebnis = add_numbers(2,3,flag=True,z=100)\\n\\n#add_numbers('a','b', flag=True)\",\n '_i80': \"def add_numbers(x, y, z=None, flag=False):\\n if flag:\\n        print('Flag is true')\\n    if not z:\\n        return x+y\\n    else:\\n        return x+y+z\\n\\n#ergebnis = add_numbers(10.0,5, flag=True,z=10)\\n#add_numbers(2, 'a', 0, True)\\n#2 + 'a'\\n'hallo ' + 'welt'\\nadd_numbers('2','a')\\n#add_numbers(2,3,2,True)\\n#ergebnis = add_numbers(2,3,flag=True,z=100)\\n\\n#add_numbers('a','b', flag=True)\",\n '_i82': \"def add_numbers(x, y, z=None, flag=False):\\n    if flag:\\n        print('Flag is true')\\n    if not z:\\n        return x+y\\n    else:\\n        return x+y+z\\n\\n#ergebnis = add_numbers(10.0,5, flag=True,z=10)\\n#add_numbers(2, 'a', 0, True)\\n#2 + 'a'\\n'hallo ' + 'welt'\\nadd_numbers('2','a')\\n#add_numbers(2,3,2,True)\\n#ergebnis = add_numbers(2,3,flag=True,z=100)\\n\\n#add_numbers('a','b', flag=True)\",\n '_82': '2a',\n '_i83': 'globals()',\n '_83': {...},\n '_i84': 'locals()'}"
     },
     "execution_count": 84,
     "metadata": {},
     "output_type": "execute_result"
    }
   ],
   "source": [
    "add"
   ],
   "metadata": {
    "collapsed": false,
    "pycharm": {
     "name": "#%%\n"
    }
   }
  },
  {
   "cell_type": "code",
   "execution_count": 67,
   "outputs": [
    {
     "data": {
      "text/plain": "function"
     },
     "execution_count": 67,
     "metadata": {},
     "output_type": "execute_result"
    }
   ],
   "source": [
    "type(add_numbers)"
   ],
   "metadata": {
    "collapsed": false,
    "pycharm": {
     "name": "#%%\n"
    }
   }
  },
  {
   "cell_type": "code",
   "execution_count": 68,
   "outputs": [
    {
     "data": {
      "text/plain": "6"
     },
     "execution_count": 68,
     "metadata": {},
     "output_type": "execute_result"
    }
   ],
   "source": [
    "func = add_numbers\n",
    "func(1,2,3)"
   ],
   "metadata": {
    "collapsed": false,
    "pycharm": {
     "name": "#%%\n"
    }
   }
  },
  {
   "cell_type": "code",
   "execution_count": 22,
   "outputs": [
    {
     "ename": "TypeError",
     "evalue": "add_numbers() missing 1 required positional argument: 'y'",
     "output_type": "error",
     "traceback": [
      "\u001B[1;31m---------------------------------------------------------------------------\u001B[0m",
      "\u001B[1;31mTypeError\u001B[0m                                 Traceback (most recent call last)",
      "\u001B[1;32m<ipython-input-22-72a70c8a4a34>\u001B[0m in \u001B[0;36m<module>\u001B[1;34m\u001B[0m\n\u001B[1;32m----> 1\u001B[1;33m \u001B[0madd_numbers\u001B[0m\u001B[1;33m(\u001B[0m\u001B[1;36m1\u001B[0m\u001B[1;33m)\u001B[0m\u001B[1;33m\u001B[0m\u001B[1;33m\u001B[0m\u001B[0m\n\u001B[0m",
      "\u001B[1;31mTypeError\u001B[0m: add_numbers() missing 1 required positional argument: 'y'"
     ]
    }
   ],
   "source": [
    "add_numbers(1)"
   ],
   "metadata": {
    "collapsed": false,
    "pycharm": {
     "name": "#%%\n"
    }
   }
  },
  {
   "cell_type": "code",
   "execution_count": 23,
   "outputs": [],
   "source": [
    "add_numbers(2,3)"
   ],
   "metadata": {
    "collapsed": false,
    "pycharm": {
     "name": "#%%\n"
    }
   }
  },
  {
   "cell_type": "code",
   "execution_count": 24,
   "outputs": [],
   "source": [
    "add_numbers(1,2,3,4)"
   ],
   "metadata": {
    "collapsed": false,
    "pycharm": {
     "name": "#%%\n"
    }
   }
  },
  {
   "cell_type": "markdown",
   "metadata": {},
   "source": [
    "Assign function `add_numbers` to variable `a`."
   ]
  },
  {
   "cell_type": "code",
   "execution_count": 100,
   "metadata": {},
   "outputs": [],
   "source": [
    "def add_n(x,y):\n",
    "    z = 0\n",
    "    if x > 0:\n",
    "        z = x+y\n",
    "    print('hallo')\n",
    "    return z"
   ]
  },
  {
   "cell_type": "code",
   "execution_count": 98,
   "outputs": [
    {
     "name": "stdout",
     "output_type": "stream",
     "text": [
      "hallo\n"
     ]
    },
    {
     "data": {
      "text/plain": "0"
     },
     "execution_count": 98,
     "metadata": {},
     "output_type": "execute_result"
    }
   ],
   "source": [
    "add_n(0,2)"
   ],
   "metadata": {
    "collapsed": false,
    "pycharm": {
     "name": "#%%\n"
    }
   }
  },
  {
   "cell_type": "markdown",
   "metadata": {},
   "source": [
    "# Tuples & Lists\n"
   ]
  },
  {
   "cell_type": "markdown",
   "metadata": {},
   "source": [
    "## Lists\n",
    "Lists are a mutable data structure."
   ]
  },
  {
   "cell_type": "code",
   "execution_count": 22,
   "outputs": [],
   "source": [
    "neue_liste = ['a', 2]"
   ],
   "metadata": {
    "collapsed": false,
    "pycharm": {
     "name": "#%%\n"
    }
   }
  },
  {
   "cell_type": "code",
   "execution_count": 9,
   "metadata": {},
   "outputs": [],
   "source": [
    "liste = []"
   ]
  },
  {
   "cell_type": "code",
   "execution_count": 10,
   "outputs": [
    {
     "data": {
      "text/plain": "[]"
     },
     "execution_count": 10,
     "metadata": {},
     "output_type": "execute_result"
    }
   ],
   "source": [
    "liste"
   ],
   "metadata": {
    "collapsed": false,
    "pycharm": {
     "name": "#%%\n"
    }
   }
  },
  {
   "cell_type": "markdown",
   "metadata": {},
   "source": [
    "Use `append` to append an object to a list."
   ]
  },
  {
   "cell_type": "code",
   "execution_count": 12,
   "metadata": {},
   "outputs": [],
   "source": [
    "liste.append('a')"
   ]
  },
  {
   "cell_type": "code",
   "execution_count": 13,
   "outputs": [
    {
     "data": {
      "text/plain": "['a', 'a']"
     },
     "execution_count": 13,
     "metadata": {},
     "output_type": "execute_result"
    }
   ],
   "source": [
    "liste"
   ],
   "metadata": {
    "collapsed": false,
    "pycharm": {
     "name": "#%%\n"
    }
   }
  },
  {
   "cell_type": "code",
   "execution_count": 14,
   "outputs": [
    {
     "data": {
      "text/plain": "[1, 'a', 2, 'b']"
     },
     "execution_count": 14,
     "metadata": {},
     "output_type": "execute_result"
    }
   ],
   "source": [
    "liste = [1, 'a', 2, 'b']\n",
    "liste"
   ],
   "metadata": {
    "collapsed": false,
    "pycharm": {
     "name": "#%%\n"
    }
   }
  },
  {
   "cell_type": "code",
   "execution_count": 18,
   "outputs": [],
   "source": [
    "liste[3] = 3"
   ],
   "metadata": {
    "collapsed": false,
    "pycharm": {
     "name": "#%%\n"
    }
   }
  },
  {
   "cell_type": "code",
   "execution_count": 19,
   "outputs": [
    {
     "data": {
      "text/plain": "[1, 'a', 2, 3]"
     },
     "execution_count": 19,
     "metadata": {},
     "output_type": "execute_result"
    }
   ],
   "source": [
    "liste"
   ],
   "metadata": {
    "collapsed": false,
    "pycharm": {
     "name": "#%%\n"
    }
   }
  },
  {
   "cell_type": "code",
   "execution_count": 20,
   "outputs": [
    {
     "data": {
      "text/plain": "[1, 'a', 2]"
     },
     "execution_count": 20,
     "metadata": {},
     "output_type": "execute_result"
    }
   ],
   "source": [
    "liste[0:3]"
   ],
   "metadata": {
    "collapsed": false,
    "pycharm": {
     "name": "#%%\n"
    }
   }
  },
  {
   "cell_type": "markdown",
   "metadata": {},
   "source": [
    "This is an example of how to loop through each item in the list."
   ]
  },
  {
   "cell_type": "code",
   "execution_count": 21,
   "metadata": {},
   "outputs": [
    {
     "name": "stdout",
     "output_type": "stream",
     "text": [
      "2\n",
      "aa\n",
      "4\n",
      "6\n"
     ]
    }
   ],
   "source": [
    "# for (int x = 0; x++) liste[i]\n",
    "for item in liste:\n",
    "    print(item * 2)"
   ]
  },
  {
   "cell_type": "markdown",
   "metadata": {},
   "source": [
    "**len()** Für die Anzahl der Einträge"
   ]
  },
  {
   "cell_type": "code",
   "execution_count": 23,
   "metadata": {},
   "outputs": [
    {
     "data": {
      "text/plain": "4"
     },
     "execution_count": 23,
     "metadata": {},
     "output_type": "execute_result"
    }
   ],
   "source": [
    "len(liste)"
   ]
  },
  {
   "cell_type": "markdown",
   "metadata": {},
   "source": [
    "Or using the indexing operator:"
   ]
  },
  {
   "cell_type": "code",
   "execution_count": 25,
   "metadata": {},
   "outputs": [
    {
     "name": "stdout",
     "output_type": "stream",
     "text": [
      "1\n",
      "a\n",
      "2\n",
      "3\n"
     ]
    }
   ],
   "source": [
    "i = 0\n",
    "while i!=len(liste):\n",
    "    print(liste[i])\n",
    "    i =i+1"
   ]
  },
  {
   "cell_type": "markdown",
   "metadata": {},
   "source": [
    "Use `+` to concatenate lists."
   ]
  },
  {
   "cell_type": "code",
   "execution_count": 28,
   "outputs": [],
   "source": [
    "liste = [1,2] + [3] + [4,5,6]"
   ],
   "metadata": {
    "collapsed": false,
    "pycharm": {
     "name": "#%%\n"
    }
   }
  },
  {
   "cell_type": "code",
   "execution_count": 29,
   "metadata": {},
   "outputs": [
    {
     "data": {
      "text/plain": "[1, 2, 3, 4, 5, 6, 1, 2, 3, 4]"
     },
     "execution_count": 29,
     "metadata": {},
     "output_type": "execute_result"
    }
   ],
   "source": [
    "liste = liste + [1,2] + [3,4]\n",
    "liste"
   ]
  },
  {
   "cell_type": "markdown",
   "metadata": {},
   "source": [
    "Use `*` to repeat lists."
   ]
  },
  {
   "cell_type": "code",
   "execution_count": 32,
   "metadata": {},
   "outputs": [
    {
     "data": {
      "text/plain": "[1, 2, 3, 4, 5, 6, 1, 2, 3, 4, 1, 2, 3, 4, 5, 6, 1, 2, 3, 4]"
     },
     "execution_count": 32,
     "metadata": {},
     "output_type": "execute_result"
    }
   ],
   "source": [
    "doppelt = liste * 2\n",
    "doppelt"
   ]
  },
  {
   "cell_type": "markdown",
   "metadata": {},
   "source": [
    "Use the `in` operator to check if something is inside a list."
   ]
  },
  {
   "cell_type": "code",
   "execution_count": 34,
   "outputs": [
    {
     "data": {
      "text/plain": "True"
     },
     "execution_count": 34,
     "metadata": {},
     "output_type": "execute_result"
    }
   ],
   "source": [
    "# string contains value?\n",
    "'al' in 'hallo'"
   ],
   "metadata": {
    "collapsed": false,
    "pycharm": {
     "name": "#%%\n"
    }
   }
  },
  {
   "cell_type": "code",
   "execution_count": 35,
   "metadata": {},
   "outputs": [
    {
     "data": {
      "text/plain": "True"
     },
     "execution_count": 35,
     "metadata": {},
     "output_type": "execute_result"
    }
   ],
   "source": [
    "3 in doppelt"
   ]
  },
  {
   "cell_type": "code",
   "execution_count": 37,
   "outputs": [
    {
     "data": {
      "text/plain": "True"
     },
     "execution_count": 37,
     "metadata": {},
     "output_type": "execute_result"
    }
   ],
   "source": [
    "number = 3\n",
    "number in liste"
   ],
   "metadata": {
    "collapsed": false,
    "pycharm": {
     "name": "#%%\n"
    }
   }
  },
  {
   "cell_type": "markdown",
   "metadata": {},
   "source": [
    "Ab der dritten Stelle bis zum Ende"
   ]
  },
  {
   "cell_type": "code",
   "execution_count": 38,
   "metadata": {},
   "outputs": [
    {
     "data": {
      "text/plain": "[3, 4, 5, 6, 1, 2, 3, 4]"
     },
     "execution_count": 38,
     "metadata": {},
     "output_type": "execute_result"
    }
   ],
   "source": [
    "liste[2:]"
   ]
  },
  {
   "cell_type": "markdown",
   "metadata": {},
   "source": [
    "Von 2ter bis 5ter stelle"
   ]
  },
  {
   "cell_type": "code",
   "execution_count": 42,
   "outputs": [
    {
     "data": {
      "text/plain": "[1, 2, 3, 4, 5, 6, 1, 2, 3, 4]"
     },
     "execution_count": 42,
     "metadata": {},
     "output_type": "execute_result"
    }
   ],
   "source": [
    "liste"
   ],
   "metadata": {
    "collapsed": false,
    "pycharm": {
     "name": "#%%\n"
    }
   }
  },
  {
   "cell_type": "code",
   "execution_count": 46,
   "metadata": {},
   "outputs": [
    {
     "data": {
      "text/plain": "[2, 3, 4]"
     },
     "execution_count": 46,
     "metadata": {},
     "output_type": "execute_result"
    }
   ],
   "source": [
    "sliced = liste[1:4]\n",
    "sliced"
   ]
  },
  {
   "cell_type": "markdown",
   "metadata": {},
   "source": [
    "Jedes Element in sliced mal 2 rechnen. Ergebnis = [6, 8, 10, 12]"
   ]
  },
  {
   "cell_type": "code",
   "execution_count": 44,
   "metadata": {},
   "outputs": [
    {
     "data": {
      "text/plain": "[2, 3, 4, 2, 3, 4]"
     },
     "execution_count": 44,
     "metadata": {},
     "output_type": "execute_result"
    }
   ],
   "source": [
    "sliced * 2"
   ]
  },
  {
   "cell_type": "code",
   "execution_count": 47,
   "outputs": [
    {
     "data": {
      "text/plain": "[4, 6, 8]"
     },
     "execution_count": 47,
     "metadata": {},
     "output_type": "execute_result"
    }
   ],
   "source": [
    "result = []\n",
    "for item in sliced:\n",
    "    result.append(item * 2)\n",
    "result"
   ],
   "metadata": {
    "collapsed": false,
    "pycharm": {
     "name": "#%%\n"
    }
   }
  },
  {
   "cell_type": "markdown",
   "metadata": {},
   "source": [
    "Python way = List comprehension"
   ]
  },
  {
   "cell_type": "code",
   "execution_count": null,
   "metadata": {},
   "outputs": [],
   "source": [
    "result = [item * 2 for item in sliced]\n",
    "result"
   ]
  },
  {
   "cell_type": "markdown",
   "metadata": {},
   "source": [
    "## Tuples"
   ]
  },
  {
   "cell_type": "code",
   "execution_count": null,
   "metadata": {},
   "outputs": [],
   "source": []
  },
  {
   "cell_type": "code",
   "execution_count": null,
   "metadata": {},
   "outputs": [],
   "source": []
  },
  {
   "cell_type": "code",
   "execution_count": null,
   "metadata": {},
   "outputs": [],
   "source": []
  },
  {
   "cell_type": "code",
   "execution_count": null,
   "metadata": {},
   "outputs": [],
   "source": []
  },
  {
   "cell_type": "code",
   "execution_count": null,
   "metadata": {},
   "outputs": [],
   "source": []
  },
  {
   "cell_type": "code",
   "execution_count": null,
   "metadata": {},
   "outputs": [],
   "source": []
  },
  {
   "cell_type": "code",
   "execution_count": null,
   "metadata": {},
   "outputs": [],
   "source": []
  },
  {
   "cell_type": "code",
   "execution_count": null,
   "metadata": {},
   "outputs": [],
   "source": []
  },
  {
   "cell_type": "markdown",
   "metadata": {},
   "source": [
    "## Strings\n",
    "Now let's look at strings. Use bracket notation to slice a string."
   ]
  },
  {
   "cell_type": "code",
   "execution_count": 101,
   "metadata": {},
   "outputs": [],
   "source": [
    "letter = \"This is a string\""
   ]
  },
  {
   "cell_type": "code",
   "execution_count": 102,
   "outputs": [
    {
     "data": {
      "text/plain": "'This is a string'"
     },
     "execution_count": 102,
     "metadata": {},
     "output_type": "execute_result"
    }
   ],
   "source": [
    "letter"
   ],
   "metadata": {
    "collapsed": false,
    "pycharm": {
     "name": "#%%\n"
    }
   }
  },
  {
   "cell_type": "code",
   "execution_count": 112,
   "outputs": [
    {
     "name": "stdout",
     "output_type": "stream",
     "text": [
      "T\n",
      "Th\n",
      "This\n",
      "g\n"
     ]
    }
   ],
   "source": [
    "print(letter[0])\n",
    "# this is called slicing\n",
    "print(letter[0:2])\n",
    "print(letter[0:4])\n",
    "print(letter[-1])"
   ],
   "metadata": {
    "collapsed": false,
    "pycharm": {
     "name": "#%%\n"
    }
   }
  },
  {
   "cell_type": "code",
   "execution_count": 110,
   "outputs": [
    {
     "name": "stdout",
     "output_type": "stream",
     "text": [
      "Th\n",
      "Th\n"
     ]
    }
   ],
   "source": [
    "print(letter[0:2])\n",
    "# if reading from beginning we can omit '0'\n",
    "print(letter[:2])"
   ],
   "metadata": {
    "collapsed": false,
    "pycharm": {
     "name": "#%%\n"
    }
   }
  },
  {
   "cell_type": "code",
   "execution_count": 111,
   "outputs": [
    {
     "data": {
      "text/plain": "'is i'"
     },
     "execution_count": 111,
     "metadata": {},
     "output_type": "execute_result"
    }
   ],
   "source": [
    "letter[2:6]"
   ],
   "metadata": {
    "collapsed": false,
    "pycharm": {
     "name": "#%%\n"
    }
   }
  },
  {
   "cell_type": "markdown",
   "metadata": {},
   "source": [
    "This will return the last element of the string."
   ]
  },
  {
   "cell_type": "code",
   "execution_count": 120,
   "metadata": {},
   "outputs": [
    {
     "data": {
      "text/plain": "'g'"
     },
     "execution_count": 120,
     "metadata": {},
     "output_type": "execute_result"
    }
   ],
   "source": [
    "letter[-1:]"
   ]
  },
  {
   "cell_type": "markdown",
   "metadata": {},
   "source": [
    "### This is a slice from the beginning of the string and stopping before the 3rd element.\n"
   ]
  },
  {
   "cell_type": "code",
   "execution_count": 127,
   "metadata": {},
   "outputs": [
    {
     "name": "stdout",
     "output_type": "stream",
     "text": [
      "This is a string\n",
      "Tss rg\n"
     ]
    }
   ],
   "source": [
    "print(letter)\n",
    "print(letter[::3])"
   ]
  },
  {
   "cell_type": "markdown",
   "metadata": {},
   "source": [
    "And this is a slice starting from the 4th element of the string and going all the way to the end."
   ]
  },
  {
   "cell_type": "code",
   "execution_count": 129,
   "metadata": {},
   "outputs": [
    {
     "data": {
      "text/plain": "'s is a string'"
     },
     "execution_count": 129,
     "metadata": {},
     "output_type": "execute_result"
    }
   ],
   "source": [
    "letter[3:]"
   ]
  },
  {
   "cell_type": "markdown",
   "metadata": {},
   "source": [
    "**Concatenate**"
   ]
  },
  {
   "cell_type": "code",
   "execution_count": 133,
   "metadata": {},
   "outputs": [
    {
     "data": {
      "text/plain": "'Michael, Gruber'"
     },
     "execution_count": 133,
     "metadata": {},
     "output_type": "execute_result"
    }
   ],
   "source": [
    "firstname = 'Michael'\n",
    "lastname ='Gruber'\n",
    "fullname = firstname + ', ' + lastname\n",
    "fullname"
   ]
  },
  {
   "cell_type": "markdown",
   "metadata": {},
   "source": [
    "`in` operator also with strings"
   ]
  },
  {
   "cell_type": "code",
   "execution_count": 137,
   "metadata": {},
   "outputs": [
    {
     "name": "stdout",
     "output_type": "stream",
     "text": [
      "Michael is here\n"
     ]
    }
   ],
   "source": [
    "if fullname[0:7] == 'Michael':\n",
    "    print('Michael is here')"
   ]
  },
  {
   "cell_type": "code",
   "execution_count": 140,
   "outputs": [
    {
     "name": "stdout",
     "output_type": "stream",
     "text": [
      "Yes it is there\n"
     ]
    }
   ],
   "source": [
    "# Using in operator\n",
    "if 'Michael' in fullname:\n",
    "    print('Yes it is there')"
   ],
   "metadata": {
    "collapsed": false,
    "pycharm": {
     "name": "#%%\n"
    }
   }
  },
  {
   "cell_type": "code",
   "execution_count": 141,
   "outputs": [
    {
     "name": "stdout",
     "output_type": "stream",
     "text": [
      "yes\n"
     ]
    }
   ],
   "source": [
    "if 'Gruber' in fullname:\n",
    "    print('yes')"
   ],
   "metadata": {
    "collapsed": false,
    "pycharm": {
     "name": "#%%\n"
    }
   }
  },
  {
   "cell_type": "markdown",
   "metadata": {},
   "source": [
    "`split` returns a list of all the words in a string, or a list split on a specific character."
   ]
  },
  {
   "cell_type": "code",
   "execution_count": 144,
   "metadata": {},
   "outputs": [
    {
     "name": "stdout",
     "output_type": "stream",
     "text": [
      "Michael, Gruber\n"
     ]
    },
    {
     "data": {
      "text/plain": "['Michael', ' Gruber']"
     },
     "execution_count": 144,
     "metadata": {},
     "output_type": "execute_result"
    }
   ],
   "source": [
    "print(fullname)\n",
    "names = fullname.split(',')\n",
    "names"
   ]
  },
  {
   "cell_type": "code",
   "execution_count": 146,
   "outputs": [
    {
     "name": "stdout",
     "output_type": "stream",
     "text": [
      "Michael\n",
      "Gruber\n"
     ]
    }
   ],
   "source": [
    "print(names[0])\n",
    "print(names[1].strip())"
   ],
   "metadata": {
    "collapsed": false,
    "pycharm": {
     "name": "#%%\n"
    }
   }
  },
  {
   "cell_type": "markdown",
   "metadata": {},
   "source": [
    "Make sure you convert objects to strings before concatenating."
   ]
  },
  {
   "cell_type": "code",
   "execution_count": null,
   "metadata": {},
   "outputs": [],
   "source": []
  },
  {
   "cell_type": "markdown",
   "metadata": {},
   "source": [
    "Python has a built in method for convenient string formatting."
   ]
  },
  {
   "cell_type": "code",
   "execution_count": 147,
   "metadata": {},
   "outputs": [
    {
     "name": "stdout",
     "output_type": "stream",
     "text": [
      "Chris bought 4 item(s) at a price of 3.24 each for a total of 12.96\n"
     ]
    }
   ],
   "source": [
    "sales_record = {\n",
    "'price': 3.24,\n",
    "'num_items': 4,\n",
    "'person': 'Chris'}\n",
    "\n",
    "sales_statement = '{} bought {} item(s) at a price of {} each for a total of {}'\n",
    "\n",
    "print(sales_statement.format(sales_record['person'],\n",
    "                             sales_record['num_items'],\n",
    "                             sales_record['price'],\n",
    "                             sales_record['num_items']*sales_record['price']\n",
    "                             ))\n"
   ]
  },
  {
   "cell_type": "code",
   "execution_count": 153,
   "outputs": [
    {
     "data": {
      "text/plain": "'Hello Marie'"
     },
     "execution_count": 153,
     "metadata": {},
     "output_type": "execute_result"
    }
   ],
   "source": [
    "name = 'Marie'\n",
    "greeting = 'Hello {}'\n",
    "# for every curly bracket we need a value\n",
    "greeting.format(name)"
   ],
   "metadata": {
    "collapsed": false,
    "pycharm": {
     "name": "#%%\n"
    }
   }
  },
  {
   "cell_type": "markdown",
   "metadata": {},
   "source": [
    "## Dictionary (aka hashtable)"
   ]
  },
  {
   "cell_type": "code",
   "execution_count": null,
   "metadata": {},
   "outputs": [],
   "source": []
  },
  {
   "cell_type": "markdown",
   "metadata": {},
   "source": [
    "Iterate over all of the keys:"
   ]
  },
  {
   "cell_type": "code",
   "execution_count": null,
   "metadata": {},
   "outputs": [],
   "source": []
  },
  {
   "cell_type": "markdown",
   "metadata": {},
   "source": [
    "Iterate over all of the values:"
   ]
  },
  {
   "cell_type": "code",
   "execution_count": null,
   "metadata": {},
   "outputs": [],
   "source": []
  },
  {
   "cell_type": "markdown",
   "metadata": {},
   "source": [
    "Iterate over all of the items in the list:"
   ]
  },
  {
   "cell_type": "markdown",
   "metadata": {},
   "source": [
    "## Unpacking"
   ]
  },
  {
   "cell_type": "code",
   "execution_count": null,
   "metadata": {},
   "outputs": [],
   "source": []
  },
  {
   "cell_type": "markdown",
   "metadata": {},
   "source": [
    "You can unpack a sequence into different variables:"
   ]
  },
  {
   "cell_type": "code",
   "execution_count": null,
   "metadata": {},
   "outputs": [],
   "source": [
    "def values():\n",
    "    return 1,2"
   ]
  },
  {
   "cell_type": "markdown",
   "metadata": {},
   "source": [
    "Make sure the number of values you are unpacking matches the number of variables being assigned."
   ]
  },
  {
   "cell_type": "code",
   "execution_count": null,
   "metadata": {},
   "outputs": [],
   "source": []
  },
  {
   "cell_type": "markdown",
   "metadata": {},
   "source": [
    "# Reading and Writing CSV files"
   ]
  },
  {
   "cell_type": "markdown",
   "metadata": {},
   "source": [
    "Let's import our datafile mpg.csv, which contains fuel economy data for 234 cars.\n",
    "\n",
    "* mpg : miles per gallon\n",
    "* class : car classification\n",
    "* cty : city mpg\n",
    "* cyl : # of cylinders\n",
    "* displ : engine displacement in liters\n",
    "* drv : f = front-wheel drive, r = rear wheel drive, 4 = 4wd\n",
    "* fl : fuel (e = ethanol E85, d = diesel, r = regular, p = premium, c = CNG)\n",
    "* hwy : highway mpg\n",
    "* manufacturer : automobile manufacturer\n",
    "* model : model of car\n",
    "* trans : type of transmission\n",
    "* year : model year"
   ]
  },
  {
   "cell_type": "code",
   "execution_count": null,
   "metadata": {},
   "outputs": [],
   "source": [
    "!cat class_mpg.csv"
   ]
  },
  {
   "cell_type": "code",
   "execution_count": null,
   "metadata": {},
   "outputs": [],
   "source": [
    "import csv"
   ]
  },
  {
   "cell_type": "code",
   "execution_count": null,
   "metadata": {},
   "outputs": [],
   "source": [
    "with open('class_mpg.csv') as csvfile:\n",
    "    mpg = list(csv.DictReader(csvfile))"
   ]
  },
  {
   "cell_type": "code",
   "execution_count": null,
   "metadata": {},
   "outputs": [],
   "source": []
  },
  {
   "cell_type": "markdown",
   "metadata": {},
   "source": [
    "`csv.Dictreader` has read in each row of our csv file as a dictionary. `len` shows that our list is comprised of 234 dictionaries."
   ]
  },
  {
   "cell_type": "code",
   "execution_count": null,
   "metadata": {},
   "outputs": [],
   "source": []
  },
  {
   "cell_type": "markdown",
   "metadata": {},
   "source": [
    "`keys` gives us the column names of our csv."
   ]
  },
  {
   "cell_type": "code",
   "execution_count": null,
   "metadata": {},
   "outputs": [],
   "source": []
  },
  {
   "cell_type": "markdown",
   "metadata": {},
   "source": [
    "This is how to find the average cty fuel economy across all cars. All values in the dictionaries are strings, so we need to convert to float."
   ]
  },
  {
   "cell_type": "code",
   "execution_count": null,
   "metadata": {},
   "outputs": [],
   "source": []
  },
  {
   "cell_type": "markdown",
   "metadata": {},
   "source": [
    "Similarly this is how to find the average hwy fuel economy across all cars."
   ]
  },
  {
   "cell_type": "code",
   "execution_count": null,
   "metadata": {},
   "outputs": [],
   "source": []
  },
  {
   "cell_type": "markdown",
   "metadata": {},
   "source": [
    "\n",
    "Use `set` to return the unique values for the number of cylinders the cars in our dataset have."
   ]
  },
  {
   "cell_type": "code",
   "execution_count": null,
   "metadata": {},
   "outputs": [],
   "source": []
  },
  {
   "cell_type": "markdown",
   "metadata": {},
   "source": [
    "Here's a more complex example where we are grouping the cars by number of cylinder, and finding the average cty mpg for each group."
   ]
  },
  {
   "cell_type": "code",
   "execution_count": null,
   "metadata": {},
   "outputs": [],
   "source": [
    "CtyMpgByCyl = []\n",
    "\n",
    "for c in cylinders: # iterate over all the cylinder levels\n",
    "    summpg = 0\n",
    "    cyltypecount = 0\n",
    "    for d in mpg: # iterate over all dictionaries\n",
    "        if d['cyl'] == c: # if the cylinder level type matches,\n",
    "            summpg += float(d['cty']) # add the cty mpg\n",
    "            cyltypecount += 1 # increment the count\n",
    "    CtyMpgByCyl.append((c, summpg / cyltypecount)) # append the tuple ('cylinder', 'avg mpg')\n",
    "\n",
    "#CtyMpgByCyl.sort(key=lambda x: x[0])\n",
    "CtyMpgByCyl"
   ]
  },
  {
   "cell_type": "code",
   "execution_count": null,
   "metadata": {},
   "outputs": [],
   "source": [
    "vehicleclass = set([row['class'] for row in mpg])\n",
    "vehicleclass"
   ]
  },
  {
   "cell_type": "markdown",
   "metadata": {},
   "source": [
    "And here's an example of how to find the average hwy mpg for each class of vehicle in our dataset."
   ]
  },
  {
   "cell_type": "code",
   "execution_count": null,
   "metadata": {},
   "outputs": [],
   "source": [
    "HwyMpgByClass = []\n",
    "\n",
    "for t in vehicleclass: # iterate over all the vehicle classes\n",
    "    summpg = 0\n",
    "    vclasscount = 0\n",
    "    for d in mpg: # iterate over all dictionaries\n",
    "        if d['class'] == t: # if the cylinder amount type matches,\n",
    "            summpg += float(d['hwy']) # add the hwy mpg\n",
    "            vclasscount += 1 # increment the count\n",
    "    HwyMpgByClass.append((t, summpg / vclasscount)) # append the tuple ('class', 'avg mpg')\n",
    "\n",
    "HwyMpgByClass.sort(key=lambda x: x[1])\n",
    "HwyMpgByClass"
   ]
  },
  {
   "cell_type": "markdown",
   "metadata": {},
   "source": [
    "# The Python Programming Language: Dates and Times"
   ]
  },
  {
   "cell_type": "code",
   "execution_count": null,
   "metadata": {},
   "outputs": [],
   "source": [
    "import datetime as dt\n",
    "import time as tm"
   ]
  },
  {
   "cell_type": "markdown",
   "metadata": {},
   "source": [
    "`time` returns the current time in seconds since the Epoch. (January 1st, 1970)"
   ]
  },
  {
   "cell_type": "code",
   "execution_count": null,
   "metadata": {},
   "outputs": [],
   "source": []
  },
  {
   "cell_type": "markdown",
   "metadata": {},
   "source": [
    "Convert the timestamp to datetime."
   ]
  },
  {
   "cell_type": "code",
   "execution_count": null,
   "metadata": {},
   "outputs": [],
   "source": []
  },
  {
   "cell_type": "markdown",
   "metadata": {},
   "source": [
    "Handy datetime attributes:"
   ]
  },
  {
   "cell_type": "code",
   "execution_count": null,
   "metadata": {},
   "outputs": [],
   "source": []
  },
  {
   "cell_type": "markdown",
   "metadata": {},
   "source": [
    "`timedelta` is a duration expressing the difference between two dates."
   ]
  },
  {
   "cell_type": "code",
   "execution_count": null,
   "metadata": {},
   "outputs": [],
   "source": []
  },
  {
   "cell_type": "markdown",
   "metadata": {},
   "source": [
    "`date.today` returns the current local date."
   ]
  },
  {
   "cell_type": "code",
   "execution_count": null,
   "metadata": {},
   "outputs": [],
   "source": []
  },
  {
   "cell_type": "markdown",
   "metadata": {},
   "source": [
    "\n",
    "# The Python Programming Language: Objects and map()"
   ]
  },
  {
   "cell_type": "markdown",
   "metadata": {},
   "source": [
    "An example of a class in python:"
   ]
  },
  {
   "cell_type": "code",
   "execution_count": null,
   "metadata": {},
   "outputs": [],
   "source": [
    "class Person:\n",
    "    department = \"School\"\n",
    "    \n",
    "    def set_name(self, new_name):\n",
    "        self.name = new_name\n",
    "    def say_name(self):\n",
    "        print(self.name)"
   ]
  },
  {
   "cell_type": "markdown",
   "metadata": {},
   "source": [
    "Here's an example of mapping the `min` function between two lists."
   ]
  },
  {
   "cell_type": "code",
   "execution_count": null,
   "metadata": {},
   "outputs": [],
   "source": []
  },
  {
   "cell_type": "markdown",
   "metadata": {},
   "source": [
    "Now let's iterate through the map object to see the values."
   ]
  },
  {
   "cell_type": "code",
   "execution_count": null,
   "metadata": {},
   "outputs": [],
   "source": []
  },
  {
   "cell_type": "markdown",
   "metadata": {},
   "source": [
    "# The Python Programming Language: Lambda and List Comprehensions"
   ]
  },
  {
   "cell_type": "markdown",
   "metadata": {},
   "source": [
    "Here's an example of lambda that takes in three parameters and adds the first two."
   ]
  },
  {
   "cell_type": "code",
   "execution_count": null,
   "metadata": {},
   "outputs": [],
   "source": []
  },
  {
   "cell_type": "markdown",
   "metadata": {},
   "source": [
    "Let's iterate from 0 to 999 and return the even numbers."
   ]
  },
  {
   "cell_type": "code",
   "execution_count": null,
   "metadata": {},
   "outputs": [],
   "source": []
  },
  {
   "cell_type": "markdown",
   "metadata": {},
   "source": [
    "Now the same thing but with list comprehension."
   ]
  },
  {
   "cell_type": "code",
   "execution_count": null,
   "metadata": {},
   "outputs": [],
   "source": []
  },
  {
   "cell_type": "markdown",
   "metadata": {
    "collapsed": true
   },
   "source": [
    "# The Python Programming Language: Numerical Python (NumPy)"
   ]
  },
  {
   "cell_type": "code",
   "execution_count": null,
   "metadata": {},
   "outputs": [],
   "source": [
    "import numpy as np"
   ]
  },
  {
   "cell_type": "markdown",
   "metadata": {},
   "source": [
    "## Creating Arrays"
   ]
  },
  {
   "cell_type": "markdown",
   "metadata": {},
   "source": [
    "Create a list and convert it to a numpy array"
   ]
  },
  {
   "cell_type": "code",
   "execution_count": null,
   "metadata": {},
   "outputs": [],
   "source": []
  },
  {
   "cell_type": "markdown",
   "metadata": {},
   "source": [
    "Or just pass in a list directly"
   ]
  },
  {
   "cell_type": "code",
   "execution_count": null,
   "metadata": {},
   "outputs": [],
   "source": []
  },
  {
   "cell_type": "markdown",
   "metadata": {},
   "source": [
    "Pass in a list of lists to create a multidimensional array."
   ]
  },
  {
   "cell_type": "code",
   "execution_count": null,
   "metadata": {},
   "outputs": [],
   "source": []
  },
  {
   "cell_type": "markdown",
   "metadata": {},
   "source": [
    "Use the shape method to find the dimensions of the array. (rows, columns)"
   ]
  },
  {
   "cell_type": "code",
   "execution_count": null,
   "metadata": {},
   "outputs": [],
   "source": []
  },
  {
   "cell_type": "markdown",
   "metadata": {},
   "source": [
    "`arange` returns evenly spaced values within a given interval."
   ]
  },
  {
   "cell_type": "code",
   "execution_count": null,
   "metadata": {},
   "outputs": [],
   "source": []
  },
  {
   "cell_type": "markdown",
   "metadata": {},
   "source": [
    "`reshape` returns an array with the same data with a new shape."
   ]
  },
  {
   "cell_type": "code",
   "execution_count": null,
   "metadata": {},
   "outputs": [],
   "source": []
  },
  {
   "cell_type": "markdown",
   "metadata": {},
   "source": [
    "`linspace` returns evenly spaced numbers over a specified interval."
   ]
  },
  {
   "cell_type": "code",
   "execution_count": null,
   "metadata": {},
   "outputs": [],
   "source": []
  },
  {
   "cell_type": "markdown",
   "metadata": {},
   "source": [
    "`resize` changes the shape and size of array in-place."
   ]
  },
  {
   "cell_type": "code",
   "execution_count": null,
   "metadata": {},
   "outputs": [],
   "source": []
  },
  {
   "cell_type": "markdown",
   "metadata": {},
   "source": [
    "`ones` returns a new array of given shape and type, filled with ones."
   ]
  },
  {
   "cell_type": "code",
   "execution_count": null,
   "metadata": {},
   "outputs": [],
   "source": []
  },
  {
   "cell_type": "markdown",
   "metadata": {},
   "source": [
    "`zeros` returns a new array of given shape and type, filled with zeros."
   ]
  },
  {
   "cell_type": "code",
   "execution_count": null,
   "metadata": {},
   "outputs": [],
   "source": []
  },
  {
   "cell_type": "markdown",
   "metadata": {},
   "source": [
    "`eye` returns a 2-D array with ones on the diagonal and zeros elsewhere."
   ]
  },
  {
   "cell_type": "code",
   "execution_count": null,
   "metadata": {},
   "outputs": [],
   "source": []
  },
  {
   "cell_type": "markdown",
   "metadata": {},
   "source": [
    "`diag` extracts a diagonal or constructs a diagonal array."
   ]
  },
  {
   "cell_type": "code",
   "execution_count": null,
   "metadata": {},
   "outputs": [],
   "source": []
  },
  {
   "cell_type": "markdown",
   "metadata": {},
   "source": [
    "Create an array using repeating list (or see `np.tile`)"
   ]
  },
  {
   "cell_type": "code",
   "execution_count": null,
   "metadata": {},
   "outputs": [],
   "source": []
  },
  {
   "cell_type": "markdown",
   "metadata": {},
   "source": [
    "Repeat elements of an array using `repeat`."
   ]
  },
  {
   "cell_type": "code",
   "execution_count": null,
   "metadata": {},
   "outputs": [],
   "source": []
  },
  {
   "cell_type": "markdown",
   "metadata": {},
   "source": [
    "#### Combining Arrays"
   ]
  },
  {
   "cell_type": "code",
   "execution_count": null,
   "metadata": {},
   "outputs": [],
   "source": []
  },
  {
   "cell_type": "markdown",
   "metadata": {},
   "source": [
    "Use `vstack` to stack arrays in sequence vertically (row wise)."
   ]
  },
  {
   "cell_type": "code",
   "execution_count": null,
   "metadata": {},
   "outputs": [],
   "source": []
  },
  {
   "cell_type": "markdown",
   "metadata": {},
   "source": [
    "Use `hstack` to stack arrays in sequence horizontally (column wise)."
   ]
  },
  {
   "cell_type": "code",
   "execution_count": null,
   "metadata": {},
   "outputs": [],
   "source": []
  },
  {
   "cell_type": "markdown",
   "metadata": {},
   "source": [
    "## Operations"
   ]
  },
  {
   "cell_type": "markdown",
   "metadata": {},
   "source": [
    "Use `+`, `-`, `*`, `/` and `**` to perform element wise addition, subtraction, multiplication, division and power."
   ]
  },
  {
   "cell_type": "code",
   "execution_count": null,
   "metadata": {},
   "outputs": [],
   "source": []
  },
  {
   "cell_type": "markdown",
   "metadata": {},
   "source": [
    "**Dot Product:**  \n",
    "\n",
    "$ \\begin{bmatrix}x_1 \\ x_2 \\ x_3\\end{bmatrix}\n",
    "\\cdot\n",
    "\\begin{bmatrix}y_1 \\\\ y_2 \\\\ y_3\\end{bmatrix}\n",
    "= x_1 y_1 + x_2 y_2 + x_3 y_3$"
   ]
  },
  {
   "cell_type": "code",
   "execution_count": null,
   "metadata": {},
   "outputs": [],
   "source": []
  },
  {
   "cell_type": "markdown",
   "metadata": {},
   "source": [
    "Let's look at transposing arrays. Transposing permutes the dimensions of the array."
   ]
  },
  {
   "cell_type": "code",
   "execution_count": null,
   "metadata": {},
   "outputs": [],
   "source": []
  },
  {
   "cell_type": "markdown",
   "metadata": {},
   "source": [
    "The shape of array `z` is `(2,3)` before transposing."
   ]
  },
  {
   "cell_type": "code",
   "execution_count": null,
   "metadata": {},
   "outputs": [],
   "source": []
  },
  {
   "cell_type": "markdown",
   "metadata": {},
   "source": [
    "Use `.T` to get the transpose."
   ]
  },
  {
   "cell_type": "code",
   "execution_count": null,
   "metadata": {},
   "outputs": [],
   "source": []
  },
  {
   "cell_type": "markdown",
   "metadata": {},
   "source": [
    "\n",
    "The number of rows has swapped with the number of columns."
   ]
  },
  {
   "cell_type": "code",
   "execution_count": null,
   "metadata": {},
   "outputs": [],
   "source": []
  },
  {
   "cell_type": "markdown",
   "metadata": {},
   "source": [
    "Use `.dtype` to see the data type of the elements in the array."
   ]
  },
  {
   "cell_type": "code",
   "execution_count": null,
   "metadata": {},
   "outputs": [],
   "source": []
  },
  {
   "cell_type": "markdown",
   "metadata": {},
   "source": [
    "Use `.astype` to cast to a specific type."
   ]
  },
  {
   "cell_type": "code",
   "execution_count": null,
   "metadata": {},
   "outputs": [],
   "source": []
  },
  {
   "cell_type": "markdown",
   "metadata": {},
   "source": [
    "## Math Functions"
   ]
  },
  {
   "cell_type": "markdown",
   "metadata": {},
   "source": [
    "Numpy has many built in math functions that can be performed on arrays."
   ]
  },
  {
   "cell_type": "code",
   "execution_count": null,
   "metadata": {},
   "outputs": [],
   "source": []
  },
  {
   "cell_type": "markdown",
   "metadata": {},
   "source": [
    "Sum"
   ]
  },
  {
   "cell_type": "code",
   "execution_count": null,
   "metadata": {},
   "outputs": [],
   "source": []
  },
  {
   "cell_type": "markdown",
   "metadata": {},
   "source": [
    "Max"
   ]
  },
  {
   "cell_type": "code",
   "execution_count": null,
   "metadata": {},
   "outputs": [],
   "source": []
  },
  {
   "cell_type": "markdown",
   "metadata": {},
   "source": [
    "Min"
   ]
  },
  {
   "cell_type": "code",
   "execution_count": null,
   "metadata": {},
   "outputs": [],
   "source": []
  },
  {
   "cell_type": "markdown",
   "metadata": {},
   "source": [
    "Mean"
   ]
  },
  {
   "cell_type": "code",
   "execution_count": null,
   "metadata": {},
   "outputs": [],
   "source": []
  },
  {
   "cell_type": "markdown",
   "metadata": {},
   "source": [
    "Std"
   ]
  },
  {
   "cell_type": "code",
   "execution_count": null,
   "metadata": {},
   "outputs": [],
   "source": []
  },
  {
   "cell_type": "markdown",
   "metadata": {},
   "source": [
    "`argmax` and `argmin` return the index of the maximum and minimum values in the array."
   ]
  },
  {
   "cell_type": "markdown",
   "metadata": {
    "collapsed": true
   },
   "source": [
    "argmax()"
   ]
  },
  {
   "cell_type": "code",
   "execution_count": null,
   "metadata": {},
   "outputs": [],
   "source": []
  },
  {
   "cell_type": "markdown",
   "metadata": {
    "collapsed": true
   },
   "source": [
    "a.argmin()"
   ]
  },
  {
   "cell_type": "code",
   "execution_count": null,
   "metadata": {},
   "outputs": [],
   "source": []
  },
  {
   "cell_type": "markdown",
   "metadata": {},
   "source": [
    "## Indexing / Slicing"
   ]
  },
  {
   "cell_type": "code",
   "execution_count": null,
   "metadata": {},
   "outputs": [],
   "source": []
  },
  {
   "cell_type": "markdown",
   "metadata": {},
   "source": [
    "Use bracket notation to get the value at a specific index. Remember that indexing starts at 0."
   ]
  },
  {
   "cell_type": "code",
   "execution_count": null,
   "metadata": {},
   "outputs": [],
   "source": []
  },
  {
   "cell_type": "markdown",
   "metadata": {},
   "source": [
    "Use `:` to indicate a range. `array[start:stop]`\n",
    "\n",
    "\n",
    "Leaving `start` or `stop` empty will default to the beginning/end of the array."
   ]
  },
  {
   "cell_type": "code",
   "execution_count": null,
   "metadata": {},
   "outputs": [],
   "source": []
  },
  {
   "cell_type": "markdown",
   "metadata": {},
   "source": [
    "Use negatives to count from the back."
   ]
  },
  {
   "cell_type": "code",
   "execution_count": null,
   "metadata": {},
   "outputs": [],
   "source": []
  },
  {
   "cell_type": "markdown",
   "metadata": {},
   "source": [
    "A second `:` can be used to indicate step-size. `array[start:stop:stepsize]`\n",
    "\n",
    "Here we are starting 5th element from the end, and counting backwards by 2 until the beginning of the array is reached."
   ]
  },
  {
   "cell_type": "code",
   "execution_count": null,
   "metadata": {},
   "outputs": [],
   "source": []
  },
  {
   "cell_type": "markdown",
   "metadata": {},
   "source": [
    "Let's look at a multidimensional array."
   ]
  },
  {
   "cell_type": "code",
   "execution_count": null,
   "metadata": {},
   "outputs": [],
   "source": []
  },
  {
   "cell_type": "markdown",
   "metadata": {},
   "source": [
    "Use bracket notation to slice: `array[row, column]`"
   ]
  },
  {
   "cell_type": "code",
   "execution_count": null,
   "metadata": {},
   "outputs": [],
   "source": []
  },
  {
   "cell_type": "markdown",
   "metadata": {},
   "source": [
    "And use : to select a range of rows or columns"
   ]
  },
  {
   "cell_type": "code",
   "execution_count": null,
   "metadata": {},
   "outputs": [],
   "source": []
  },
  {
   "cell_type": "markdown",
   "metadata": {},
   "source": [
    "Here we are selecting all the rows up to (and not including) row 2, and all the columns up to (and not including) the last column."
   ]
  },
  {
   "cell_type": "code",
   "execution_count": null,
   "metadata": {},
   "outputs": [],
   "source": []
  },
  {
   "cell_type": "markdown",
   "metadata": {},
   "source": [
    "This is a slice of the last row, and only every other element."
   ]
  },
  {
   "cell_type": "code",
   "execution_count": null,
   "metadata": {},
   "outputs": [],
   "source": []
  },
  {
   "cell_type": "markdown",
   "metadata": {},
   "source": [
    "We can also perform conditional indexing. Here we are selecting values from the array that are greater than 30. (Also see `np.where`)"
   ]
  },
  {
   "cell_type": "code",
   "execution_count": null,
   "metadata": {},
   "outputs": [],
   "source": []
  },
  {
   "cell_type": "markdown",
   "metadata": {},
   "source": [
    "Here we are assigning all values in the array that are greater than 30 to the value of 30."
   ]
  },
  {
   "cell_type": "code",
   "execution_count": null,
   "metadata": {},
   "outputs": [],
   "source": [
    "r[r>30] = 100"
   ]
  },
  {
   "cell_type": "code",
   "execution_count": null,
   "metadata": {},
   "outputs": [],
   "source": [
    "r"
   ]
  },
  {
   "cell_type": "markdown",
   "metadata": {},
   "source": [
    "## Copying Data"
   ]
  },
  {
   "cell_type": "markdown",
   "metadata": {},
   "source": [
    "Be careful with copying and modifying arrays in NumPy!\n",
    "\n",
    "\n",
    "`r2` is a slice of `r`"
   ]
  },
  {
   "cell_type": "code",
   "execution_count": null,
   "metadata": {},
   "outputs": [],
   "source": []
  },
  {
   "cell_type": "code",
   "execution_count": null,
   "metadata": {},
   "outputs": [],
   "source": [
    "# r2 = 0"
   ]
  },
  {
   "cell_type": "markdown",
   "metadata": {},
   "source": [
    "Set this slice's values to zero ([:] selects the entire array)"
   ]
  },
  {
   "cell_type": "code",
   "execution_count": null,
   "metadata": {},
   "outputs": [],
   "source": []
  },
  {
   "cell_type": "markdown",
   "metadata": {},
   "source": [
    "`r` has also been changed!"
   ]
  },
  {
   "cell_type": "code",
   "execution_count": null,
   "metadata": {},
   "outputs": [],
   "source": []
  },
  {
   "cell_type": "markdown",
   "metadata": {},
   "source": [
    "To avoid this, use `r.copy` to create a copy that will not affect the original array"
   ]
  },
  {
   "cell_type": "code",
   "execution_count": null,
   "metadata": {},
   "outputs": [],
   "source": []
  },
  {
   "cell_type": "markdown",
   "metadata": {},
   "source": [
    "Now when r_copy is modified, r will not be changed."
   ]
  },
  {
   "cell_type": "code",
   "execution_count": null,
   "metadata": {},
   "outputs": [],
   "source": []
  },
  {
   "cell_type": "markdown",
   "metadata": {},
   "source": [
    "### Iterating Over Arrays"
   ]
  },
  {
   "cell_type": "markdown",
   "metadata": {},
   "source": [
    "Let's create a new 4 by 3 array of random numbers 0-9."
   ]
  },
  {
   "cell_type": "code",
   "execution_count": null,
   "metadata": {},
   "outputs": [],
   "source": []
  },
  {
   "cell_type": "markdown",
   "metadata": {},
   "source": [
    "\n",
    "Iterate by row:"
   ]
  },
  {
   "cell_type": "code",
   "execution_count": null,
   "metadata": {},
   "outputs": [],
   "source": []
  },
  {
   "cell_type": "markdown",
   "metadata": {},
   "source": [
    "\n",
    "Iterate by index:"
   ]
  },
  {
   "cell_type": "code",
   "execution_count": null,
   "metadata": {},
   "outputs": [],
   "source": []
  },
  {
   "cell_type": "markdown",
   "metadata": {},
   "source": [
    "Iterate by row and index:"
   ]
  },
  {
   "cell_type": "code",
   "execution_count": null,
   "metadata": {},
   "outputs": [],
   "source": []
  },
  {
   "cell_type": "markdown",
   "metadata": {},
   "source": [
    "Use `zip` to iterate over multiple iterables."
   ]
  },
  {
   "cell_type": "code",
   "execution_count": null,
   "metadata": {},
   "outputs": [],
   "source": []
  }
 ],
 "metadata": {
  "kernelspec": {
   "display_name": "Python 3",
   "language": "python",
   "name": "python3"
  },
  "language_info": {
   "codemirror_mode": {
    "name": "ipython",
    "version": 3
   },
   "file_extension": ".py",
   "mimetype": "text/x-python",
   "name": "python",
   "nbconvert_exporter": "python",
   "pygments_lexer": "ipython3",
   "version": "3.7.8"
  }
 },
 "nbformat": 4,
 "nbformat_minor": 1
}