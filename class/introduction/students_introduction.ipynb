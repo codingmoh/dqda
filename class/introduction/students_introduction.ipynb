{
 "cells": [
  {
   "cell_type": "markdown",
   "metadata": {},
   "source": [
    "# Zen of python"
   ]
  },
  {
   "cell_type": "markdown",
   "metadata": {},
   "source": []
  },
  {
   "cell_type": "code",
   "execution_count": 1,
   "metadata": {},
   "outputs": [
    {
     "name": "stdout",
     "output_type": "stream",
     "text": [
      "The Zen of Python, by Tim Peters\n",
      "\n",
      "Beautiful is better than ugly.\n",
      "Explicit is better than implicit.\n",
      "Simple is better than complex.\n",
      "Complex is better than complicated.\n",
      "Flat is better than nested.\n",
      "Sparse is better than dense.\n",
      "Readability counts.\n",
      "Special cases aren't special enough to break the rules.\n",
      "Although practicality beats purity.\n",
      "Errors should never pass silently.\n",
      "Unless explicitly silenced.\n",
      "In the face of ambiguity, refuse the temptation to guess.\n",
      "There should be one-- and preferably only one --obvious way to do it.\n",
      "Although that way may not be obvious at first unless you're Dutch.\n",
      "Now is better than never.\n",
      "Although never is often better than *right* now.\n",
      "If the implementation is hard to explain, it's a bad idea.\n",
      "If the implementation is easy to explain, it may be a good idea.\n",
      "Namespaces are one honking great idea -- let's do more of those!\n"
     ]
    }
   ],
   "source": [
    "import this"
   ]
  },
  {
   "cell_type": "markdown",
   "metadata": {},
   "source": [
    "# The Python Programming Language: Types and Sequences"
   ]
  },
  {
   "cell_type": "markdown",
   "metadata": {},
   "source": [
    "Use `type` to return the object's type."
   ]
  },
  {
   "cell_type": "code",
   "execution_count": 3,
   "metadata": {},
   "outputs": [
    {
     "data": {
      "text/plain": [
       "int"
      ]
     },
     "execution_count": 3,
     "metadata": {},
     "output_type": "execute_result"
    }
   ],
   "source": [
    "type(\"hello\")\n",
    "type(123)"
   ]
  },
  {
   "cell_type": "code",
   "execution_count": 4,
   "metadata": {},
   "outputs": [
    {
     "data": {
      "text/plain": [
       "int"
      ]
     },
     "execution_count": 4,
     "metadata": {},
     "output_type": "execute_result"
    }
   ],
   "source": [
    "type(33 + 5)"
   ]
  },
  {
   "cell_type": "code",
   "execution_count": 6,
   "metadata": {},
   "outputs": [
    {
     "data": {
      "text/plain": [
       "int"
      ]
     },
     "execution_count": 6,
     "metadata": {},
     "output_type": "execute_result"
    }
   ],
   "source": [
    "type(10 * 10)"
   ]
  },
  {
   "cell_type": "code",
   "execution_count": 8,
   "metadata": {},
   "outputs": [
    {
     "data": {
      "text/plain": [
       "float"
      ]
     },
     "execution_count": 8,
     "metadata": {},
     "output_type": "execute_result"
    }
   ],
   "source": [
    "type(100 / 10)"
   ]
  },
  {
   "cell_type": "code",
   "execution_count": 9,
   "metadata": {},
   "outputs": [
    {
     "data": {
      "text/plain": [
       "2.3333333333333335"
      ]
     },
     "execution_count": 9,
     "metadata": {},
     "output_type": "execute_result"
    }
   ],
   "source": [
    "7 / 3"
   ]
  },
  {
   "cell_type": "code",
   "execution_count": 10,
   "metadata": {},
   "outputs": [
    {
     "data": {
      "text/plain": [
       "2"
      ]
     },
     "execution_count": 10,
     "metadata": {},
     "output_type": "execute_result"
    }
   ],
   "source": [
    "7 // 3"
   ]
  },
  {
   "cell_type": "code",
   "execution_count": 12,
   "metadata": {},
   "outputs": [
    {
     "data": {
      "text/plain": [
       "8"
      ]
     },
     "execution_count": 12,
     "metadata": {},
     "output_type": "execute_result"
    }
   ],
   "source": [
    "# exponents\n",
    "2 ** 3"
   ]
  },
  {
   "cell_type": "code",
   "execution_count": 13,
   "metadata": {},
   "outputs": [
    {
     "data": {
      "text/plain": [
       "1"
      ]
     },
     "execution_count": 13,
     "metadata": {},
     "output_type": "execute_result"
    }
   ],
   "source": [
    "7 % 3"
   ]
  },
  {
   "cell_type": "code",
   "execution_count": 14,
   "metadata": {},
   "outputs": [
    {
     "data": {
      "text/plain": [
       "'hallo und herzlich willkommen'"
      ]
     },
     "execution_count": 14,
     "metadata": {},
     "output_type": "execute_result"
    }
   ],
   "source": [
    "\"hallo \" + \"und herzlich willkommen\""
   ]
  },
  {
   "cell_type": "code",
   "execution_count": 15,
   "metadata": {},
   "outputs": [
    {
     "data": {
      "text/plain": [
       "'HalloHalloHallo'"
      ]
     },
     "execution_count": 15,
     "metadata": {},
     "output_type": "execute_result"
    }
   ],
   "source": [
    "\"Hallo\" * 3"
   ]
  },
  {
   "cell_type": "code",
   "execution_count": 17,
   "metadata": {},
   "outputs": [],
   "source": [
    "name = \"moritz\""
   ]
  },
  {
   "cell_type": "code",
   "execution_count": 19,
   "metadata": {},
   "outputs": [
    {
     "data": {
      "text/plain": [
       "False"
      ]
     },
     "execution_count": 19,
     "metadata": {},
     "output_type": "execute_result"
    }
   ],
   "source": [
    "name == \"alex\""
   ]
  },
  {
   "cell_type": "code",
   "execution_count": 20,
   "metadata": {},
   "outputs": [
    {
     "data": {
      "text/plain": [
       "True"
      ]
     },
     "execution_count": 20,
     "metadata": {},
     "output_type": "execute_result"
    }
   ],
   "source": [
    "name == \"moritz\""
   ]
  },
  {
   "cell_type": "code",
   "execution_count": 23,
   "metadata": {},
   "outputs": [
    {
     "data": {
      "text/plain": [
       "True"
      ]
     },
     "execution_count": 23,
     "metadata": {},
     "output_type": "execute_result"
    }
   ],
   "source": [
    "x = 10\n",
    "\n",
    "x != 100\n",
    "x == 10"
   ]
  },
  {
   "cell_type": "code",
   "execution_count": 24,
   "metadata": {},
   "outputs": [
    {
     "data": {
      "text/plain": [
       "False"
      ]
     },
     "execution_count": 24,
     "metadata": {},
     "output_type": "execute_result"
    }
   ],
   "source": [
    "x < 10"
   ]
  },
  {
   "cell_type": "code",
   "execution_count": 28,
   "metadata": {},
   "outputs": [
    {
     "data": {
      "text/plain": [
       "False"
      ]
     },
     "execution_count": 28,
     "metadata": {},
     "output_type": "execute_result"
    }
   ],
   "source": [
    "(5 < x < 100)"
   ]
  },
  {
   "cell_type": "code",
   "execution_count": 36,
   "metadata": {},
   "outputs": [],
   "source": []
  },
  {
   "cell_type": "code",
   "execution_count": 40,
   "metadata": {},
   "outputs": [
    {
     "data": {
      "text/plain": [
       "str"
      ]
     },
     "execution_count": 40,
     "metadata": {},
     "output_type": "execute_result"
    }
   ],
   "source": [
    "type(number)"
   ]
  },
  {
   "cell_type": "code",
   "execution_count": 43,
   "metadata": {},
   "outputs": [
    {
     "data": {
      "text/plain": [
       "10"
      ]
     },
     "execution_count": 43,
     "metadata": {},
     "output_type": "execute_result"
    }
   ],
   "source": [
    "int(\"10\")"
   ]
  },
  {
   "cell_type": "code",
   "execution_count": 52,
   "metadata": {},
   "outputs": [
    {
     "data": {
      "text/plain": [
       "False"
      ]
     },
     "execution_count": 52,
     "metadata": {},
     "output_type": "execute_result"
    }
   ],
   "source": [
    "number = 100\n",
    "other_number = int(\"50\") # this is a string\n",
    "type(other_number)\n",
    "\n",
    "number < other_number"
   ]
  },
  {
   "cell_type": "code",
   "execution_count": 64,
   "metadata": {},
   "outputs": [
    {
     "data": {
      "text/plain": [
       "int"
      ]
     },
     "execution_count": 64,
     "metadata": {},
     "output_type": "execute_result"
    }
   ],
   "source": [
    "user_input = input()\n",
    "user_input_int = int(user_input)\n",
    "type(user_input_int)"
   ]
  },
  {
   "cell_type": "code",
   "execution_count": 66,
   "metadata": {},
   "outputs": [
    {
     "name": "stdout",
     "output_type": "stream",
     "text": [
      "goooosh you are young\n"
     ]
    }
   ],
   "source": [
    "age = int(input())\n",
    "if age < 30:\n",
    "    print(\"goooosh you are young\")\n",
    "else:\n",
    "    print(\"you old man\")"
   ]
  },
  {
   "cell_type": "code",
   "execution_count": 74,
   "metadata": {},
   "outputs": [
    {
     "data": {
      "text/plain": [
       "6"
      ]
     },
     "execution_count": 74,
     "metadata": {},
     "output_type": "execute_result"
    }
   ],
   "source": [
    "3 * 4 - 2\n",
    "3 * (4 - 2)"
   ]
  },
  {
   "cell_type": "code",
   "execution_count": 76,
   "metadata": {},
   "outputs": [
    {
     "name": "stdout",
     "output_type": "stream",
     "text": [
      "this is the number 100\n"
     ]
    }
   ],
   "source": [
    "print(\"this is the number\", number)"
   ]
  },
  {
   "cell_type": "markdown",
   "metadata": {},
   "source": [
    "# The Python Programming Language: Functions"
   ]
  },
  {
   "cell_type": "markdown",
   "metadata": {},
   "source": [
    "`add_numbers` is a function that takes two numbers and adds them together."
   ]
  },
  {
   "cell_type": "code",
   "execution_count": 93,
   "metadata": {},
   "outputs": [],
   "source": [
    "def add_numbers(x, y):\n",
    "    return x + y"
   ]
  },
  {
   "cell_type": "code",
   "execution_count": 94,
   "metadata": {},
   "outputs": [
    {
     "data": {
      "text/plain": [
       "5"
      ]
     },
     "execution_count": 94,
     "metadata": {},
     "output_type": "execute_result"
    }
   ],
   "source": [
    "add_numbers(2,3)"
   ]
  },
  {
   "cell_type": "markdown",
   "metadata": {},
   "source": [
    "Try calling the function using strings"
   ]
  },
  {
   "cell_type": "code",
   "execution_count": 96,
   "metadata": {},
   "outputs": [
    {
     "data": {
      "text/plain": [
       "'abcdef'"
      ]
     },
     "execution_count": 96,
     "metadata": {},
     "output_type": "execute_result"
    }
   ],
   "source": [
    "add_numbers('abc','def')"
   ]
  },
  {
   "cell_type": "markdown",
   "metadata": {},
   "source": [
    "Now using a 3rd parameter"
   ]
  },
  {
   "cell_type": "code",
   "execution_count": 97,
   "metadata": {},
   "outputs": [
    {
     "ename": "TypeError",
     "evalue": "add_numbers() takes 2 positional arguments but 3 were given",
     "output_type": "error",
     "traceback": [
      "\u001b[1;31m---------------------------------------------------------------------------\u001b[0m",
      "\u001b[1;31mTypeError\u001b[0m                                 Traceback (most recent call last)",
      "Input \u001b[1;32mIn [97]\u001b[0m, in \u001b[0;36m<cell line: 1>\u001b[1;34m()\u001b[0m\n\u001b[1;32m----> 1\u001b[0m \u001b[43madd_numbers\u001b[49m\u001b[43m(\u001b[49m\u001b[38;5;241;43m1\u001b[39;49m\u001b[43m,\u001b[49m\u001b[38;5;241;43m2\u001b[39;49m\u001b[43m,\u001b[49m\u001b[38;5;241;43m3\u001b[39;49m\u001b[43m)\u001b[49m\n",
      "\u001b[1;31mTypeError\u001b[0m: add_numbers() takes 2 positional arguments but 3 were given"
     ]
    }
   ],
   "source": [
    "add_numbers(1,2,3)"
   ]
  },
  {
   "cell_type": "markdown",
   "metadata": {},
   "source": [
    "Support an additional parameter"
   ]
  },
  {
   "cell_type": "code",
   "execution_count": 99,
   "metadata": {},
   "outputs": [],
   "source": [
    "def add_numbers(x, y, z):\n",
    "    return x + y + z"
   ]
  },
  {
   "cell_type": "code",
   "execution_count": 101,
   "metadata": {},
   "outputs": [
    {
     "data": {
      "text/plain": [
       "10"
      ]
     },
     "execution_count": 101,
     "metadata": {},
     "output_type": "execute_result"
    }
   ],
   "source": [
    "add_numbers(2,3,5)"
   ]
  },
  {
   "cell_type": "code",
   "execution_count": 107,
   "metadata": {},
   "outputs": [],
   "source": [
    "def add_numbers(x, y, z=5):\n",
    "    return x+y+z"
   ]
  },
  {
   "cell_type": "code",
   "execution_count": 109,
   "metadata": {},
   "outputs": [
    {
     "data": {
      "text/plain": [
       "5"
      ]
     },
     "execution_count": 109,
     "metadata": {},
     "output_type": "execute_result"
    }
   ],
   "source": [
    "add_numbers(2,3,0)"
   ]
  },
  {
   "cell_type": "code",
   "execution_count": 110,
   "metadata": {},
   "outputs": [
    {
     "data": {
      "text/plain": [
       "10"
      ]
     },
     "execution_count": 110,
     "metadata": {},
     "output_type": "execute_result"
    }
   ],
   "source": [
    "add_numbers(z=5, x=3, y=2)"
   ]
  },
  {
   "cell_type": "markdown",
   "metadata": {},
   "source": [
    "`add_numbers` updated to take an optional flag parameter. Using `print` allows printing of multiple expressions within a single cell."
   ]
  },
  {
   "cell_type": "code",
   "execution_count": 115,
   "metadata": {},
   "outputs": [],
   "source": [
    "def add_numbers(x, y, z=None, flag=False):\n",
    "    return\n",
    "\n",
    "add_numbers(1,2)\n",
    "add_numbers(1,2,3)\n",
    "add_numbers(1,2,3,4)"
   ]
  },
  {
   "cell_type": "markdown",
   "metadata": {},
   "source": [
    "Assign function `add_numbers` to variable `a`."
   ]
  },
  {
   "cell_type": "code",
   "execution_count": 121,
   "metadata": {},
   "outputs": [
    {
     "name": "stdout",
     "output_type": "stream",
     "text": [
      "Flag is true\n",
      "3\n"
     ]
    }
   ],
   "source": [
    "def add_numbers(x, y, z=None, flag=False):\n",
    "    if flag:\n",
    "        print('Flag is true')\n",
    "    if not z:\n",
    "        return x+y\n",
    "    else:\n",
    "        return x+y+z\n",
    "\n",
    "print(add_numbers(1, 2, flag=True))"
   ]
  },
  {
   "cell_type": "code",
   "execution_count": 120,
   "metadata": {},
   "outputs": [
    {
     "name": "stdout",
     "output_type": "stream",
     "text": [
      "Flag is true\n",
      "6\n"
     ]
    }
   ],
   "source": [
    "print(add_numbers(1,2,3, True))"
   ]
  },
  {
   "cell_type": "code",
   "execution_count": 123,
   "metadata": {},
   "outputs": [
    {
     "data": {
      "text/plain": [
       "6"
      ]
     },
     "execution_count": 123,
     "metadata": {},
     "output_type": "execute_result"
    }
   ],
   "source": [
    "x = 3\n",
    "y = 4"
   ]
  },
  {
   "cell_type": "markdown",
   "metadata": {},
   "source": [
    "# Tuples & Lists\n"
   ]
  },
  {
   "cell_type": "markdown",
   "metadata": {},
   "source": [
    "## Lists\n",
    "Lists are a mutable data structure."
   ]
  },
  {
   "cell_type": "code",
   "execution_count": 130,
   "metadata": {},
   "outputs": [],
   "source": [
    "x = 3\n",
    "y = 4"
   ]
  },
  {
   "cell_type": "code",
   "execution_count": 162,
   "metadata": {},
   "outputs": [
    {
     "data": {
      "text/plain": [
       "[100, 3, 4, 5]"
      ]
     },
     "execution_count": 162,
     "metadata": {},
     "output_type": "execute_result"
    }
   ],
   "source": [
    "liste = [100, x, y, 5]\n",
    "liste"
   ]
  },
  {
   "cell_type": "markdown",
   "metadata": {},
   "source": [
    "Use `append` to append an object to a list."
   ]
  },
  {
   "cell_type": "code",
   "execution_count": 157,
   "metadata": {},
   "outputs": [
    {
     "data": {
      "text/plain": [
       "[3, 4, 5, 6]"
      ]
     },
     "execution_count": 157,
     "metadata": {},
     "output_type": "execute_result"
    }
   ],
   "source": [
    "liste.append(6)\n",
    "liste"
   ]
  },
  {
   "cell_type": "code",
   "execution_count": 159,
   "metadata": {},
   "outputs": [
    {
     "data": {
      "text/plain": [
       "[3, 4, 5, 6, 'Max', 1.3]"
      ]
     },
     "execution_count": 159,
     "metadata": {},
     "output_type": "execute_result"
    }
   ],
   "source": [
    "liste.append(1.3)\n",
    "liste.append('Max')"
   ]
  },
  {
   "cell_type": "code",
   "execution_count": 161,
   "metadata": {},
   "outputs": [
    {
     "data": {
      "text/plain": [
       "4"
      ]
     },
     "execution_count": 161,
     "metadata": {},
     "output_type": "execute_result"
    }
   ],
   "source": [
    "liste[0]  # index bei 0 anfängt zu zählen, liste[1] ist erster eintrag\n",
    "liste[1] # index bei 0 anfängt zu zählen, liste[1] ist zweiter eintrag"
   ]
  },
  {
   "cell_type": "code",
   "execution_count": 166,
   "metadata": {},
   "outputs": [
    {
     "data": {
      "text/plain": [
       "[100, 3, 4, 5]"
      ]
     },
     "execution_count": 166,
     "metadata": {},
     "output_type": "execute_result"
    }
   ],
   "source": [
    "liste"
   ]
  },
  {
   "cell_type": "code",
   "execution_count": 165,
   "metadata": {},
   "outputs": [
    {
     "data": {
      "text/plain": [
       "300"
      ]
     },
     "execution_count": 165,
     "metadata": {},
     "output_type": "execute_result"
    }
   ],
   "source": [
    "liste[0] * 3"
   ]
  },
  {
   "cell_type": "markdown",
   "metadata": {},
   "source": [
    "This is an example of how to loop through each item in the list."
   ]
  },
  {
   "cell_type": "code",
   "execution_count": 168,
   "metadata": {},
   "outputs": [
    {
     "name": "stdout",
     "output_type": "stream",
     "text": [
      "list contains value 100\n",
      "list contains value 3\n",
      "list contains value 4\n",
      "list contains value 5\n"
     ]
    }
   ],
   "source": [
    "for item in liste:\n",
    "    print(\"list contains value\", item)"
   ]
  },
  {
   "cell_type": "code",
   "execution_count": 180,
   "metadata": {},
   "outputs": [
    {
     "data": {
      "text/plain": [
       "[100, 3, 4, 5]"
      ]
     },
     "execution_count": 180,
     "metadata": {},
     "output_type": "execute_result"
    }
   ],
   "source": [
    "liste[:]"
   ]
  },
  {
   "cell_type": "code",
   "execution_count": 171,
   "metadata": {},
   "outputs": [
    {
     "data": {
      "text/plain": [
       "[3, 4, 5]"
      ]
     },
     "execution_count": 171,
     "metadata": {},
     "output_type": "execute_result"
    }
   ],
   "source": [
    "liste[1:] # retrieve all values from index = 1 to end"
   ]
  },
  {
   "cell_type": "code",
   "execution_count": 183,
   "metadata": {},
   "outputs": [
    {
     "data": {
      "text/plain": [
       "[3, 4]"
      ]
     },
     "execution_count": 183,
     "metadata": {},
     "output_type": "execute_result"
    }
   ],
   "source": [
    "liste[1:3] # retrieve all values from index 1 to index 3 (excl.)"
   ]
  },
  {
   "cell_type": "markdown",
   "metadata": {},
   "source": [
    "**len()** Für die Anzahl der Einträge"
   ]
  },
  {
   "cell_type": "code",
   "execution_count": 185,
   "metadata": {},
   "outputs": [
    {
     "data": {
      "text/plain": [
       "16"
      ]
     },
     "execution_count": 185,
     "metadata": {},
     "output_type": "execute_result"
    }
   ],
   "source": [
    "len(\"das ist ein wort\")"
   ]
  },
  {
   "cell_type": "code",
   "execution_count": 184,
   "metadata": {},
   "outputs": [
    {
     "data": {
      "text/plain": [
       "4"
      ]
     },
     "execution_count": 184,
     "metadata": {},
     "output_type": "execute_result"
    }
   ],
   "source": [
    "len(liste)"
   ]
  },
  {
   "cell_type": "markdown",
   "metadata": {},
   "source": [
    "Or using the indexing operator:"
   ]
  },
  {
   "cell_type": "code",
   "execution_count": null,
   "metadata": {},
   "outputs": [],
   "source": []
  },
  {
   "cell_type": "markdown",
   "metadata": {},
   "source": [
    "Use `+` to concatenate lists."
   ]
  },
  {
   "cell_type": "code",
   "execution_count": 187,
   "metadata": {},
   "outputs": [
    {
     "data": {
      "text/plain": [
       "[1, 2, 3, 4, 5, 6, 100, 3, 4, 5]"
      ]
     },
     "execution_count": 187,
     "metadata": {},
     "output_type": "execute_result"
    }
   ],
   "source": [
    "[1,2] + [3,4] + [5,6] + liste"
   ]
  },
  {
   "cell_type": "markdown",
   "metadata": {},
   "source": [
    "Use `*` to repeat lists."
   ]
  },
  {
   "cell_type": "code",
   "execution_count": 188,
   "metadata": {},
   "outputs": [
    {
     "data": {
      "text/plain": [
       "[100, 3, 4, 5, 100, 3, 4, 5, 100, 3, 4, 5]"
      ]
     },
     "execution_count": 188,
     "metadata": {},
     "output_type": "execute_result"
    }
   ],
   "source": [
    "liste * 3"
   ]
  },
  {
   "cell_type": "markdown",
   "metadata": {},
   "source": [
    "Use the `in` operator to check if something is inside a list."
   ]
  },
  {
   "cell_type": "code",
   "execution_count": 194,
   "metadata": {},
   "outputs": [
    {
     "name": "stdout",
     "output_type": "stream",
     "text": [
      "number occurs 100\n"
     ]
    }
   ],
   "source": [
    "# usage of in operator\n",
    "number_request = int(input())\n",
    "if number_request in liste:\n",
    "    print('number occurs', number_request)\n",
    "else:\n",
    "    print('list does not contain number', number_request)"
   ]
  },
  {
   "cell_type": "code",
   "execution_count": 196,
   "metadata": {},
   "outputs": [],
   "source": [
    "liste.insert(2,-99)"
   ]
  },
  {
   "cell_type": "code",
   "execution_count": 198,
   "metadata": {},
   "outputs": [],
   "source": [
    "liste.remove(3)"
   ]
  },
  {
   "cell_type": "code",
   "execution_count": 203,
   "metadata": {},
   "outputs": [],
   "source": [
    "liste[1] = 75 # lists are mutable, i.e. we can overwrite values, and extend the list of items a list contains"
   ]
  },
  {
   "cell_type": "code",
   "execution_count": 202,
   "metadata": {},
   "outputs": [
    {
     "data": {
      "text/plain": [
       "[100, 75, 4, 5]"
      ]
     },
     "execution_count": 202,
     "metadata": {},
     "output_type": "execute_result"
    }
   ],
   "source": [
    "liste"
   ]
  },
  {
   "cell_type": "markdown",
   "metadata": {},
   "source": [
    "Ab der dritten Stelle bis zum Ende"
   ]
  },
  {
   "cell_type": "code",
   "execution_count": null,
   "metadata": {},
   "outputs": [],
   "source": []
  },
  {
   "cell_type": "markdown",
   "metadata": {},
   "source": [
    "Von 2ter bis 5ter stelle"
   ]
  },
  {
   "cell_type": "code",
   "execution_count": null,
   "metadata": {},
   "outputs": [],
   "source": []
  },
  {
   "cell_type": "markdown",
   "metadata": {},
   "source": [
    "Jedes Element in sliced mal 2 rechnen. Ergebnis = [6, 8, 10, 12]"
   ]
  },
  {
   "cell_type": "code",
   "execution_count": null,
   "metadata": {},
   "outputs": [],
   "source": []
  },
  {
   "cell_type": "markdown",
   "metadata": {},
   "source": [
    "Python way = List comprehension"
   ]
  },
  {
   "cell_type": "code",
   "execution_count": null,
   "metadata": {},
   "outputs": [],
   "source": []
  },
  {
   "cell_type": "markdown",
   "metadata": {},
   "source": [
    "## Tuples"
   ]
  },
  {
   "cell_type": "code",
   "execution_count": 207,
   "metadata": {},
   "outputs": [],
   "source": [
    "t = (1, \"cat\", \"red\", \"blue\", True)"
   ]
  },
  {
   "cell_type": "code",
   "execution_count": 208,
   "metadata": {},
   "outputs": [
    {
     "ename": "TypeError",
     "evalue": "'tuple' object does not support item assignment",
     "output_type": "error",
     "traceback": [
      "\u001b[1;31m---------------------------------------------------------------------------\u001b[0m",
      "\u001b[1;31mTypeError\u001b[0m                                 Traceback (most recent call last)",
      "Input \u001b[1;32mIn [208]\u001b[0m, in \u001b[0;36m<cell line: 1>\u001b[1;34m()\u001b[0m\n\u001b[1;32m----> 1\u001b[0m t[\u001b[38;5;241m0\u001b[39m] \u001b[38;5;241m=\u001b[39m \u001b[38;5;241m33\u001b[39m\n",
      "\u001b[1;31mTypeError\u001b[0m: 'tuple' object does not support item assignment"
     ]
    }
   ],
   "source": [
    "t[0] = 33 # a tuple is read-only (i.e. immutable)"
   ]
  },
  {
   "cell_type": "code",
   "execution_count": 212,
   "metadata": {},
   "outputs": [
    {
     "data": {
      "text/plain": [
       "('cat', 'red')"
      ]
     },
     "execution_count": 212,
     "metadata": {},
     "output_type": "execute_result"
    }
   ],
   "source": [
    "t[1:3]"
   ]
  },
  {
   "cell_type": "code",
   "execution_count": 213,
   "metadata": {},
   "outputs": [
    {
     "data": {
      "text/plain": [
       "True"
      ]
     },
     "execution_count": 213,
     "metadata": {},
     "output_type": "execute_result"
    }
   ],
   "source": [
    "'cat' in t"
   ]
  },
  {
   "cell_type": "code",
   "execution_count": 214,
   "metadata": {},
   "outputs": [
    {
     "data": {
      "text/plain": [
       "False"
      ]
     },
     "execution_count": 214,
     "metadata": {},
     "output_type": "execute_result"
    }
   ],
   "source": [
    "'edin' in t"
   ]
  },
  {
   "cell_type": "code",
   "execution_count": 215,
   "metadata": {},
   "outputs": [
    {
     "name": "stdout",
     "output_type": "stream",
     "text": [
      "tuple contains value 1\n",
      "tuple contains value cat\n",
      "tuple contains value red\n",
      "tuple contains value blue\n",
      "tuple contains value True\n"
     ]
    }
   ],
   "source": [
    "for item in t:\n",
    "    print('tuple contains value', item)"
   ]
  },
  {
   "cell_type": "code",
   "execution_count": 217,
   "metadata": {},
   "outputs": [],
   "source": [
    "sammlung = 123, 456\n",
    "first, second = sammlung"
   ]
  },
  {
   "cell_type": "code",
   "execution_count": 218,
   "metadata": {},
   "outputs": [
    {
     "data": {
      "text/plain": [
       "123"
      ]
     },
     "execution_count": 218,
     "metadata": {},
     "output_type": "execute_result"
    }
   ],
   "source": [
    "first"
   ]
  },
  {
   "cell_type": "code",
   "execution_count": 219,
   "metadata": {},
   "outputs": [
    {
     "data": {
      "text/plain": [
       "456"
      ]
     },
     "execution_count": 219,
     "metadata": {},
     "output_type": "execute_result"
    }
   ],
   "source": [
    "second"
   ]
  },
  {
   "cell_type": "code",
   "execution_count": 222,
   "metadata": {},
   "outputs": [],
   "source": [
    "x = 3\n",
    "y = 0\n",
    "x, y = y, x"
   ]
  },
  {
   "cell_type": "code",
   "execution_count": 223,
   "metadata": {},
   "outputs": [
    {
     "name": "stdout",
     "output_type": "stream",
     "text": [
      "0 3\n"
     ]
    }
   ],
   "source": [
    "print(x,y)"
   ]
  },
  {
   "cell_type": "markdown",
   "metadata": {},
   "source": [
    "## Strings\n",
    "Now let's look at strings. Use bracket notation to slice a string."
   ]
  },
  {
   "cell_type": "code",
   "execution_count": 224,
   "metadata": {},
   "outputs": [
    {
     "data": {
      "text/plain": [
       "'T'"
      ]
     },
     "execution_count": 224,
     "metadata": {},
     "output_type": "execute_result"
    }
   ],
   "source": [
    "letter = \"This is a string\"\n",
    "letter[0]"
   ]
  },
  {
   "cell_type": "code",
   "execution_count": 226,
   "metadata": {},
   "outputs": [
    {
     "data": {
      "text/plain": [
       "'This'"
      ]
     },
     "execution_count": 226,
     "metadata": {},
     "output_type": "execute_result"
    }
   ],
   "source": [
    "letter[0:4]"
   ]
  },
  {
   "cell_type": "code",
   "execution_count": 228,
   "metadata": {},
   "outputs": [
    {
     "data": {
      "text/plain": [
       "'This is'"
      ]
     },
     "execution_count": 228,
     "metadata": {},
     "output_type": "execute_result"
    }
   ],
   "source": [
    "letter[:7]"
   ]
  },
  {
   "cell_type": "markdown",
   "metadata": {},
   "source": [
    "This will return the last element of the string."
   ]
  },
  {
   "cell_type": "code",
   "execution_count": 229,
   "metadata": {},
   "outputs": [
    {
     "data": {
      "text/plain": [
       "'g'"
      ]
     },
     "execution_count": 229,
     "metadata": {},
     "output_type": "execute_result"
    }
   ],
   "source": [
    "letter[-1]"
   ]
  },
  {
   "cell_type": "markdown",
   "metadata": {},
   "source": [
    "This is a slice from the beginning of the string and stopping before the 3rd element."
   ]
  },
  {
   "cell_type": "code",
   "execution_count": 230,
   "metadata": {},
   "outputs": [
    {
     "data": {
      "text/plain": [
       "'This is a s'"
      ]
     },
     "execution_count": 230,
     "metadata": {},
     "output_type": "execute_result"
    }
   ],
   "source": [
    "letter[0:-5]"
   ]
  },
  {
   "cell_type": "markdown",
   "metadata": {},
   "source": [
    "And this is a slice starting from the 4th element of the string and going all the way to the end."
   ]
  },
  {
   "cell_type": "code",
   "execution_count": 232,
   "metadata": {},
   "outputs": [
    {
     "data": {
      "text/plain": [
       "'s is a string'"
      ]
     },
     "execution_count": 232,
     "metadata": {},
     "output_type": "execute_result"
    }
   ],
   "source": [
    "letter[3:]"
   ]
  },
  {
   "cell_type": "markdown",
   "metadata": {},
   "source": [
    "**Concatenate**"
   ]
  },
  {
   "cell_type": "code",
   "execution_count": 235,
   "metadata": {},
   "outputs": [
    {
     "data": {
      "text/plain": [
       "'David Mikhael'"
      ]
     },
     "execution_count": 235,
     "metadata": {},
     "output_type": "execute_result"
    }
   ],
   "source": [
    "firstname=\"David\"\n",
    "lastname=\"Mikhael\"\n",
    "fullname = firstname +' '+ lastname\n",
    "fullname"
   ]
  },
  {
   "cell_type": "markdown",
   "metadata": {},
   "source": [
    "`in` operator also with strings"
   ]
  },
  {
   "cell_type": "code",
   "execution_count": 238,
   "metadata": {},
   "outputs": [
    {
     "data": {
      "text/plain": [
       "True"
      ]
     },
     "execution_count": 238,
     "metadata": {},
     "output_type": "execute_result"
    }
   ],
   "source": [
    "'David' in fullname"
   ]
  },
  {
   "cell_type": "code",
   "execution_count": 240,
   "metadata": {},
   "outputs": [],
   "source": [
    "fullname = '{},{}'.format(firstname, lastname)"
   ]
  },
  {
   "cell_type": "markdown",
   "metadata": {},
   "source": [
    "`split` returns a list of all the words in a string, or a list split on a specific character."
   ]
  },
  {
   "cell_type": "code",
   "execution_count": 242,
   "metadata": {},
   "outputs": [
    {
     "data": {
      "text/plain": [
       "['David', 'Mikhael']"
      ]
     },
     "execution_count": 242,
     "metadata": {},
     "output_type": "execute_result"
    }
   ],
   "source": [
    "fullname.split(',')"
   ]
  },
  {
   "cell_type": "markdown",
   "metadata": {},
   "source": [
    "Make sure you convert objects to strings before concatenating."
   ]
  },
  {
   "cell_type": "code",
   "execution_count": 245,
   "metadata": {},
   "outputs": [
    {
     "data": {
      "text/plain": [
       "'33 Max'"
      ]
     },
     "execution_count": 245,
     "metadata": {},
     "output_type": "execute_result"
    }
   ],
   "source": [
    "str(33) + ' ' + 'Max'"
   ]
  },
  {
   "cell_type": "code",
   "execution_count": 246,
   "metadata": {},
   "outputs": [
    {
     "data": {
      "text/plain": [
       "'His name is David,Mikhael'"
      ]
     },
     "execution_count": 246,
     "metadata": {},
     "output_type": "execute_result"
    }
   ],
   "source": [
    "f'His name is {fullname}'"
   ]
  },
  {
   "cell_type": "code",
   "execution_count": 247,
   "metadata": {},
   "outputs": [
    {
     "data": {
      "text/plain": [
       "'The result of the calculation is 300'"
      ]
     },
     "execution_count": 247,
     "metadata": {},
     "output_type": "execute_result"
    }
   ],
   "source": [
    "f'The result of the calculation is {3 * 100}'"
   ]
  },
  {
   "cell_type": "markdown",
   "metadata": {},
   "source": [
    "Python has a built in method for convenient string formatting."
   ]
  },
  {
   "cell_type": "code",
   "execution_count": 1,
   "metadata": {},
   "outputs": [
    {
     "name": "stdout",
     "output_type": "stream",
     "text": [
      "Chris bought 4 item(s) at a price of 3.24 each for a total of 12.96\n"
     ]
    }
   ],
   "source": [
    "sales_record = {\n",
    "'price': 3.24,\n",
    "'num_items': 4,\n",
    "'person': 'Chris'}\n",
    "\n",
    "sales_statement = '{} bought {} item(s) at a price of {} each for a total of {}'\n",
    "\n",
    "print(sales_statement.format(sales_record['person'],\n",
    "                             sales_record['num_items'],\n",
    "                             sales_record['price'],\n",
    "                             sales_record['num_items']*sales_record['price']\n",
    "                             ))\n"
   ]
  },
  {
   "cell_type": "markdown",
   "metadata": {},
   "source": [
    "## Dictionary (aka hashtable)"
   ]
  },
  {
   "cell_type": "code",
   "execution_count": 2,
   "metadata": {},
   "outputs": [],
   "source": [
    "person = {'name':'Martin', 'mail':'martin@fhwn.ac.at',}"
   ]
  },
  {
   "cell_type": "code",
   "execution_count": 4,
   "metadata": {},
   "outputs": [
    {
     "data": {
      "text/plain": [
       "'martin@fhwn.ac.at'"
      ]
     },
     "execution_count": 4,
     "metadata": {},
     "output_type": "execute_result"
    }
   ],
   "source": [
    "person['mail']"
   ]
  },
  {
   "cell_type": "code",
   "execution_count": 5,
   "metadata": {},
   "outputs": [],
   "source": [
    "people_mail = {'Mo':'mo@fhwn.ac.at', 'Johannes':'johannes@fhwn.ac.at',\n",
    "              'Bill Gates': 'b.gates@microsoft.com'\n",
    "              }"
   ]
  },
  {
   "cell_type": "code",
   "execution_count": 6,
   "metadata": {},
   "outputs": [
    {
     "data": {
      "text/plain": [
       "{'Mo': 'mo@fhwn.ac.at',\n",
       " 'Johannes': 'johannes@fhwn.ac.at',\n",
       " 'Bill Gates': 'b.gates@microsoft.com'}"
      ]
     },
     "execution_count": 6,
     "metadata": {},
     "output_type": "execute_result"
    }
   ],
   "source": [
    "people_mail"
   ]
  },
  {
   "cell_type": "markdown",
   "metadata": {},
   "source": [
    "Iterate over all of the keys:"
   ]
  },
  {
   "cell_type": "code",
   "execution_count": 7,
   "metadata": {},
   "outputs": [
    {
     "name": "stdout",
     "output_type": "stream",
     "text": [
      "Mo\n",
      "Johannes\n",
      "Bill Gates\n"
     ]
    }
   ],
   "source": [
    "for key in people_mail:\n",
    "    print(key)"
   ]
  },
  {
   "cell_type": "markdown",
   "metadata": {},
   "source": [
    "Iterate over all of the values:"
   ]
  },
  {
   "cell_type": "code",
   "execution_count": 8,
   "metadata": {
    "scrolled": true
   },
   "outputs": [
    {
     "name": "stdout",
     "output_type": "stream",
     "text": [
      "mo@fhwn.ac.at\n",
      "johannes@fhwn.ac.at\n",
      "b.gates@microsoft.com\n"
     ]
    }
   ],
   "source": [
    "for value in people_mail.values():\n",
    "    print(value)"
   ]
  },
  {
   "cell_type": "code",
   "execution_count": 15,
   "metadata": {},
   "outputs": [
    {
     "name": "stdout",
     "output_type": "stream",
     "text": [
      "Mo : mo@fhwn.ac.at\n",
      "Johannes : johannes@fhwn.ac.at\n",
      "Bill Gates : b.gates@microsoft.com\n"
     ]
    }
   ],
   "source": [
    "for key in people_mail:\n",
    "    print(key +' : ' +people_mail[key])"
   ]
  },
  {
   "cell_type": "code",
   "execution_count": 23,
   "metadata": {},
   "outputs": [
    {
     "name": "stdout",
     "output_type": "stream",
     "text": [
      "does not exist\n"
     ]
    }
   ],
   "source": [
    "key ='Mo'\n",
    "if not people_mail.get(4444):\n",
    "    print('does not exist')"
   ]
  },
  {
   "cell_type": "markdown",
   "metadata": {},
   "source": [
    "Iterate over all of the items in the list:"
   ]
  },
  {
   "cell_type": "code",
   "execution_count": 31,
   "metadata": {},
   "outputs": [
    {
     "data": {
      "text/plain": [
       "dict_items([('Mo', 'mo@fhwn.ac.at'), ('Johannes', 'johannes@fhwn.ac.at'), ('Bill Gates', 'b.gates@microsoft.com')])"
      ]
     },
     "execution_count": 31,
     "metadata": {},
     "output_type": "execute_result"
    }
   ],
   "source": [
    "list_pairs = people_mail.items()\n",
    "list_pairs"
   ]
  },
  {
   "cell_type": "code",
   "execution_count": 37,
   "metadata": {},
   "outputs": [
    {
     "name": "stdout",
     "output_type": "stream",
     "text": [
      "('Mo', 'mo@fhwn.ac.at')\n",
      "Mo\n",
      "mo@fhwn.ac.at\n",
      "('Johannes', 'johannes@fhwn.ac.at')\n",
      "Johannes\n",
      "johannes@fhwn.ac.at\n",
      "('Bill Gates', 'b.gates@microsoft.com')\n",
      "Bill Gates\n",
      "b.gates@microsoft.com\n"
     ]
    }
   ],
   "source": [
    "for pair in people_mail.items():\n",
    "    key, value = pair\n",
    "    print(pair)\n",
    "    print(key)\n",
    "    print(value)"
   ]
  },
  {
   "cell_type": "code",
   "execution_count": 34,
   "metadata": {},
   "outputs": [
    {
     "name": "stdout",
     "output_type": "stream",
     "text": [
      "key Mo\n",
      "value mo@fhwn.ac.at\n",
      "key Johannes\n",
      "value johannes@fhwn.ac.at\n",
      "key Bill Gates\n",
      "value b.gates@microsoft.com\n"
     ]
    }
   ],
   "source": [
    "for key, value in people_mail.items():\n",
    "    print('key', key)\n",
    "    print('value', value)"
   ]
  },
  {
   "cell_type": "code",
   "execution_count": 38,
   "metadata": {},
   "outputs": [],
   "source": [
    "shopping_list = {'apples': 2, 'avocados': 100, 'pumpkin':3}"
   ]
  },
  {
   "cell_type": "code",
   "execution_count": 39,
   "metadata": {},
   "outputs": [
    {
     "data": {
      "text/plain": [
       "{'apples': 2, 'avocados': 100, 'pumpkin': 3}"
      ]
     },
     "execution_count": 39,
     "metadata": {},
     "output_type": "execute_result"
    }
   ],
   "source": [
    "shopping_list"
   ]
  },
  {
   "cell_type": "code",
   "execution_count": 40,
   "metadata": {},
   "outputs": [],
   "source": [
    "shopping_list['bananas'] = 5"
   ]
  },
  {
   "cell_type": "code",
   "execution_count": 41,
   "metadata": {},
   "outputs": [
    {
     "data": {
      "text/plain": [
       "{'apples': 2, 'avocados': 100, 'pumpkin': 3, 'bananas': 5}"
      ]
     },
     "execution_count": 41,
     "metadata": {},
     "output_type": "execute_result"
    }
   ],
   "source": [
    "shopping_list"
   ]
  },
  {
   "cell_type": "code",
   "execution_count": 43,
   "metadata": {},
   "outputs": [
    {
     "data": {
      "text/plain": [
       "110"
      ]
     },
     "execution_count": 43,
     "metadata": {},
     "output_type": "execute_result"
    }
   ],
   "source": [
    "sum_items = 0\n",
    "for key in shopping_list:\n",
    "    sum_items = sum_items + shopping_list[key]\n",
    "    #sum_items += shopping_list[key]\n",
    "sum_items"
   ]
  },
  {
   "cell_type": "code",
   "execution_count": 45,
   "metadata": {},
   "outputs": [
    {
     "name": "stdout",
     "output_type": "stream",
     "text": [
      "110\n"
     ]
    }
   ],
   "source": [
    "sum_items = 0\n",
    "for value in shopping_list.values():\n",
    "    sum_items += value\n",
    "print(sum_items)"
   ]
  },
  {
   "cell_type": "code",
   "execution_count": 46,
   "metadata": {},
   "outputs": [
    {
     "data": {
      "text/plain": [
       "110"
      ]
     },
     "execution_count": 46,
     "metadata": {},
     "output_type": "execute_result"
    }
   ],
   "source": [
    "sum(shopping_list.values())"
   ]
  },
  {
   "cell_type": "code",
   "execution_count": 51,
   "metadata": {
    "scrolled": true
   },
   "outputs": [
    {
     "data": {
      "text/plain": [
       "[2, 3, 5]"
      ]
     },
     "execution_count": 51,
     "metadata": {},
     "output_type": "execute_result"
    }
   ],
   "source": [
    "items_bigger = []\n",
    "for item in shopping_list.values():\n",
    "    if item < 100:\n",
    "        items_bigger.append(item)\n",
    "items_bigger"
   ]
  },
  {
   "cell_type": "code",
   "execution_count": 53,
   "metadata": {},
   "outputs": [
    {
     "data": {
      "text/plain": [
       "[2, 3, 5]"
      ]
     },
     "execution_count": 53,
     "metadata": {},
     "output_type": "execute_result"
    }
   ],
   "source": [
    "[item for item in shopping_list.values() if item < 100]"
   ]
  },
  {
   "cell_type": "markdown",
   "metadata": {},
   "source": [
    "## Unpacking"
   ]
  },
  {
   "cell_type": "code",
   "execution_count": null,
   "metadata": {},
   "outputs": [],
   "source": []
  },
  {
   "cell_type": "markdown",
   "metadata": {},
   "source": [
    "You can unpack a sequence into different variables:"
   ]
  },
  {
   "cell_type": "code",
   "execution_count": null,
   "metadata": {},
   "outputs": [],
   "source": [
    "def values():\n",
    "    return 1,2"
   ]
  },
  {
   "cell_type": "markdown",
   "metadata": {},
   "source": [
    "Make sure the number of values you are unpacking matches the number of variables being assigned."
   ]
  },
  {
   "cell_type": "code",
   "execution_count": null,
   "metadata": {},
   "outputs": [],
   "source": []
  },
  {
   "cell_type": "markdown",
   "metadata": {},
   "source": [
    "# Reading and Writing CSV files"
   ]
  },
  {
   "cell_type": "markdown",
   "metadata": {},
   "source": [
    "Let's import our datafile mpg.csv, which contains fuel economy data for 234 cars.\n",
    "\n",
    "* mpg : miles per gallon\n",
    "* class : car classification\n",
    "* cty : city mpg\n",
    "* cyl : # of cylinders\n",
    "* displ : engine displacement in liters\n",
    "* drv : f = front-wheel drive, r = rear wheel drive, 4 = 4wd\n",
    "* fl : fuel (e = ethanol E85, d = diesel, r = regular, p = premium, c = CNG)\n",
    "* hwy : highway mpg\n",
    "* manufacturer : automobile manufacturer\n",
    "* model : model of car\n",
    "* trans : type of transmission\n",
    "* year : model year"
   ]
  },
  {
   "cell_type": "code",
   "execution_count": null,
   "metadata": {},
   "outputs": [],
   "source": [
    "!cat class_mpg.csv"
   ]
  },
  {
   "cell_type": "code",
   "execution_count": 54,
   "metadata": {},
   "outputs": [],
   "source": [
    "import csv"
   ]
  },
  {
   "cell_type": "code",
   "execution_count": 55,
   "metadata": {},
   "outputs": [],
   "source": [
    "with open('class_mpg.csv') as csvfile:\n",
    "    mpg = list(csv.DictReader(csvfile))"
   ]
  },
  {
   "cell_type": "code",
   "execution_count": 56,
   "metadata": {},
   "outputs": [
    {
     "data": {
      "text/plain": [
       "[{'': '1',\n",
       "  'manufacturer': 'audi',\n",
       "  'model': 'a4',\n",
       "  'displ': '1.8',\n",
       "  'year': '1999',\n",
       "  'cyl': '4',\n",
       "  'trans': 'auto(l5)',\n",
       "  'drv': 'f',\n",
       "  'cty': '18',\n",
       "  'hwy': '29',\n",
       "  'fl': 'p',\n",
       "  'class': 'compact'},\n",
       " {'': '2',\n",
       "  'manufacturer': 'audi',\n",
       "  'model': 'a4',\n",
       "  'displ': '1.8',\n",
       "  'year': '1999',\n",
       "  'cyl': '4',\n",
       "  'trans': 'manual(m5)',\n",
       "  'drv': 'f',\n",
       "  'cty': '21',\n",
       "  'hwy': '29',\n",
       "  'fl': 'p',\n",
       "  'class': 'compact'},\n",
       " {'': '3',\n",
       "  'manufacturer': 'audi',\n",
       "  'model': 'a4',\n",
       "  'displ': '2',\n",
       "  'year': '2008',\n",
       "  'cyl': '4',\n",
       "  'trans': 'manual(m6)',\n",
       "  'drv': 'f',\n",
       "  'cty': '20',\n",
       "  'hwy': '31',\n",
       "  'fl': 'p',\n",
       "  'class': 'compact'},\n",
       " {'': '4',\n",
       "  'manufacturer': 'audi',\n",
       "  'model': 'a4',\n",
       "  'displ': '2',\n",
       "  'year': '2008',\n",
       "  'cyl': '4',\n",
       "  'trans': 'auto(av)',\n",
       "  'drv': 'f',\n",
       "  'cty': '21',\n",
       "  'hwy': '30',\n",
       "  'fl': 'p',\n",
       "  'class': 'compact'},\n",
       " {'': '5',\n",
       "  'manufacturer': 'audi',\n",
       "  'model': 'a4',\n",
       "  'displ': '2.8',\n",
       "  'year': '1999',\n",
       "  'cyl': '6',\n",
       "  'trans': 'auto(l5)',\n",
       "  'drv': 'f',\n",
       "  'cty': '16',\n",
       "  'hwy': '26',\n",
       "  'fl': 'p',\n",
       "  'class': 'compact'},\n",
       " {'': '6',\n",
       "  'manufacturer': 'audi',\n",
       "  'model': 'a4',\n",
       "  'displ': '2.8',\n",
       "  'year': '1999',\n",
       "  'cyl': '6',\n",
       "  'trans': 'manual(m5)',\n",
       "  'drv': 'f',\n",
       "  'cty': '18',\n",
       "  'hwy': '26',\n",
       "  'fl': 'p',\n",
       "  'class': 'compact'},\n",
       " {'': '7',\n",
       "  'manufacturer': 'audi',\n",
       "  'model': 'a4',\n",
       "  'displ': '3.1',\n",
       "  'year': '2008',\n",
       "  'cyl': '6',\n",
       "  'trans': 'auto(av)',\n",
       "  'drv': 'f',\n",
       "  'cty': '18',\n",
       "  'hwy': '27',\n",
       "  'fl': 'p',\n",
       "  'class': 'compact'},\n",
       " {'': '8',\n",
       "  'manufacturer': 'audi',\n",
       "  'model': 'a4 quattro',\n",
       "  'displ': '1.8',\n",
       "  'year': '1999',\n",
       "  'cyl': '4',\n",
       "  'trans': 'manual(m5)',\n",
       "  'drv': '4',\n",
       "  'cty': '18',\n",
       "  'hwy': '26',\n",
       "  'fl': 'p',\n",
       "  'class': 'compact'},\n",
       " {'': '9',\n",
       "  'manufacturer': 'audi',\n",
       "  'model': 'a4 quattro',\n",
       "  'displ': '1.8',\n",
       "  'year': '1999',\n",
       "  'cyl': '4',\n",
       "  'trans': 'auto(l5)',\n",
       "  'drv': '4',\n",
       "  'cty': '16',\n",
       "  'hwy': '25',\n",
       "  'fl': 'p',\n",
       "  'class': 'compact'},\n",
       " {'': '10',\n",
       "  'manufacturer': 'audi',\n",
       "  'model': 'a4 quattro',\n",
       "  'displ': '2',\n",
       "  'year': '2008',\n",
       "  'cyl': '4',\n",
       "  'trans': 'manual(m6)',\n",
       "  'drv': '4',\n",
       "  'cty': '20',\n",
       "  'hwy': '28',\n",
       "  'fl': 'p',\n",
       "  'class': 'compact'},\n",
       " {'': '11',\n",
       "  'manufacturer': 'audi',\n",
       "  'model': 'a4 quattro',\n",
       "  'displ': '2',\n",
       "  'year': '2008',\n",
       "  'cyl': '4',\n",
       "  'trans': 'auto(s6)',\n",
       "  'drv': '4',\n",
       "  'cty': '19',\n",
       "  'hwy': '27',\n",
       "  'fl': 'p',\n",
       "  'class': 'compact'},\n",
       " {'': '12',\n",
       "  'manufacturer': 'audi',\n",
       "  'model': 'a4 quattro',\n",
       "  'displ': '2.8',\n",
       "  'year': '1999',\n",
       "  'cyl': '6',\n",
       "  'trans': 'auto(l5)',\n",
       "  'drv': '4',\n",
       "  'cty': '15',\n",
       "  'hwy': '25',\n",
       "  'fl': 'p',\n",
       "  'class': 'compact'},\n",
       " {'': '13',\n",
       "  'manufacturer': 'audi',\n",
       "  'model': 'a4 quattro',\n",
       "  'displ': '2.8',\n",
       "  'year': '1999',\n",
       "  'cyl': '6',\n",
       "  'trans': 'manual(m5)',\n",
       "  'drv': '4',\n",
       "  'cty': '17',\n",
       "  'hwy': '25',\n",
       "  'fl': 'p',\n",
       "  'class': 'compact'},\n",
       " {'': '14',\n",
       "  'manufacturer': 'audi',\n",
       "  'model': 'a4 quattro',\n",
       "  'displ': '3.1',\n",
       "  'year': '2008',\n",
       "  'cyl': '6',\n",
       "  'trans': 'auto(s6)',\n",
       "  'drv': '4',\n",
       "  'cty': '17',\n",
       "  'hwy': '25',\n",
       "  'fl': 'p',\n",
       "  'class': 'compact'},\n",
       " {'': '15',\n",
       "  'manufacturer': 'audi',\n",
       "  'model': 'a4 quattro',\n",
       "  'displ': '3.1',\n",
       "  'year': '2008',\n",
       "  'cyl': '6',\n",
       "  'trans': 'manual(m6)',\n",
       "  'drv': '4',\n",
       "  'cty': '15',\n",
       "  'hwy': '25',\n",
       "  'fl': 'p',\n",
       "  'class': 'compact'},\n",
       " {'': '16',\n",
       "  'manufacturer': 'audi',\n",
       "  'model': 'a6 quattro',\n",
       "  'displ': '2.8',\n",
       "  'year': '1999',\n",
       "  'cyl': '6',\n",
       "  'trans': 'auto(l5)',\n",
       "  'drv': '4',\n",
       "  'cty': '15',\n",
       "  'hwy': '24',\n",
       "  'fl': 'p',\n",
       "  'class': 'midsize'},\n",
       " {'': '17',\n",
       "  'manufacturer': 'audi',\n",
       "  'model': 'a6 quattro',\n",
       "  'displ': '3.1',\n",
       "  'year': '2008',\n",
       "  'cyl': '6',\n",
       "  'trans': 'auto(s6)',\n",
       "  'drv': '4',\n",
       "  'cty': '17',\n",
       "  'hwy': '25',\n",
       "  'fl': 'p',\n",
       "  'class': 'midsize'},\n",
       " {'': '18',\n",
       "  'manufacturer': 'audi',\n",
       "  'model': 'a6 quattro',\n",
       "  'displ': '4.2',\n",
       "  'year': '2008',\n",
       "  'cyl': '8',\n",
       "  'trans': 'auto(s6)',\n",
       "  'drv': '4',\n",
       "  'cty': '16',\n",
       "  'hwy': '23',\n",
       "  'fl': 'p',\n",
       "  'class': 'midsize'},\n",
       " {'': '19',\n",
       "  'manufacturer': 'chevrolet',\n",
       "  'model': 'c1500 suburban 2wd',\n",
       "  'displ': '5.3',\n",
       "  'year': '2008',\n",
       "  'cyl': '8',\n",
       "  'trans': 'auto(l4)',\n",
       "  'drv': 'r',\n",
       "  'cty': '14',\n",
       "  'hwy': '20',\n",
       "  'fl': 'r',\n",
       "  'class': 'suv'},\n",
       " {'': '20',\n",
       "  'manufacturer': 'chevrolet',\n",
       "  'model': 'c1500 suburban 2wd',\n",
       "  'displ': '5.3',\n",
       "  'year': '2008',\n",
       "  'cyl': '8',\n",
       "  'trans': 'auto(l4)',\n",
       "  'drv': 'r',\n",
       "  'cty': '11',\n",
       "  'hwy': '15',\n",
       "  'fl': 'e',\n",
       "  'class': 'suv'},\n",
       " {'': '21',\n",
       "  'manufacturer': 'chevrolet',\n",
       "  'model': 'c1500 suburban 2wd',\n",
       "  'displ': '5.3',\n",
       "  'year': '2008',\n",
       "  'cyl': '8',\n",
       "  'trans': 'auto(l4)',\n",
       "  'drv': 'r',\n",
       "  'cty': '14',\n",
       "  'hwy': '20',\n",
       "  'fl': 'r',\n",
       "  'class': 'suv'},\n",
       " {'': '22',\n",
       "  'manufacturer': 'chevrolet',\n",
       "  'model': 'c1500 suburban 2wd',\n",
       "  'displ': '5.7',\n",
       "  'year': '1999',\n",
       "  'cyl': '8',\n",
       "  'trans': 'auto(l4)',\n",
       "  'drv': 'r',\n",
       "  'cty': '13',\n",
       "  'hwy': '17',\n",
       "  'fl': 'r',\n",
       "  'class': 'suv'},\n",
       " {'': '23',\n",
       "  'manufacturer': 'chevrolet',\n",
       "  'model': 'c1500 suburban 2wd',\n",
       "  'displ': '6',\n",
       "  'year': '2008',\n",
       "  'cyl': '8',\n",
       "  'trans': 'auto(l4)',\n",
       "  'drv': 'r',\n",
       "  'cty': '12',\n",
       "  'hwy': '17',\n",
       "  'fl': 'r',\n",
       "  'class': 'suv'},\n",
       " {'': '24',\n",
       "  'manufacturer': 'chevrolet',\n",
       "  'model': 'corvette',\n",
       "  'displ': '5.7',\n",
       "  'year': '1999',\n",
       "  'cyl': '8',\n",
       "  'trans': 'manual(m6)',\n",
       "  'drv': 'r',\n",
       "  'cty': '16',\n",
       "  'hwy': '26',\n",
       "  'fl': 'p',\n",
       "  'class': '2seater'},\n",
       " {'': '25',\n",
       "  'manufacturer': 'chevrolet',\n",
       "  'model': 'corvette',\n",
       "  'displ': '5.7',\n",
       "  'year': '1999',\n",
       "  'cyl': '8',\n",
       "  'trans': 'auto(l4)',\n",
       "  'drv': 'r',\n",
       "  'cty': '15',\n",
       "  'hwy': '23',\n",
       "  'fl': 'p',\n",
       "  'class': '2seater'},\n",
       " {'': '26',\n",
       "  'manufacturer': 'chevrolet',\n",
       "  'model': 'corvette',\n",
       "  'displ': '6.2',\n",
       "  'year': '2008',\n",
       "  'cyl': '8',\n",
       "  'trans': 'manual(m6)',\n",
       "  'drv': 'r',\n",
       "  'cty': '16',\n",
       "  'hwy': '26',\n",
       "  'fl': 'p',\n",
       "  'class': '2seater'},\n",
       " {'': '27',\n",
       "  'manufacturer': 'chevrolet',\n",
       "  'model': 'corvette',\n",
       "  'displ': '6.2',\n",
       "  'year': '2008',\n",
       "  'cyl': '8',\n",
       "  'trans': 'auto(s6)',\n",
       "  'drv': 'r',\n",
       "  'cty': '15',\n",
       "  'hwy': '25',\n",
       "  'fl': 'p',\n",
       "  'class': '2seater'},\n",
       " {'': '28',\n",
       "  'manufacturer': 'chevrolet',\n",
       "  'model': 'corvette',\n",
       "  'displ': '7',\n",
       "  'year': '2008',\n",
       "  'cyl': '8',\n",
       "  'trans': 'manual(m6)',\n",
       "  'drv': 'r',\n",
       "  'cty': '15',\n",
       "  'hwy': '24',\n",
       "  'fl': 'p',\n",
       "  'class': '2seater'},\n",
       " {'': '29',\n",
       "  'manufacturer': 'chevrolet',\n",
       "  'model': 'k1500 tahoe 4wd',\n",
       "  'displ': '5.3',\n",
       "  'year': '2008',\n",
       "  'cyl': '8',\n",
       "  'trans': 'auto(l4)',\n",
       "  'drv': '4',\n",
       "  'cty': '14',\n",
       "  'hwy': '19',\n",
       "  'fl': 'r',\n",
       "  'class': 'suv'},\n",
       " {'': '30',\n",
       "  'manufacturer': 'chevrolet',\n",
       "  'model': 'k1500 tahoe 4wd',\n",
       "  'displ': '5.3',\n",
       "  'year': '2008',\n",
       "  'cyl': '8',\n",
       "  'trans': 'auto(l4)',\n",
       "  'drv': '4',\n",
       "  'cty': '11',\n",
       "  'hwy': '14',\n",
       "  'fl': 'e',\n",
       "  'class': 'suv'},\n",
       " {'': '31',\n",
       "  'manufacturer': 'chevrolet',\n",
       "  'model': 'k1500 tahoe 4wd',\n",
       "  'displ': '5.7',\n",
       "  'year': '1999',\n",
       "  'cyl': '8',\n",
       "  'trans': 'auto(l4)',\n",
       "  'drv': '4',\n",
       "  'cty': '11',\n",
       "  'hwy': '15',\n",
       "  'fl': 'r',\n",
       "  'class': 'suv'},\n",
       " {'': '32',\n",
       "  'manufacturer': 'chevrolet',\n",
       "  'model': 'k1500 tahoe 4wd',\n",
       "  'displ': '6.5',\n",
       "  'year': '1999',\n",
       "  'cyl': '8',\n",
       "  'trans': 'auto(l4)',\n",
       "  'drv': '4',\n",
       "  'cty': '14',\n",
       "  'hwy': '17',\n",
       "  'fl': 'd',\n",
       "  'class': 'suv'},\n",
       " {'': '33',\n",
       "  'manufacturer': 'chevrolet',\n",
       "  'model': 'malibu',\n",
       "  'displ': '2.4',\n",
       "  'year': '1999',\n",
       "  'cyl': '4',\n",
       "  'trans': 'auto(l4)',\n",
       "  'drv': 'f',\n",
       "  'cty': '19',\n",
       "  'hwy': '27',\n",
       "  'fl': 'r',\n",
       "  'class': 'midsize'},\n",
       " {'': '34',\n",
       "  'manufacturer': 'chevrolet',\n",
       "  'model': 'malibu',\n",
       "  'displ': '2.4',\n",
       "  'year': '2008',\n",
       "  'cyl': '4',\n",
       "  'trans': 'auto(l4)',\n",
       "  'drv': 'f',\n",
       "  'cty': '22',\n",
       "  'hwy': '30',\n",
       "  'fl': 'r',\n",
       "  'class': 'midsize'},\n",
       " {'': '35',\n",
       "  'manufacturer': 'chevrolet',\n",
       "  'model': 'malibu',\n",
       "  'displ': '3.1',\n",
       "  'year': '1999',\n",
       "  'cyl': '6',\n",
       "  'trans': 'auto(l4)',\n",
       "  'drv': 'f',\n",
       "  'cty': '18',\n",
       "  'hwy': '26',\n",
       "  'fl': 'r',\n",
       "  'class': 'midsize'},\n",
       " {'': '36',\n",
       "  'manufacturer': 'chevrolet',\n",
       "  'model': 'malibu',\n",
       "  'displ': '3.5',\n",
       "  'year': '2008',\n",
       "  'cyl': '6',\n",
       "  'trans': 'auto(l4)',\n",
       "  'drv': 'f',\n",
       "  'cty': '18',\n",
       "  'hwy': '29',\n",
       "  'fl': 'r',\n",
       "  'class': 'midsize'},\n",
       " {'': '37',\n",
       "  'manufacturer': 'chevrolet',\n",
       "  'model': 'malibu',\n",
       "  'displ': '3.6',\n",
       "  'year': '2008',\n",
       "  'cyl': '6',\n",
       "  'trans': 'auto(s6)',\n",
       "  'drv': 'f',\n",
       "  'cty': '17',\n",
       "  'hwy': '26',\n",
       "  'fl': 'r',\n",
       "  'class': 'midsize'},\n",
       " {'': '38',\n",
       "  'manufacturer': 'dodge',\n",
       "  'model': 'caravan 2wd',\n",
       "  'displ': '2.4',\n",
       "  'year': '1999',\n",
       "  'cyl': '4',\n",
       "  'trans': 'auto(l3)',\n",
       "  'drv': 'f',\n",
       "  'cty': '18',\n",
       "  'hwy': '24',\n",
       "  'fl': 'r',\n",
       "  'class': 'minivan'},\n",
       " {'': '39',\n",
       "  'manufacturer': 'dodge',\n",
       "  'model': 'caravan 2wd',\n",
       "  'displ': '3',\n",
       "  'year': '1999',\n",
       "  'cyl': '6',\n",
       "  'trans': 'auto(l4)',\n",
       "  'drv': 'f',\n",
       "  'cty': '17',\n",
       "  'hwy': '24',\n",
       "  'fl': 'r',\n",
       "  'class': 'minivan'},\n",
       " {'': '40',\n",
       "  'manufacturer': 'dodge',\n",
       "  'model': 'caravan 2wd',\n",
       "  'displ': '3.3',\n",
       "  'year': '1999',\n",
       "  'cyl': '6',\n",
       "  'trans': 'auto(l4)',\n",
       "  'drv': 'f',\n",
       "  'cty': '16',\n",
       "  'hwy': '22',\n",
       "  'fl': 'r',\n",
       "  'class': 'minivan'},\n",
       " {'': '41',\n",
       "  'manufacturer': 'dodge',\n",
       "  'model': 'caravan 2wd',\n",
       "  'displ': '3.3',\n",
       "  'year': '1999',\n",
       "  'cyl': '6',\n",
       "  'trans': 'auto(l4)',\n",
       "  'drv': 'f',\n",
       "  'cty': '16',\n",
       "  'hwy': '22',\n",
       "  'fl': 'r',\n",
       "  'class': 'minivan'},\n",
       " {'': '42',\n",
       "  'manufacturer': 'dodge',\n",
       "  'model': 'caravan 2wd',\n",
       "  'displ': '3.3',\n",
       "  'year': '2008',\n",
       "  'cyl': '6',\n",
       "  'trans': 'auto(l4)',\n",
       "  'drv': 'f',\n",
       "  'cty': '17',\n",
       "  'hwy': '24',\n",
       "  'fl': 'r',\n",
       "  'class': 'minivan'},\n",
       " {'': '43',\n",
       "  'manufacturer': 'dodge',\n",
       "  'model': 'caravan 2wd',\n",
       "  'displ': '3.3',\n",
       "  'year': '2008',\n",
       "  'cyl': '6',\n",
       "  'trans': 'auto(l4)',\n",
       "  'drv': 'f',\n",
       "  'cty': '17',\n",
       "  'hwy': '24',\n",
       "  'fl': 'r',\n",
       "  'class': 'minivan'},\n",
       " {'': '44',\n",
       "  'manufacturer': 'dodge',\n",
       "  'model': 'caravan 2wd',\n",
       "  'displ': '3.3',\n",
       "  'year': '2008',\n",
       "  'cyl': '6',\n",
       "  'trans': 'auto(l4)',\n",
       "  'drv': 'f',\n",
       "  'cty': '11',\n",
       "  'hwy': '17',\n",
       "  'fl': 'e',\n",
       "  'class': 'minivan'},\n",
       " {'': '45',\n",
       "  'manufacturer': 'dodge',\n",
       "  'model': 'caravan 2wd',\n",
       "  'displ': '3.8',\n",
       "  'year': '1999',\n",
       "  'cyl': '6',\n",
       "  'trans': 'auto(l4)',\n",
       "  'drv': 'f',\n",
       "  'cty': '15',\n",
       "  'hwy': '22',\n",
       "  'fl': 'r',\n",
       "  'class': 'minivan'},\n",
       " {'': '46',\n",
       "  'manufacturer': 'dodge',\n",
       "  'model': 'caravan 2wd',\n",
       "  'displ': '3.8',\n",
       "  'year': '1999',\n",
       "  'cyl': '6',\n",
       "  'trans': 'auto(l4)',\n",
       "  'drv': 'f',\n",
       "  'cty': '15',\n",
       "  'hwy': '21',\n",
       "  'fl': 'r',\n",
       "  'class': 'minivan'},\n",
       " {'': '47',\n",
       "  'manufacturer': 'dodge',\n",
       "  'model': 'caravan 2wd',\n",
       "  'displ': '3.8',\n",
       "  'year': '2008',\n",
       "  'cyl': '6',\n",
       "  'trans': 'auto(l6)',\n",
       "  'drv': 'f',\n",
       "  'cty': '16',\n",
       "  'hwy': '23',\n",
       "  'fl': 'r',\n",
       "  'class': 'minivan'},\n",
       " {'': '48',\n",
       "  'manufacturer': 'dodge',\n",
       "  'model': 'caravan 2wd',\n",
       "  'displ': '4',\n",
       "  'year': '2008',\n",
       "  'cyl': '6',\n",
       "  'trans': 'auto(l6)',\n",
       "  'drv': 'f',\n",
       "  'cty': '16',\n",
       "  'hwy': '23',\n",
       "  'fl': 'r',\n",
       "  'class': 'minivan'},\n",
       " {'': '49',\n",
       "  'manufacturer': 'dodge',\n",
       "  'model': 'dakota pickup 4wd',\n",
       "  'displ': '3.7',\n",
       "  'year': '2008',\n",
       "  'cyl': '6',\n",
       "  'trans': 'manual(m6)',\n",
       "  'drv': '4',\n",
       "  'cty': '15',\n",
       "  'hwy': '19',\n",
       "  'fl': 'r',\n",
       "  'class': 'pickup'},\n",
       " {'': '50',\n",
       "  'manufacturer': 'dodge',\n",
       "  'model': 'dakota pickup 4wd',\n",
       "  'displ': '3.7',\n",
       "  'year': '2008',\n",
       "  'cyl': '6',\n",
       "  'trans': 'auto(l4)',\n",
       "  'drv': '4',\n",
       "  'cty': '14',\n",
       "  'hwy': '18',\n",
       "  'fl': 'r',\n",
       "  'class': 'pickup'},\n",
       " {'': '51',\n",
       "  'manufacturer': 'dodge',\n",
       "  'model': 'dakota pickup 4wd',\n",
       "  'displ': '3.9',\n",
       "  'year': '1999',\n",
       "  'cyl': '6',\n",
       "  'trans': 'auto(l4)',\n",
       "  'drv': '4',\n",
       "  'cty': '13',\n",
       "  'hwy': '17',\n",
       "  'fl': 'r',\n",
       "  'class': 'pickup'},\n",
       " {'': '52',\n",
       "  'manufacturer': 'dodge',\n",
       "  'model': 'dakota pickup 4wd',\n",
       "  'displ': '3.9',\n",
       "  'year': '1999',\n",
       "  'cyl': '6',\n",
       "  'trans': 'manual(m5)',\n",
       "  'drv': '4',\n",
       "  'cty': '14',\n",
       "  'hwy': '17',\n",
       "  'fl': 'r',\n",
       "  'class': 'pickup'},\n",
       " {'': '53',\n",
       "  'manufacturer': 'dodge',\n",
       "  'model': 'dakota pickup 4wd',\n",
       "  'displ': '4.7',\n",
       "  'year': '2008',\n",
       "  'cyl': '8',\n",
       "  'trans': 'auto(l5)',\n",
       "  'drv': '4',\n",
       "  'cty': '14',\n",
       "  'hwy': '19',\n",
       "  'fl': 'r',\n",
       "  'class': 'pickup'},\n",
       " {'': '54',\n",
       "  'manufacturer': 'dodge',\n",
       "  'model': 'dakota pickup 4wd',\n",
       "  'displ': '4.7',\n",
       "  'year': '2008',\n",
       "  'cyl': '8',\n",
       "  'trans': 'auto(l5)',\n",
       "  'drv': '4',\n",
       "  'cty': '14',\n",
       "  'hwy': '19',\n",
       "  'fl': 'r',\n",
       "  'class': 'pickup'},\n",
       " {'': '55',\n",
       "  'manufacturer': 'dodge',\n",
       "  'model': 'dakota pickup 4wd',\n",
       "  'displ': '4.7',\n",
       "  'year': '2008',\n",
       "  'cyl': '8',\n",
       "  'trans': 'auto(l5)',\n",
       "  'drv': '4',\n",
       "  'cty': '9',\n",
       "  'hwy': '12',\n",
       "  'fl': 'e',\n",
       "  'class': 'pickup'},\n",
       " {'': '56',\n",
       "  'manufacturer': 'dodge',\n",
       "  'model': 'dakota pickup 4wd',\n",
       "  'displ': '5.2',\n",
       "  'year': '1999',\n",
       "  'cyl': '8',\n",
       "  'trans': 'manual(m5)',\n",
       "  'drv': '4',\n",
       "  'cty': '11',\n",
       "  'hwy': '17',\n",
       "  'fl': 'r',\n",
       "  'class': 'pickup'},\n",
       " {'': '57',\n",
       "  'manufacturer': 'dodge',\n",
       "  'model': 'dakota pickup 4wd',\n",
       "  'displ': '5.2',\n",
       "  'year': '1999',\n",
       "  'cyl': '8',\n",
       "  'trans': 'auto(l4)',\n",
       "  'drv': '4',\n",
       "  'cty': '11',\n",
       "  'hwy': '15',\n",
       "  'fl': 'r',\n",
       "  'class': 'pickup'},\n",
       " {'': '58',\n",
       "  'manufacturer': 'dodge',\n",
       "  'model': 'durango 4wd',\n",
       "  'displ': '3.9',\n",
       "  'year': '1999',\n",
       "  'cyl': '6',\n",
       "  'trans': 'auto(l4)',\n",
       "  'drv': '4',\n",
       "  'cty': '13',\n",
       "  'hwy': '17',\n",
       "  'fl': 'r',\n",
       "  'class': 'suv'},\n",
       " {'': '59',\n",
       "  'manufacturer': 'dodge',\n",
       "  'model': 'durango 4wd',\n",
       "  'displ': '4.7',\n",
       "  'year': '2008',\n",
       "  'cyl': '8',\n",
       "  'trans': 'auto(l5)',\n",
       "  'drv': '4',\n",
       "  'cty': '13',\n",
       "  'hwy': '17',\n",
       "  'fl': 'r',\n",
       "  'class': 'suv'},\n",
       " {'': '60',\n",
       "  'manufacturer': 'dodge',\n",
       "  'model': 'durango 4wd',\n",
       "  'displ': '4.7',\n",
       "  'year': '2008',\n",
       "  'cyl': '8',\n",
       "  'trans': 'auto(l5)',\n",
       "  'drv': '4',\n",
       "  'cty': '9',\n",
       "  'hwy': '12',\n",
       "  'fl': 'e',\n",
       "  'class': 'suv'},\n",
       " {'': '61',\n",
       "  'manufacturer': 'dodge',\n",
       "  'model': 'durango 4wd',\n",
       "  'displ': '4.7',\n",
       "  'year': '2008',\n",
       "  'cyl': '8',\n",
       "  'trans': 'auto(l5)',\n",
       "  'drv': '4',\n",
       "  'cty': '13',\n",
       "  'hwy': '17',\n",
       "  'fl': 'r',\n",
       "  'class': 'suv'},\n",
       " {'': '62',\n",
       "  'manufacturer': 'dodge',\n",
       "  'model': 'durango 4wd',\n",
       "  'displ': '5.2',\n",
       "  'year': '1999',\n",
       "  'cyl': '8',\n",
       "  'trans': 'auto(l4)',\n",
       "  'drv': '4',\n",
       "  'cty': '11',\n",
       "  'hwy': '16',\n",
       "  'fl': 'r',\n",
       "  'class': 'suv'},\n",
       " {'': '63',\n",
       "  'manufacturer': 'dodge',\n",
       "  'model': 'durango 4wd',\n",
       "  'displ': '5.7',\n",
       "  'year': '2008',\n",
       "  'cyl': '8',\n",
       "  'trans': 'auto(l5)',\n",
       "  'drv': '4',\n",
       "  'cty': '13',\n",
       "  'hwy': '18',\n",
       "  'fl': 'r',\n",
       "  'class': 'suv'},\n",
       " {'': '64',\n",
       "  'manufacturer': 'dodge',\n",
       "  'model': 'durango 4wd',\n",
       "  'displ': '5.9',\n",
       "  'year': '1999',\n",
       "  'cyl': '8',\n",
       "  'trans': 'auto(l4)',\n",
       "  'drv': '4',\n",
       "  'cty': '11',\n",
       "  'hwy': '15',\n",
       "  'fl': 'r',\n",
       "  'class': 'suv'},\n",
       " {'': '65',\n",
       "  'manufacturer': 'dodge',\n",
       "  'model': 'ram 1500 pickup 4wd',\n",
       "  'displ': '4.7',\n",
       "  'year': '2008',\n",
       "  'cyl': '8',\n",
       "  'trans': 'manual(m6)',\n",
       "  'drv': '4',\n",
       "  'cty': '12',\n",
       "  'hwy': '16',\n",
       "  'fl': 'r',\n",
       "  'class': 'pickup'},\n",
       " {'': '66',\n",
       "  'manufacturer': 'dodge',\n",
       "  'model': 'ram 1500 pickup 4wd',\n",
       "  'displ': '4.7',\n",
       "  'year': '2008',\n",
       "  'cyl': '8',\n",
       "  'trans': 'auto(l5)',\n",
       "  'drv': '4',\n",
       "  'cty': '9',\n",
       "  'hwy': '12',\n",
       "  'fl': 'e',\n",
       "  'class': 'pickup'},\n",
       " {'': '67',\n",
       "  'manufacturer': 'dodge',\n",
       "  'model': 'ram 1500 pickup 4wd',\n",
       "  'displ': '4.7',\n",
       "  'year': '2008',\n",
       "  'cyl': '8',\n",
       "  'trans': 'auto(l5)',\n",
       "  'drv': '4',\n",
       "  'cty': '13',\n",
       "  'hwy': '17',\n",
       "  'fl': 'r',\n",
       "  'class': 'pickup'},\n",
       " {'': '68',\n",
       "  'manufacturer': 'dodge',\n",
       "  'model': 'ram 1500 pickup 4wd',\n",
       "  'displ': '4.7',\n",
       "  'year': '2008',\n",
       "  'cyl': '8',\n",
       "  'trans': 'auto(l5)',\n",
       "  'drv': '4',\n",
       "  'cty': '13',\n",
       "  'hwy': '17',\n",
       "  'fl': 'r',\n",
       "  'class': 'pickup'},\n",
       " {'': '69',\n",
       "  'manufacturer': 'dodge',\n",
       "  'model': 'ram 1500 pickup 4wd',\n",
       "  'displ': '4.7',\n",
       "  'year': '2008',\n",
       "  'cyl': '8',\n",
       "  'trans': 'manual(m6)',\n",
       "  'drv': '4',\n",
       "  'cty': '12',\n",
       "  'hwy': '16',\n",
       "  'fl': 'r',\n",
       "  'class': 'pickup'},\n",
       " {'': '70',\n",
       "  'manufacturer': 'dodge',\n",
       "  'model': 'ram 1500 pickup 4wd',\n",
       "  'displ': '4.7',\n",
       "  'year': '2008',\n",
       "  'cyl': '8',\n",
       "  'trans': 'manual(m6)',\n",
       "  'drv': '4',\n",
       "  'cty': '9',\n",
       "  'hwy': '12',\n",
       "  'fl': 'e',\n",
       "  'class': 'pickup'},\n",
       " {'': '71',\n",
       "  'manufacturer': 'dodge',\n",
       "  'model': 'ram 1500 pickup 4wd',\n",
       "  'displ': '5.2',\n",
       "  'year': '1999',\n",
       "  'cyl': '8',\n",
       "  'trans': 'auto(l4)',\n",
       "  'drv': '4',\n",
       "  'cty': '11',\n",
       "  'hwy': '15',\n",
       "  'fl': 'r',\n",
       "  'class': 'pickup'},\n",
       " {'': '72',\n",
       "  'manufacturer': 'dodge',\n",
       "  'model': 'ram 1500 pickup 4wd',\n",
       "  'displ': '5.2',\n",
       "  'year': '1999',\n",
       "  'cyl': '8',\n",
       "  'trans': 'manual(m5)',\n",
       "  'drv': '4',\n",
       "  'cty': '11',\n",
       "  'hwy': '16',\n",
       "  'fl': 'r',\n",
       "  'class': 'pickup'},\n",
       " {'': '73',\n",
       "  'manufacturer': 'dodge',\n",
       "  'model': 'ram 1500 pickup 4wd',\n",
       "  'displ': '5.7',\n",
       "  'year': '2008',\n",
       "  'cyl': '8',\n",
       "  'trans': 'auto(l5)',\n",
       "  'drv': '4',\n",
       "  'cty': '13',\n",
       "  'hwy': '17',\n",
       "  'fl': 'r',\n",
       "  'class': 'pickup'},\n",
       " {'': '74',\n",
       "  'manufacturer': 'dodge',\n",
       "  'model': 'ram 1500 pickup 4wd',\n",
       "  'displ': '5.9',\n",
       "  'year': '1999',\n",
       "  'cyl': '8',\n",
       "  'trans': 'auto(l4)',\n",
       "  'drv': '4',\n",
       "  'cty': '11',\n",
       "  'hwy': '15',\n",
       "  'fl': 'r',\n",
       "  'class': 'pickup'},\n",
       " {'': '75',\n",
       "  'manufacturer': 'ford',\n",
       "  'model': 'expedition 2wd',\n",
       "  'displ': '4.6',\n",
       "  'year': '1999',\n",
       "  'cyl': '8',\n",
       "  'trans': 'auto(l4)',\n",
       "  'drv': 'r',\n",
       "  'cty': '11',\n",
       "  'hwy': '17',\n",
       "  'fl': 'r',\n",
       "  'class': 'suv'},\n",
       " {'': '76',\n",
       "  'manufacturer': 'ford',\n",
       "  'model': 'expedition 2wd',\n",
       "  'displ': '5.4',\n",
       "  'year': '1999',\n",
       "  'cyl': '8',\n",
       "  'trans': 'auto(l4)',\n",
       "  'drv': 'r',\n",
       "  'cty': '11',\n",
       "  'hwy': '17',\n",
       "  'fl': 'r',\n",
       "  'class': 'suv'},\n",
       " {'': '77',\n",
       "  'manufacturer': 'ford',\n",
       "  'model': 'expedition 2wd',\n",
       "  'displ': '5.4',\n",
       "  'year': '2008',\n",
       "  'cyl': '8',\n",
       "  'trans': 'auto(l6)',\n",
       "  'drv': 'r',\n",
       "  'cty': '12',\n",
       "  'hwy': '18',\n",
       "  'fl': 'r',\n",
       "  'class': 'suv'},\n",
       " {'': '78',\n",
       "  'manufacturer': 'ford',\n",
       "  'model': 'explorer 4wd',\n",
       "  'displ': '4',\n",
       "  'year': '1999',\n",
       "  'cyl': '6',\n",
       "  'trans': 'auto(l5)',\n",
       "  'drv': '4',\n",
       "  'cty': '14',\n",
       "  'hwy': '17',\n",
       "  'fl': 'r',\n",
       "  'class': 'suv'},\n",
       " {'': '79',\n",
       "  'manufacturer': 'ford',\n",
       "  'model': 'explorer 4wd',\n",
       "  'displ': '4',\n",
       "  'year': '1999',\n",
       "  'cyl': '6',\n",
       "  'trans': 'manual(m5)',\n",
       "  'drv': '4',\n",
       "  'cty': '15',\n",
       "  'hwy': '19',\n",
       "  'fl': 'r',\n",
       "  'class': 'suv'},\n",
       " {'': '80',\n",
       "  'manufacturer': 'ford',\n",
       "  'model': 'explorer 4wd',\n",
       "  'displ': '4',\n",
       "  'year': '1999',\n",
       "  'cyl': '6',\n",
       "  'trans': 'auto(l5)',\n",
       "  'drv': '4',\n",
       "  'cty': '14',\n",
       "  'hwy': '17',\n",
       "  'fl': 'r',\n",
       "  'class': 'suv'},\n",
       " {'': '81',\n",
       "  'manufacturer': 'ford',\n",
       "  'model': 'explorer 4wd',\n",
       "  'displ': '4',\n",
       "  'year': '2008',\n",
       "  'cyl': '6',\n",
       "  'trans': 'auto(l5)',\n",
       "  'drv': '4',\n",
       "  'cty': '13',\n",
       "  'hwy': '19',\n",
       "  'fl': 'r',\n",
       "  'class': 'suv'},\n",
       " {'': '82',\n",
       "  'manufacturer': 'ford',\n",
       "  'model': 'explorer 4wd',\n",
       "  'displ': '4.6',\n",
       "  'year': '2008',\n",
       "  'cyl': '8',\n",
       "  'trans': 'auto(l6)',\n",
       "  'drv': '4',\n",
       "  'cty': '13',\n",
       "  'hwy': '19',\n",
       "  'fl': 'r',\n",
       "  'class': 'suv'},\n",
       " {'': '83',\n",
       "  'manufacturer': 'ford',\n",
       "  'model': 'explorer 4wd',\n",
       "  'displ': '5',\n",
       "  'year': '1999',\n",
       "  'cyl': '8',\n",
       "  'trans': 'auto(l4)',\n",
       "  'drv': '4',\n",
       "  'cty': '13',\n",
       "  'hwy': '17',\n",
       "  'fl': 'r',\n",
       "  'class': 'suv'},\n",
       " {'': '84',\n",
       "  'manufacturer': 'ford',\n",
       "  'model': 'f150 pickup 4wd',\n",
       "  'displ': '4.2',\n",
       "  'year': '1999',\n",
       "  'cyl': '6',\n",
       "  'trans': 'auto(l4)',\n",
       "  'drv': '4',\n",
       "  'cty': '14',\n",
       "  'hwy': '17',\n",
       "  'fl': 'r',\n",
       "  'class': 'pickup'},\n",
       " {'': '85',\n",
       "  'manufacturer': 'ford',\n",
       "  'model': 'f150 pickup 4wd',\n",
       "  'displ': '4.2',\n",
       "  'year': '1999',\n",
       "  'cyl': '6',\n",
       "  'trans': 'manual(m5)',\n",
       "  'drv': '4',\n",
       "  'cty': '14',\n",
       "  'hwy': '17',\n",
       "  'fl': 'r',\n",
       "  'class': 'pickup'},\n",
       " {'': '86',\n",
       "  'manufacturer': 'ford',\n",
       "  'model': 'f150 pickup 4wd',\n",
       "  'displ': '4.6',\n",
       "  'year': '1999',\n",
       "  'cyl': '8',\n",
       "  'trans': 'manual(m5)',\n",
       "  'drv': '4',\n",
       "  'cty': '13',\n",
       "  'hwy': '16',\n",
       "  'fl': 'r',\n",
       "  'class': 'pickup'},\n",
       " {'': '87',\n",
       "  'manufacturer': 'ford',\n",
       "  'model': 'f150 pickup 4wd',\n",
       "  'displ': '4.6',\n",
       "  'year': '1999',\n",
       "  'cyl': '8',\n",
       "  'trans': 'auto(l4)',\n",
       "  'drv': '4',\n",
       "  'cty': '13',\n",
       "  'hwy': '16',\n",
       "  'fl': 'r',\n",
       "  'class': 'pickup'},\n",
       " {'': '88',\n",
       "  'manufacturer': 'ford',\n",
       "  'model': 'f150 pickup 4wd',\n",
       "  'displ': '4.6',\n",
       "  'year': '2008',\n",
       "  'cyl': '8',\n",
       "  'trans': 'auto(l4)',\n",
       "  'drv': '4',\n",
       "  'cty': '13',\n",
       "  'hwy': '17',\n",
       "  'fl': 'r',\n",
       "  'class': 'pickup'},\n",
       " {'': '89',\n",
       "  'manufacturer': 'ford',\n",
       "  'model': 'f150 pickup 4wd',\n",
       "  'displ': '5.4',\n",
       "  'year': '1999',\n",
       "  'cyl': '8',\n",
       "  'trans': 'auto(l4)',\n",
       "  'drv': '4',\n",
       "  'cty': '11',\n",
       "  'hwy': '15',\n",
       "  'fl': 'r',\n",
       "  'class': 'pickup'},\n",
       " {'': '90',\n",
       "  'manufacturer': 'ford',\n",
       "  'model': 'f150 pickup 4wd',\n",
       "  'displ': '5.4',\n",
       "  'year': '2008',\n",
       "  'cyl': '8',\n",
       "  'trans': 'auto(l4)',\n",
       "  'drv': '4',\n",
       "  'cty': '13',\n",
       "  'hwy': '17',\n",
       "  'fl': 'r',\n",
       "  'class': 'pickup'},\n",
       " {'': '91',\n",
       "  'manufacturer': 'ford',\n",
       "  'model': 'mustang',\n",
       "  'displ': '3.8',\n",
       "  'year': '1999',\n",
       "  'cyl': '6',\n",
       "  'trans': 'manual(m5)',\n",
       "  'drv': 'r',\n",
       "  'cty': '18',\n",
       "  'hwy': '26',\n",
       "  'fl': 'r',\n",
       "  'class': 'subcompact'},\n",
       " {'': '92',\n",
       "  'manufacturer': 'ford',\n",
       "  'model': 'mustang',\n",
       "  'displ': '3.8',\n",
       "  'year': '1999',\n",
       "  'cyl': '6',\n",
       "  'trans': 'auto(l4)',\n",
       "  'drv': 'r',\n",
       "  'cty': '18',\n",
       "  'hwy': '25',\n",
       "  'fl': 'r',\n",
       "  'class': 'subcompact'},\n",
       " {'': '93',\n",
       "  'manufacturer': 'ford',\n",
       "  'model': 'mustang',\n",
       "  'displ': '4',\n",
       "  'year': '2008',\n",
       "  'cyl': '6',\n",
       "  'trans': 'manual(m5)',\n",
       "  'drv': 'r',\n",
       "  'cty': '17',\n",
       "  'hwy': '26',\n",
       "  'fl': 'r',\n",
       "  'class': 'subcompact'},\n",
       " {'': '94',\n",
       "  'manufacturer': 'ford',\n",
       "  'model': 'mustang',\n",
       "  'displ': '4',\n",
       "  'year': '2008',\n",
       "  'cyl': '6',\n",
       "  'trans': 'auto(l5)',\n",
       "  'drv': 'r',\n",
       "  'cty': '16',\n",
       "  'hwy': '24',\n",
       "  'fl': 'r',\n",
       "  'class': 'subcompact'},\n",
       " {'': '95',\n",
       "  'manufacturer': 'ford',\n",
       "  'model': 'mustang',\n",
       "  'displ': '4.6',\n",
       "  'year': '1999',\n",
       "  'cyl': '8',\n",
       "  'trans': 'auto(l4)',\n",
       "  'drv': 'r',\n",
       "  'cty': '15',\n",
       "  'hwy': '21',\n",
       "  'fl': 'r',\n",
       "  'class': 'subcompact'},\n",
       " {'': '96',\n",
       "  'manufacturer': 'ford',\n",
       "  'model': 'mustang',\n",
       "  'displ': '4.6',\n",
       "  'year': '1999',\n",
       "  'cyl': '8',\n",
       "  'trans': 'manual(m5)',\n",
       "  'drv': 'r',\n",
       "  'cty': '15',\n",
       "  'hwy': '22',\n",
       "  'fl': 'r',\n",
       "  'class': 'subcompact'},\n",
       " {'': '97',\n",
       "  'manufacturer': 'ford',\n",
       "  'model': 'mustang',\n",
       "  'displ': '4.6',\n",
       "  'year': '2008',\n",
       "  'cyl': '8',\n",
       "  'trans': 'manual(m5)',\n",
       "  'drv': 'r',\n",
       "  'cty': '15',\n",
       "  'hwy': '23',\n",
       "  'fl': 'r',\n",
       "  'class': 'subcompact'},\n",
       " {'': '98',\n",
       "  'manufacturer': 'ford',\n",
       "  'model': 'mustang',\n",
       "  'displ': '4.6',\n",
       "  'year': '2008',\n",
       "  'cyl': '8',\n",
       "  'trans': 'auto(l5)',\n",
       "  'drv': 'r',\n",
       "  'cty': '15',\n",
       "  'hwy': '22',\n",
       "  'fl': 'r',\n",
       "  'class': 'subcompact'},\n",
       " {'': '99',\n",
       "  'manufacturer': 'ford',\n",
       "  'model': 'mustang',\n",
       "  'displ': '5.4',\n",
       "  'year': '2008',\n",
       "  'cyl': '8',\n",
       "  'trans': 'manual(m6)',\n",
       "  'drv': 'r',\n",
       "  'cty': '14',\n",
       "  'hwy': '20',\n",
       "  'fl': 'p',\n",
       "  'class': 'subcompact'},\n",
       " {'': '100',\n",
       "  'manufacturer': 'honda',\n",
       "  'model': 'civic',\n",
       "  'displ': '1.6',\n",
       "  'year': '1999',\n",
       "  'cyl': '4',\n",
       "  'trans': 'manual(m5)',\n",
       "  'drv': 'f',\n",
       "  'cty': '28',\n",
       "  'hwy': '33',\n",
       "  'fl': 'r',\n",
       "  'class': 'subcompact'},\n",
       " {'': '101',\n",
       "  'manufacturer': 'honda',\n",
       "  'model': 'civic',\n",
       "  'displ': '1.6',\n",
       "  'year': '1999',\n",
       "  'cyl': '4',\n",
       "  'trans': 'auto(l4)',\n",
       "  'drv': 'f',\n",
       "  'cty': '24',\n",
       "  'hwy': '32',\n",
       "  'fl': 'r',\n",
       "  'class': 'subcompact'},\n",
       " {'': '102',\n",
       "  'manufacturer': 'honda',\n",
       "  'model': 'civic',\n",
       "  'displ': '1.6',\n",
       "  'year': '1999',\n",
       "  'cyl': '4',\n",
       "  'trans': 'manual(m5)',\n",
       "  'drv': 'f',\n",
       "  'cty': '25',\n",
       "  'hwy': '32',\n",
       "  'fl': 'r',\n",
       "  'class': 'subcompact'},\n",
       " {'': '103',\n",
       "  'manufacturer': 'honda',\n",
       "  'model': 'civic',\n",
       "  'displ': '1.6',\n",
       "  'year': '1999',\n",
       "  'cyl': '4',\n",
       "  'trans': 'manual(m5)',\n",
       "  'drv': 'f',\n",
       "  'cty': '23',\n",
       "  'hwy': '29',\n",
       "  'fl': 'p',\n",
       "  'class': 'subcompact'},\n",
       " {'': '104',\n",
       "  'manufacturer': 'honda',\n",
       "  'model': 'civic',\n",
       "  'displ': '1.6',\n",
       "  'year': '1999',\n",
       "  'cyl': '4',\n",
       "  'trans': 'auto(l4)',\n",
       "  'drv': 'f',\n",
       "  'cty': '24',\n",
       "  'hwy': '32',\n",
       "  'fl': 'r',\n",
       "  'class': 'subcompact'},\n",
       " {'': '105',\n",
       "  'manufacturer': 'honda',\n",
       "  'model': 'civic',\n",
       "  'displ': '1.8',\n",
       "  'year': '2008',\n",
       "  'cyl': '4',\n",
       "  'trans': 'manual(m5)',\n",
       "  'drv': 'f',\n",
       "  'cty': '26',\n",
       "  'hwy': '34',\n",
       "  'fl': 'r',\n",
       "  'class': 'subcompact'},\n",
       " {'': '106',\n",
       "  'manufacturer': 'honda',\n",
       "  'model': 'civic',\n",
       "  'displ': '1.8',\n",
       "  'year': '2008',\n",
       "  'cyl': '4',\n",
       "  'trans': 'auto(l5)',\n",
       "  'drv': 'f',\n",
       "  'cty': '25',\n",
       "  'hwy': '36',\n",
       "  'fl': 'r',\n",
       "  'class': 'subcompact'},\n",
       " {'': '107',\n",
       "  'manufacturer': 'honda',\n",
       "  'model': 'civic',\n",
       "  'displ': '1.8',\n",
       "  'year': '2008',\n",
       "  'cyl': '4',\n",
       "  'trans': 'auto(l5)',\n",
       "  'drv': 'f',\n",
       "  'cty': '24',\n",
       "  'hwy': '36',\n",
       "  'fl': 'c',\n",
       "  'class': 'subcompact'},\n",
       " {'': '108',\n",
       "  'manufacturer': 'honda',\n",
       "  'model': 'civic',\n",
       "  'displ': '2',\n",
       "  'year': '2008',\n",
       "  'cyl': '4',\n",
       "  'trans': 'manual(m6)',\n",
       "  'drv': 'f',\n",
       "  'cty': '21',\n",
       "  'hwy': '29',\n",
       "  'fl': 'p',\n",
       "  'class': 'subcompact'},\n",
       " {'': '109',\n",
       "  'manufacturer': 'hyundai',\n",
       "  'model': 'sonata',\n",
       "  'displ': '2.4',\n",
       "  'year': '1999',\n",
       "  'cyl': '4',\n",
       "  'trans': 'auto(l4)',\n",
       "  'drv': 'f',\n",
       "  'cty': '18',\n",
       "  'hwy': '26',\n",
       "  'fl': 'r',\n",
       "  'class': 'midsize'},\n",
       " {'': '110',\n",
       "  'manufacturer': 'hyundai',\n",
       "  'model': 'sonata',\n",
       "  'displ': '2.4',\n",
       "  'year': '1999',\n",
       "  'cyl': '4',\n",
       "  'trans': 'manual(m5)',\n",
       "  'drv': 'f',\n",
       "  'cty': '18',\n",
       "  'hwy': '27',\n",
       "  'fl': 'r',\n",
       "  'class': 'midsize'},\n",
       " {'': '111',\n",
       "  'manufacturer': 'hyundai',\n",
       "  'model': 'sonata',\n",
       "  'displ': '2.4',\n",
       "  'year': '2008',\n",
       "  'cyl': '4',\n",
       "  'trans': 'auto(l4)',\n",
       "  'drv': 'f',\n",
       "  'cty': '21',\n",
       "  'hwy': '30',\n",
       "  'fl': 'r',\n",
       "  'class': 'midsize'},\n",
       " {'': '112',\n",
       "  'manufacturer': 'hyundai',\n",
       "  'model': 'sonata',\n",
       "  'displ': '2.4',\n",
       "  'year': '2008',\n",
       "  'cyl': '4',\n",
       "  'trans': 'manual(m5)',\n",
       "  'drv': 'f',\n",
       "  'cty': '21',\n",
       "  'hwy': '31',\n",
       "  'fl': 'r',\n",
       "  'class': 'midsize'},\n",
       " {'': '113',\n",
       "  'manufacturer': 'hyundai',\n",
       "  'model': 'sonata',\n",
       "  'displ': '2.5',\n",
       "  'year': '1999',\n",
       "  'cyl': '6',\n",
       "  'trans': 'auto(l4)',\n",
       "  'drv': 'f',\n",
       "  'cty': '18',\n",
       "  'hwy': '26',\n",
       "  'fl': 'r',\n",
       "  'class': 'midsize'},\n",
       " {'': '114',\n",
       "  'manufacturer': 'hyundai',\n",
       "  'model': 'sonata',\n",
       "  'displ': '2.5',\n",
       "  'year': '1999',\n",
       "  'cyl': '6',\n",
       "  'trans': 'manual(m5)',\n",
       "  'drv': 'f',\n",
       "  'cty': '18',\n",
       "  'hwy': '26',\n",
       "  'fl': 'r',\n",
       "  'class': 'midsize'},\n",
       " {'': '115',\n",
       "  'manufacturer': 'hyundai',\n",
       "  'model': 'sonata',\n",
       "  'displ': '3.3',\n",
       "  'year': '2008',\n",
       "  'cyl': '6',\n",
       "  'trans': 'auto(l5)',\n",
       "  'drv': 'f',\n",
       "  'cty': '19',\n",
       "  'hwy': '28',\n",
       "  'fl': 'r',\n",
       "  'class': 'midsize'},\n",
       " {'': '116',\n",
       "  'manufacturer': 'hyundai',\n",
       "  'model': 'tiburon',\n",
       "  'displ': '2',\n",
       "  'year': '1999',\n",
       "  'cyl': '4',\n",
       "  'trans': 'auto(l4)',\n",
       "  'drv': 'f',\n",
       "  'cty': '19',\n",
       "  'hwy': '26',\n",
       "  'fl': 'r',\n",
       "  'class': 'subcompact'},\n",
       " {'': '117',\n",
       "  'manufacturer': 'hyundai',\n",
       "  'model': 'tiburon',\n",
       "  'displ': '2',\n",
       "  'year': '1999',\n",
       "  'cyl': '4',\n",
       "  'trans': 'manual(m5)',\n",
       "  'drv': 'f',\n",
       "  'cty': '19',\n",
       "  'hwy': '29',\n",
       "  'fl': 'r',\n",
       "  'class': 'subcompact'},\n",
       " {'': '118',\n",
       "  'manufacturer': 'hyundai',\n",
       "  'model': 'tiburon',\n",
       "  'displ': '2',\n",
       "  'year': '2008',\n",
       "  'cyl': '4',\n",
       "  'trans': 'manual(m5)',\n",
       "  'drv': 'f',\n",
       "  'cty': '20',\n",
       "  'hwy': '28',\n",
       "  'fl': 'r',\n",
       "  'class': 'subcompact'},\n",
       " {'': '119',\n",
       "  'manufacturer': 'hyundai',\n",
       "  'model': 'tiburon',\n",
       "  'displ': '2',\n",
       "  'year': '2008',\n",
       "  'cyl': '4',\n",
       "  'trans': 'auto(l4)',\n",
       "  'drv': 'f',\n",
       "  'cty': '20',\n",
       "  'hwy': '27',\n",
       "  'fl': 'r',\n",
       "  'class': 'subcompact'},\n",
       " {'': '120',\n",
       "  'manufacturer': 'hyundai',\n",
       "  'model': 'tiburon',\n",
       "  'displ': '2.7',\n",
       "  'year': '2008',\n",
       "  'cyl': '6',\n",
       "  'trans': 'auto(l4)',\n",
       "  'drv': 'f',\n",
       "  'cty': '17',\n",
       "  'hwy': '24',\n",
       "  'fl': 'r',\n",
       "  'class': 'subcompact'},\n",
       " {'': '121',\n",
       "  'manufacturer': 'hyundai',\n",
       "  'model': 'tiburon',\n",
       "  'displ': '2.7',\n",
       "  'year': '2008',\n",
       "  'cyl': '6',\n",
       "  'trans': 'manual(m6)',\n",
       "  'drv': 'f',\n",
       "  'cty': '16',\n",
       "  'hwy': '24',\n",
       "  'fl': 'r',\n",
       "  'class': 'subcompact'},\n",
       " {'': '122',\n",
       "  'manufacturer': 'hyundai',\n",
       "  'model': 'tiburon',\n",
       "  'displ': '2.7',\n",
       "  'year': '2008',\n",
       "  'cyl': '6',\n",
       "  'trans': 'manual(m5)',\n",
       "  'drv': 'f',\n",
       "  'cty': '17',\n",
       "  'hwy': '24',\n",
       "  'fl': 'r',\n",
       "  'class': 'subcompact'},\n",
       " {'': '123',\n",
       "  'manufacturer': 'jeep',\n",
       "  'model': 'grand cherokee 4wd',\n",
       "  'displ': '3',\n",
       "  'year': '2008',\n",
       "  'cyl': '6',\n",
       "  'trans': 'auto(l5)',\n",
       "  'drv': '4',\n",
       "  'cty': '17',\n",
       "  'hwy': '22',\n",
       "  'fl': 'd',\n",
       "  'class': 'suv'},\n",
       " {'': '124',\n",
       "  'manufacturer': 'jeep',\n",
       "  'model': 'grand cherokee 4wd',\n",
       "  'displ': '3.7',\n",
       "  'year': '2008',\n",
       "  'cyl': '6',\n",
       "  'trans': 'auto(l5)',\n",
       "  'drv': '4',\n",
       "  'cty': '15',\n",
       "  'hwy': '19',\n",
       "  'fl': 'r',\n",
       "  'class': 'suv'},\n",
       " {'': '125',\n",
       "  'manufacturer': 'jeep',\n",
       "  'model': 'grand cherokee 4wd',\n",
       "  'displ': '4',\n",
       "  'year': '1999',\n",
       "  'cyl': '6',\n",
       "  'trans': 'auto(l4)',\n",
       "  'drv': '4',\n",
       "  'cty': '15',\n",
       "  'hwy': '20',\n",
       "  'fl': 'r',\n",
       "  'class': 'suv'},\n",
       " {'': '126',\n",
       "  'manufacturer': 'jeep',\n",
       "  'model': 'grand cherokee 4wd',\n",
       "  'displ': '4.7',\n",
       "  'year': '1999',\n",
       "  'cyl': '8',\n",
       "  'trans': 'auto(l4)',\n",
       "  'drv': '4',\n",
       "  'cty': '14',\n",
       "  'hwy': '17',\n",
       "  'fl': 'r',\n",
       "  'class': 'suv'},\n",
       " {'': '127',\n",
       "  'manufacturer': 'jeep',\n",
       "  'model': 'grand cherokee 4wd',\n",
       "  'displ': '4.7',\n",
       "  'year': '2008',\n",
       "  'cyl': '8',\n",
       "  'trans': 'auto(l5)',\n",
       "  'drv': '4',\n",
       "  'cty': '9',\n",
       "  'hwy': '12',\n",
       "  'fl': 'e',\n",
       "  'class': 'suv'},\n",
       " {'': '128',\n",
       "  'manufacturer': 'jeep',\n",
       "  'model': 'grand cherokee 4wd',\n",
       "  'displ': '4.7',\n",
       "  'year': '2008',\n",
       "  'cyl': '8',\n",
       "  'trans': 'auto(l5)',\n",
       "  'drv': '4',\n",
       "  'cty': '14',\n",
       "  'hwy': '19',\n",
       "  'fl': 'r',\n",
       "  'class': 'suv'},\n",
       " {'': '129',\n",
       "  'manufacturer': 'jeep',\n",
       "  'model': 'grand cherokee 4wd',\n",
       "  'displ': '5.7',\n",
       "  'year': '2008',\n",
       "  'cyl': '8',\n",
       "  'trans': 'auto(l5)',\n",
       "  'drv': '4',\n",
       "  'cty': '13',\n",
       "  'hwy': '18',\n",
       "  'fl': 'r',\n",
       "  'class': 'suv'},\n",
       " {'': '130',\n",
       "  'manufacturer': 'jeep',\n",
       "  'model': 'grand cherokee 4wd',\n",
       "  'displ': '6.1',\n",
       "  'year': '2008',\n",
       "  'cyl': '8',\n",
       "  'trans': 'auto(l5)',\n",
       "  'drv': '4',\n",
       "  'cty': '11',\n",
       "  'hwy': '14',\n",
       "  'fl': 'p',\n",
       "  'class': 'suv'},\n",
       " {'': '131',\n",
       "  'manufacturer': 'land rover',\n",
       "  'model': 'range rover',\n",
       "  'displ': '4',\n",
       "  'year': '1999',\n",
       "  'cyl': '8',\n",
       "  'trans': 'auto(l4)',\n",
       "  'drv': '4',\n",
       "  'cty': '11',\n",
       "  'hwy': '15',\n",
       "  'fl': 'p',\n",
       "  'class': 'suv'},\n",
       " {'': '132',\n",
       "  'manufacturer': 'land rover',\n",
       "  'model': 'range rover',\n",
       "  'displ': '4.2',\n",
       "  'year': '2008',\n",
       "  'cyl': '8',\n",
       "  'trans': 'auto(s6)',\n",
       "  'drv': '4',\n",
       "  'cty': '12',\n",
       "  'hwy': '18',\n",
       "  'fl': 'r',\n",
       "  'class': 'suv'},\n",
       " {'': '133',\n",
       "  'manufacturer': 'land rover',\n",
       "  'model': 'range rover',\n",
       "  'displ': '4.4',\n",
       "  'year': '2008',\n",
       "  'cyl': '8',\n",
       "  'trans': 'auto(s6)',\n",
       "  'drv': '4',\n",
       "  'cty': '12',\n",
       "  'hwy': '18',\n",
       "  'fl': 'r',\n",
       "  'class': 'suv'},\n",
       " {'': '134',\n",
       "  'manufacturer': 'land rover',\n",
       "  'model': 'range rover',\n",
       "  'displ': '4.6',\n",
       "  'year': '1999',\n",
       "  'cyl': '8',\n",
       "  'trans': 'auto(l4)',\n",
       "  'drv': '4',\n",
       "  'cty': '11',\n",
       "  'hwy': '15',\n",
       "  'fl': 'p',\n",
       "  'class': 'suv'},\n",
       " {'': '135',\n",
       "  'manufacturer': 'lincoln',\n",
       "  'model': 'navigator 2wd',\n",
       "  'displ': '5.4',\n",
       "  'year': '1999',\n",
       "  'cyl': '8',\n",
       "  'trans': 'auto(l4)',\n",
       "  'drv': 'r',\n",
       "  'cty': '11',\n",
       "  'hwy': '17',\n",
       "  'fl': 'r',\n",
       "  'class': 'suv'},\n",
       " {'': '136',\n",
       "  'manufacturer': 'lincoln',\n",
       "  'model': 'navigator 2wd',\n",
       "  'displ': '5.4',\n",
       "  'year': '1999',\n",
       "  'cyl': '8',\n",
       "  'trans': 'auto(l4)',\n",
       "  'drv': 'r',\n",
       "  'cty': '11',\n",
       "  'hwy': '16',\n",
       "  'fl': 'p',\n",
       "  'class': 'suv'},\n",
       " {'': '137',\n",
       "  'manufacturer': 'lincoln',\n",
       "  'model': 'navigator 2wd',\n",
       "  'displ': '5.4',\n",
       "  'year': '2008',\n",
       "  'cyl': '8',\n",
       "  'trans': 'auto(l6)',\n",
       "  'drv': 'r',\n",
       "  'cty': '12',\n",
       "  'hwy': '18',\n",
       "  'fl': 'r',\n",
       "  'class': 'suv'},\n",
       " {'': '138',\n",
       "  'manufacturer': 'mercury',\n",
       "  'model': 'mountaineer 4wd',\n",
       "  'displ': '4',\n",
       "  'year': '1999',\n",
       "  'cyl': '6',\n",
       "  'trans': 'auto(l5)',\n",
       "  'drv': '4',\n",
       "  'cty': '14',\n",
       "  'hwy': '17',\n",
       "  'fl': 'r',\n",
       "  'class': 'suv'},\n",
       " {'': '139',\n",
       "  'manufacturer': 'mercury',\n",
       "  'model': 'mountaineer 4wd',\n",
       "  'displ': '4',\n",
       "  'year': '2008',\n",
       "  'cyl': '6',\n",
       "  'trans': 'auto(l5)',\n",
       "  'drv': '4',\n",
       "  'cty': '13',\n",
       "  'hwy': '19',\n",
       "  'fl': 'r',\n",
       "  'class': 'suv'},\n",
       " {'': '140',\n",
       "  'manufacturer': 'mercury',\n",
       "  'model': 'mountaineer 4wd',\n",
       "  'displ': '4.6',\n",
       "  'year': '2008',\n",
       "  'cyl': '8',\n",
       "  'trans': 'auto(l6)',\n",
       "  'drv': '4',\n",
       "  'cty': '13',\n",
       "  'hwy': '19',\n",
       "  'fl': 'r',\n",
       "  'class': 'suv'},\n",
       " {'': '141',\n",
       "  'manufacturer': 'mercury',\n",
       "  'model': 'mountaineer 4wd',\n",
       "  'displ': '5',\n",
       "  'year': '1999',\n",
       "  'cyl': '8',\n",
       "  'trans': 'auto(l4)',\n",
       "  'drv': '4',\n",
       "  'cty': '13',\n",
       "  'hwy': '17',\n",
       "  'fl': 'r',\n",
       "  'class': 'suv'},\n",
       " {'': '142',\n",
       "  'manufacturer': 'nissan',\n",
       "  'model': 'altima',\n",
       "  'displ': '2.4',\n",
       "  'year': '1999',\n",
       "  'cyl': '4',\n",
       "  'trans': 'manual(m5)',\n",
       "  'drv': 'f',\n",
       "  'cty': '21',\n",
       "  'hwy': '29',\n",
       "  'fl': 'r',\n",
       "  'class': 'compact'},\n",
       " {'': '143',\n",
       "  'manufacturer': 'nissan',\n",
       "  'model': 'altima',\n",
       "  'displ': '2.4',\n",
       "  'year': '1999',\n",
       "  'cyl': '4',\n",
       "  'trans': 'auto(l4)',\n",
       "  'drv': 'f',\n",
       "  'cty': '19',\n",
       "  'hwy': '27',\n",
       "  'fl': 'r',\n",
       "  'class': 'compact'},\n",
       " {'': '144',\n",
       "  'manufacturer': 'nissan',\n",
       "  'model': 'altima',\n",
       "  'displ': '2.5',\n",
       "  'year': '2008',\n",
       "  'cyl': '4',\n",
       "  'trans': 'auto(av)',\n",
       "  'drv': 'f',\n",
       "  'cty': '23',\n",
       "  'hwy': '31',\n",
       "  'fl': 'r',\n",
       "  'class': 'midsize'},\n",
       " {'': '145',\n",
       "  'manufacturer': 'nissan',\n",
       "  'model': 'altima',\n",
       "  'displ': '2.5',\n",
       "  'year': '2008',\n",
       "  'cyl': '4',\n",
       "  'trans': 'manual(m6)',\n",
       "  'drv': 'f',\n",
       "  'cty': '23',\n",
       "  'hwy': '32',\n",
       "  'fl': 'r',\n",
       "  'class': 'midsize'},\n",
       " {'': '146',\n",
       "  'manufacturer': 'nissan',\n",
       "  'model': 'altima',\n",
       "  'displ': '3.5',\n",
       "  'year': '2008',\n",
       "  'cyl': '6',\n",
       "  'trans': 'manual(m6)',\n",
       "  'drv': 'f',\n",
       "  'cty': '19',\n",
       "  'hwy': '27',\n",
       "  'fl': 'p',\n",
       "  'class': 'midsize'},\n",
       " {'': '147',\n",
       "  'manufacturer': 'nissan',\n",
       "  'model': 'altima',\n",
       "  'displ': '3.5',\n",
       "  'year': '2008',\n",
       "  'cyl': '6',\n",
       "  'trans': 'auto(av)',\n",
       "  'drv': 'f',\n",
       "  'cty': '19',\n",
       "  'hwy': '26',\n",
       "  'fl': 'p',\n",
       "  'class': 'midsize'},\n",
       " {'': '148',\n",
       "  'manufacturer': 'nissan',\n",
       "  'model': 'maxima',\n",
       "  'displ': '3',\n",
       "  'year': '1999',\n",
       "  'cyl': '6',\n",
       "  'trans': 'auto(l4)',\n",
       "  'drv': 'f',\n",
       "  'cty': '18',\n",
       "  'hwy': '26',\n",
       "  'fl': 'r',\n",
       "  'class': 'midsize'},\n",
       " {'': '149',\n",
       "  'manufacturer': 'nissan',\n",
       "  'model': 'maxima',\n",
       "  'displ': '3',\n",
       "  'year': '1999',\n",
       "  'cyl': '6',\n",
       "  'trans': 'manual(m5)',\n",
       "  'drv': 'f',\n",
       "  'cty': '19',\n",
       "  'hwy': '25',\n",
       "  'fl': 'r',\n",
       "  'class': 'midsize'},\n",
       " {'': '150',\n",
       "  'manufacturer': 'nissan',\n",
       "  'model': 'maxima',\n",
       "  'displ': '3.5',\n",
       "  'year': '2008',\n",
       "  'cyl': '6',\n",
       "  'trans': 'auto(av)',\n",
       "  'drv': 'f',\n",
       "  'cty': '19',\n",
       "  'hwy': '25',\n",
       "  'fl': 'p',\n",
       "  'class': 'midsize'},\n",
       " {'': '151',\n",
       "  'manufacturer': 'nissan',\n",
       "  'model': 'pathfinder 4wd',\n",
       "  'displ': '3.3',\n",
       "  'year': '1999',\n",
       "  'cyl': '6',\n",
       "  'trans': 'auto(l4)',\n",
       "  'drv': '4',\n",
       "  'cty': '14',\n",
       "  'hwy': '17',\n",
       "  'fl': 'r',\n",
       "  'class': 'suv'},\n",
       " {'': '152',\n",
       "  'manufacturer': 'nissan',\n",
       "  'model': 'pathfinder 4wd',\n",
       "  'displ': '3.3',\n",
       "  'year': '1999',\n",
       "  'cyl': '6',\n",
       "  'trans': 'manual(m5)',\n",
       "  'drv': '4',\n",
       "  'cty': '15',\n",
       "  'hwy': '17',\n",
       "  'fl': 'r',\n",
       "  'class': 'suv'},\n",
       " {'': '153',\n",
       "  'manufacturer': 'nissan',\n",
       "  'model': 'pathfinder 4wd',\n",
       "  'displ': '4',\n",
       "  'year': '2008',\n",
       "  'cyl': '6',\n",
       "  'trans': 'auto(l5)',\n",
       "  'drv': '4',\n",
       "  'cty': '14',\n",
       "  'hwy': '20',\n",
       "  'fl': 'p',\n",
       "  'class': 'suv'},\n",
       " {'': '154',\n",
       "  'manufacturer': 'nissan',\n",
       "  'model': 'pathfinder 4wd',\n",
       "  'displ': '5.6',\n",
       "  'year': '2008',\n",
       "  'cyl': '8',\n",
       "  'trans': 'auto(s5)',\n",
       "  'drv': '4',\n",
       "  'cty': '12',\n",
       "  'hwy': '18',\n",
       "  'fl': 'p',\n",
       "  'class': 'suv'},\n",
       " {'': '155',\n",
       "  'manufacturer': 'pontiac',\n",
       "  'model': 'grand prix',\n",
       "  'displ': '3.1',\n",
       "  'year': '1999',\n",
       "  'cyl': '6',\n",
       "  'trans': 'auto(l4)',\n",
       "  'drv': 'f',\n",
       "  'cty': '18',\n",
       "  'hwy': '26',\n",
       "  'fl': 'r',\n",
       "  'class': 'midsize'},\n",
       " {'': '156',\n",
       "  'manufacturer': 'pontiac',\n",
       "  'model': 'grand prix',\n",
       "  'displ': '3.8',\n",
       "  'year': '1999',\n",
       "  'cyl': '6',\n",
       "  'trans': 'auto(l4)',\n",
       "  'drv': 'f',\n",
       "  'cty': '16',\n",
       "  'hwy': '26',\n",
       "  'fl': 'p',\n",
       "  'class': 'midsize'},\n",
       " {'': '157',\n",
       "  'manufacturer': 'pontiac',\n",
       "  'model': 'grand prix',\n",
       "  'displ': '3.8',\n",
       "  'year': '1999',\n",
       "  'cyl': '6',\n",
       "  'trans': 'auto(l4)',\n",
       "  'drv': 'f',\n",
       "  'cty': '17',\n",
       "  'hwy': '27',\n",
       "  'fl': 'r',\n",
       "  'class': 'midsize'},\n",
       " {'': '158',\n",
       "  'manufacturer': 'pontiac',\n",
       "  'model': 'grand prix',\n",
       "  'displ': '3.8',\n",
       "  'year': '2008',\n",
       "  'cyl': '6',\n",
       "  'trans': 'auto(l4)',\n",
       "  'drv': 'f',\n",
       "  'cty': '18',\n",
       "  'hwy': '28',\n",
       "  'fl': 'r',\n",
       "  'class': 'midsize'},\n",
       " {'': '159',\n",
       "  'manufacturer': 'pontiac',\n",
       "  'model': 'grand prix',\n",
       "  'displ': '5.3',\n",
       "  'year': '2008',\n",
       "  'cyl': '8',\n",
       "  'trans': 'auto(s4)',\n",
       "  'drv': 'f',\n",
       "  'cty': '16',\n",
       "  'hwy': '25',\n",
       "  'fl': 'p',\n",
       "  'class': 'midsize'},\n",
       " {'': '160',\n",
       "  'manufacturer': 'subaru',\n",
       "  'model': 'forester awd',\n",
       "  'displ': '2.5',\n",
       "  'year': '1999',\n",
       "  'cyl': '4',\n",
       "  'trans': 'manual(m5)',\n",
       "  'drv': '4',\n",
       "  'cty': '18',\n",
       "  'hwy': '25',\n",
       "  'fl': 'r',\n",
       "  'class': 'suv'},\n",
       " {'': '161',\n",
       "  'manufacturer': 'subaru',\n",
       "  'model': 'forester awd',\n",
       "  'displ': '2.5',\n",
       "  'year': '1999',\n",
       "  'cyl': '4',\n",
       "  'trans': 'auto(l4)',\n",
       "  'drv': '4',\n",
       "  'cty': '18',\n",
       "  'hwy': '24',\n",
       "  'fl': 'r',\n",
       "  'class': 'suv'},\n",
       " {'': '162',\n",
       "  'manufacturer': 'subaru',\n",
       "  'model': 'forester awd',\n",
       "  'displ': '2.5',\n",
       "  'year': '2008',\n",
       "  'cyl': '4',\n",
       "  'trans': 'manual(m5)',\n",
       "  'drv': '4',\n",
       "  'cty': '20',\n",
       "  'hwy': '27',\n",
       "  'fl': 'r',\n",
       "  'class': 'suv'},\n",
       " {'': '163',\n",
       "  'manufacturer': 'subaru',\n",
       "  'model': 'forester awd',\n",
       "  'displ': '2.5',\n",
       "  'year': '2008',\n",
       "  'cyl': '4',\n",
       "  'trans': 'manual(m5)',\n",
       "  'drv': '4',\n",
       "  'cty': '19',\n",
       "  'hwy': '25',\n",
       "  'fl': 'p',\n",
       "  'class': 'suv'},\n",
       " {'': '164',\n",
       "  'manufacturer': 'subaru',\n",
       "  'model': 'forester awd',\n",
       "  'displ': '2.5',\n",
       "  'year': '2008',\n",
       "  'cyl': '4',\n",
       "  'trans': 'auto(l4)',\n",
       "  'drv': '4',\n",
       "  'cty': '20',\n",
       "  'hwy': '26',\n",
       "  'fl': 'r',\n",
       "  'class': 'suv'},\n",
       " {'': '165',\n",
       "  'manufacturer': 'subaru',\n",
       "  'model': 'forester awd',\n",
       "  'displ': '2.5',\n",
       "  'year': '2008',\n",
       "  'cyl': '4',\n",
       "  'trans': 'auto(l4)',\n",
       "  'drv': '4',\n",
       "  'cty': '18',\n",
       "  'hwy': '23',\n",
       "  'fl': 'p',\n",
       "  'class': 'suv'},\n",
       " {'': '166',\n",
       "  'manufacturer': 'subaru',\n",
       "  'model': 'impreza awd',\n",
       "  'displ': '2.2',\n",
       "  'year': '1999',\n",
       "  'cyl': '4',\n",
       "  'trans': 'auto(l4)',\n",
       "  'drv': '4',\n",
       "  'cty': '21',\n",
       "  'hwy': '26',\n",
       "  'fl': 'r',\n",
       "  'class': 'subcompact'},\n",
       " {'': '167',\n",
       "  'manufacturer': 'subaru',\n",
       "  'model': 'impreza awd',\n",
       "  'displ': '2.2',\n",
       "  'year': '1999',\n",
       "  'cyl': '4',\n",
       "  'trans': 'manual(m5)',\n",
       "  'drv': '4',\n",
       "  'cty': '19',\n",
       "  'hwy': '26',\n",
       "  'fl': 'r',\n",
       "  'class': 'subcompact'},\n",
       " {'': '168',\n",
       "  'manufacturer': 'subaru',\n",
       "  'model': 'impreza awd',\n",
       "  'displ': '2.5',\n",
       "  'year': '1999',\n",
       "  'cyl': '4',\n",
       "  'trans': 'manual(m5)',\n",
       "  'drv': '4',\n",
       "  'cty': '19',\n",
       "  'hwy': '26',\n",
       "  'fl': 'r',\n",
       "  'class': 'subcompact'},\n",
       " {'': '169',\n",
       "  'manufacturer': 'subaru',\n",
       "  'model': 'impreza awd',\n",
       "  'displ': '2.5',\n",
       "  'year': '1999',\n",
       "  'cyl': '4',\n",
       "  'trans': 'auto(l4)',\n",
       "  'drv': '4',\n",
       "  'cty': '19',\n",
       "  'hwy': '26',\n",
       "  'fl': 'r',\n",
       "  'class': 'subcompact'},\n",
       " {'': '170',\n",
       "  'manufacturer': 'subaru',\n",
       "  'model': 'impreza awd',\n",
       "  'displ': '2.5',\n",
       "  'year': '2008',\n",
       "  'cyl': '4',\n",
       "  'trans': 'auto(s4)',\n",
       "  'drv': '4',\n",
       "  'cty': '20',\n",
       "  'hwy': '25',\n",
       "  'fl': 'p',\n",
       "  'class': 'compact'},\n",
       " {'': '171',\n",
       "  'manufacturer': 'subaru',\n",
       "  'model': 'impreza awd',\n",
       "  'displ': '2.5',\n",
       "  'year': '2008',\n",
       "  'cyl': '4',\n",
       "  'trans': 'auto(s4)',\n",
       "  'drv': '4',\n",
       "  'cty': '20',\n",
       "  'hwy': '27',\n",
       "  'fl': 'r',\n",
       "  'class': 'compact'},\n",
       " {'': '172',\n",
       "  'manufacturer': 'subaru',\n",
       "  'model': 'impreza awd',\n",
       "  'displ': '2.5',\n",
       "  'year': '2008',\n",
       "  'cyl': '4',\n",
       "  'trans': 'manual(m5)',\n",
       "  'drv': '4',\n",
       "  'cty': '19',\n",
       "  'hwy': '25',\n",
       "  'fl': 'p',\n",
       "  'class': 'compact'},\n",
       " {'': '173',\n",
       "  'manufacturer': 'subaru',\n",
       "  'model': 'impreza awd',\n",
       "  'displ': '2.5',\n",
       "  'year': '2008',\n",
       "  'cyl': '4',\n",
       "  'trans': 'manual(m5)',\n",
       "  'drv': '4',\n",
       "  'cty': '20',\n",
       "  'hwy': '27',\n",
       "  'fl': 'r',\n",
       "  'class': 'compact'},\n",
       " {'': '174',\n",
       "  'manufacturer': 'toyota',\n",
       "  'model': '4runner 4wd',\n",
       "  'displ': '2.7',\n",
       "  'year': '1999',\n",
       "  'cyl': '4',\n",
       "  'trans': 'manual(m5)',\n",
       "  'drv': '4',\n",
       "  'cty': '15',\n",
       "  'hwy': '20',\n",
       "  'fl': 'r',\n",
       "  'class': 'suv'},\n",
       " {'': '175',\n",
       "  'manufacturer': 'toyota',\n",
       "  'model': '4runner 4wd',\n",
       "  'displ': '2.7',\n",
       "  'year': '1999',\n",
       "  'cyl': '4',\n",
       "  'trans': 'auto(l4)',\n",
       "  'drv': '4',\n",
       "  'cty': '16',\n",
       "  'hwy': '20',\n",
       "  'fl': 'r',\n",
       "  'class': 'suv'},\n",
       " {'': '176',\n",
       "  'manufacturer': 'toyota',\n",
       "  'model': '4runner 4wd',\n",
       "  'displ': '3.4',\n",
       "  'year': '1999',\n",
       "  'cyl': '6',\n",
       "  'trans': 'auto(l4)',\n",
       "  'drv': '4',\n",
       "  'cty': '15',\n",
       "  'hwy': '19',\n",
       "  'fl': 'r',\n",
       "  'class': 'suv'},\n",
       " {'': '177',\n",
       "  'manufacturer': 'toyota',\n",
       "  'model': '4runner 4wd',\n",
       "  'displ': '3.4',\n",
       "  'year': '1999',\n",
       "  'cyl': '6',\n",
       "  'trans': 'manual(m5)',\n",
       "  'drv': '4',\n",
       "  'cty': '15',\n",
       "  'hwy': '17',\n",
       "  'fl': 'r',\n",
       "  'class': 'suv'},\n",
       " {'': '178',\n",
       "  'manufacturer': 'toyota',\n",
       "  'model': '4runner 4wd',\n",
       "  'displ': '4',\n",
       "  'year': '2008',\n",
       "  'cyl': '6',\n",
       "  'trans': 'auto(l5)',\n",
       "  'drv': '4',\n",
       "  'cty': '16',\n",
       "  'hwy': '20',\n",
       "  'fl': 'r',\n",
       "  'class': 'suv'},\n",
       " {'': '179',\n",
       "  'manufacturer': 'toyota',\n",
       "  'model': '4runner 4wd',\n",
       "  'displ': '4.7',\n",
       "  'year': '2008',\n",
       "  'cyl': '8',\n",
       "  'trans': 'auto(l5)',\n",
       "  'drv': '4',\n",
       "  'cty': '14',\n",
       "  'hwy': '17',\n",
       "  'fl': 'r',\n",
       "  'class': 'suv'},\n",
       " {'': '180',\n",
       "  'manufacturer': 'toyota',\n",
       "  'model': 'camry',\n",
       "  'displ': '2.2',\n",
       "  'year': '1999',\n",
       "  'cyl': '4',\n",
       "  'trans': 'manual(m5)',\n",
       "  'drv': 'f',\n",
       "  'cty': '21',\n",
       "  'hwy': '29',\n",
       "  'fl': 'r',\n",
       "  'class': 'midsize'},\n",
       " {'': '181',\n",
       "  'manufacturer': 'toyota',\n",
       "  'model': 'camry',\n",
       "  'displ': '2.2',\n",
       "  'year': '1999',\n",
       "  'cyl': '4',\n",
       "  'trans': 'auto(l4)',\n",
       "  'drv': 'f',\n",
       "  'cty': '21',\n",
       "  'hwy': '27',\n",
       "  'fl': 'r',\n",
       "  'class': 'midsize'},\n",
       " {'': '182',\n",
       "  'manufacturer': 'toyota',\n",
       "  'model': 'camry',\n",
       "  'displ': '2.4',\n",
       "  'year': '2008',\n",
       "  'cyl': '4',\n",
       "  'trans': 'manual(m5)',\n",
       "  'drv': 'f',\n",
       "  'cty': '21',\n",
       "  'hwy': '31',\n",
       "  'fl': 'r',\n",
       "  'class': 'midsize'},\n",
       " {'': '183',\n",
       "  'manufacturer': 'toyota',\n",
       "  'model': 'camry',\n",
       "  'displ': '2.4',\n",
       "  'year': '2008',\n",
       "  'cyl': '4',\n",
       "  'trans': 'auto(l5)',\n",
       "  'drv': 'f',\n",
       "  'cty': '21',\n",
       "  'hwy': '31',\n",
       "  'fl': 'r',\n",
       "  'class': 'midsize'},\n",
       " {'': '184',\n",
       "  'manufacturer': 'toyota',\n",
       "  'model': 'camry',\n",
       "  'displ': '3',\n",
       "  'year': '1999',\n",
       "  'cyl': '6',\n",
       "  'trans': 'auto(l4)',\n",
       "  'drv': 'f',\n",
       "  'cty': '18',\n",
       "  'hwy': '26',\n",
       "  'fl': 'r',\n",
       "  'class': 'midsize'},\n",
       " {'': '185',\n",
       "  'manufacturer': 'toyota',\n",
       "  'model': 'camry',\n",
       "  'displ': '3',\n",
       "  'year': '1999',\n",
       "  'cyl': '6',\n",
       "  'trans': 'manual(m5)',\n",
       "  'drv': 'f',\n",
       "  'cty': '18',\n",
       "  'hwy': '26',\n",
       "  'fl': 'r',\n",
       "  'class': 'midsize'},\n",
       " {'': '186',\n",
       "  'manufacturer': 'toyota',\n",
       "  'model': 'camry',\n",
       "  'displ': '3.5',\n",
       "  'year': '2008',\n",
       "  'cyl': '6',\n",
       "  'trans': 'auto(s6)',\n",
       "  'drv': 'f',\n",
       "  'cty': '19',\n",
       "  'hwy': '28',\n",
       "  'fl': 'r',\n",
       "  'class': 'midsize'},\n",
       " {'': '187',\n",
       "  'manufacturer': 'toyota',\n",
       "  'model': 'camry solara',\n",
       "  'displ': '2.2',\n",
       "  'year': '1999',\n",
       "  'cyl': '4',\n",
       "  'trans': 'auto(l4)',\n",
       "  'drv': 'f',\n",
       "  'cty': '21',\n",
       "  'hwy': '27',\n",
       "  'fl': 'r',\n",
       "  'class': 'compact'},\n",
       " {'': '188',\n",
       "  'manufacturer': 'toyota',\n",
       "  'model': 'camry solara',\n",
       "  'displ': '2.2',\n",
       "  'year': '1999',\n",
       "  'cyl': '4',\n",
       "  'trans': 'manual(m5)',\n",
       "  'drv': 'f',\n",
       "  'cty': '21',\n",
       "  'hwy': '29',\n",
       "  'fl': 'r',\n",
       "  'class': 'compact'},\n",
       " {'': '189',\n",
       "  'manufacturer': 'toyota',\n",
       "  'model': 'camry solara',\n",
       "  'displ': '2.4',\n",
       "  'year': '2008',\n",
       "  'cyl': '4',\n",
       "  'trans': 'manual(m5)',\n",
       "  'drv': 'f',\n",
       "  'cty': '21',\n",
       "  'hwy': '31',\n",
       "  'fl': 'r',\n",
       "  'class': 'compact'},\n",
       " {'': '190',\n",
       "  'manufacturer': 'toyota',\n",
       "  'model': 'camry solara',\n",
       "  'displ': '2.4',\n",
       "  'year': '2008',\n",
       "  'cyl': '4',\n",
       "  'trans': 'auto(s5)',\n",
       "  'drv': 'f',\n",
       "  'cty': '22',\n",
       "  'hwy': '31',\n",
       "  'fl': 'r',\n",
       "  'class': 'compact'},\n",
       " {'': '191',\n",
       "  'manufacturer': 'toyota',\n",
       "  'model': 'camry solara',\n",
       "  'displ': '3',\n",
       "  'year': '1999',\n",
       "  'cyl': '6',\n",
       "  'trans': 'auto(l4)',\n",
       "  'drv': 'f',\n",
       "  'cty': '18',\n",
       "  'hwy': '26',\n",
       "  'fl': 'r',\n",
       "  'class': 'compact'},\n",
       " {'': '192',\n",
       "  'manufacturer': 'toyota',\n",
       "  'model': 'camry solara',\n",
       "  'displ': '3',\n",
       "  'year': '1999',\n",
       "  'cyl': '6',\n",
       "  'trans': 'manual(m5)',\n",
       "  'drv': 'f',\n",
       "  'cty': '18',\n",
       "  'hwy': '26',\n",
       "  'fl': 'r',\n",
       "  'class': 'compact'},\n",
       " {'': '193',\n",
       "  'manufacturer': 'toyota',\n",
       "  'model': 'camry solara',\n",
       "  'displ': '3.3',\n",
       "  'year': '2008',\n",
       "  'cyl': '6',\n",
       "  'trans': 'auto(s5)',\n",
       "  'drv': 'f',\n",
       "  'cty': '18',\n",
       "  'hwy': '27',\n",
       "  'fl': 'r',\n",
       "  'class': 'compact'},\n",
       " {'': '194',\n",
       "  'manufacturer': 'toyota',\n",
       "  'model': 'corolla',\n",
       "  'displ': '1.8',\n",
       "  'year': '1999',\n",
       "  'cyl': '4',\n",
       "  'trans': 'auto(l3)',\n",
       "  'drv': 'f',\n",
       "  'cty': '24',\n",
       "  'hwy': '30',\n",
       "  'fl': 'r',\n",
       "  'class': 'compact'},\n",
       " {'': '195',\n",
       "  'manufacturer': 'toyota',\n",
       "  'model': 'corolla',\n",
       "  'displ': '1.8',\n",
       "  'year': '1999',\n",
       "  'cyl': '4',\n",
       "  'trans': 'auto(l4)',\n",
       "  'drv': 'f',\n",
       "  'cty': '24',\n",
       "  'hwy': '33',\n",
       "  'fl': 'r',\n",
       "  'class': 'compact'},\n",
       " {'': '196',\n",
       "  'manufacturer': 'toyota',\n",
       "  'model': 'corolla',\n",
       "  'displ': '1.8',\n",
       "  'year': '1999',\n",
       "  'cyl': '4',\n",
       "  'trans': 'manual(m5)',\n",
       "  'drv': 'f',\n",
       "  'cty': '26',\n",
       "  'hwy': '35',\n",
       "  'fl': 'r',\n",
       "  'class': 'compact'},\n",
       " {'': '197',\n",
       "  'manufacturer': 'toyota',\n",
       "  'model': 'corolla',\n",
       "  'displ': '1.8',\n",
       "  'year': '2008',\n",
       "  'cyl': '4',\n",
       "  'trans': 'manual(m5)',\n",
       "  'drv': 'f',\n",
       "  'cty': '28',\n",
       "  'hwy': '37',\n",
       "  'fl': 'r',\n",
       "  'class': 'compact'},\n",
       " {'': '198',\n",
       "  'manufacturer': 'toyota',\n",
       "  'model': 'corolla',\n",
       "  'displ': '1.8',\n",
       "  'year': '2008',\n",
       "  'cyl': '4',\n",
       "  'trans': 'auto(l4)',\n",
       "  'drv': 'f',\n",
       "  'cty': '26',\n",
       "  'hwy': '35',\n",
       "  'fl': 'r',\n",
       "  'class': 'compact'},\n",
       " {'': '199',\n",
       "  'manufacturer': 'toyota',\n",
       "  'model': 'land cruiser wagon 4wd',\n",
       "  'displ': '4.7',\n",
       "  'year': '1999',\n",
       "  'cyl': '8',\n",
       "  'trans': 'auto(l4)',\n",
       "  'drv': '4',\n",
       "  'cty': '11',\n",
       "  'hwy': '15',\n",
       "  'fl': 'r',\n",
       "  'class': 'suv'},\n",
       " {'': '200',\n",
       "  'manufacturer': 'toyota',\n",
       "  'model': 'land cruiser wagon 4wd',\n",
       "  'displ': '5.7',\n",
       "  'year': '2008',\n",
       "  'cyl': '8',\n",
       "  'trans': 'auto(s6)',\n",
       "  'drv': '4',\n",
       "  'cty': '13',\n",
       "  'hwy': '18',\n",
       "  'fl': 'r',\n",
       "  'class': 'suv'},\n",
       " {'': '201',\n",
       "  'manufacturer': 'toyota',\n",
       "  'model': 'toyota tacoma 4wd',\n",
       "  'displ': '2.7',\n",
       "  'year': '1999',\n",
       "  'cyl': '4',\n",
       "  'trans': 'manual(m5)',\n",
       "  'drv': '4',\n",
       "  'cty': '15',\n",
       "  'hwy': '20',\n",
       "  'fl': 'r',\n",
       "  'class': 'pickup'},\n",
       " {'': '202',\n",
       "  'manufacturer': 'toyota',\n",
       "  'model': 'toyota tacoma 4wd',\n",
       "  'displ': '2.7',\n",
       "  'year': '1999',\n",
       "  'cyl': '4',\n",
       "  'trans': 'auto(l4)',\n",
       "  'drv': '4',\n",
       "  'cty': '16',\n",
       "  'hwy': '20',\n",
       "  'fl': 'r',\n",
       "  'class': 'pickup'},\n",
       " {'': '203',\n",
       "  'manufacturer': 'toyota',\n",
       "  'model': 'toyota tacoma 4wd',\n",
       "  'displ': '2.7',\n",
       "  'year': '2008',\n",
       "  'cyl': '4',\n",
       "  'trans': 'manual(m5)',\n",
       "  'drv': '4',\n",
       "  'cty': '17',\n",
       "  'hwy': '22',\n",
       "  'fl': 'r',\n",
       "  'class': 'pickup'},\n",
       " {'': '204',\n",
       "  'manufacturer': 'toyota',\n",
       "  'model': 'toyota tacoma 4wd',\n",
       "  'displ': '3.4',\n",
       "  'year': '1999',\n",
       "  'cyl': '6',\n",
       "  'trans': 'manual(m5)',\n",
       "  'drv': '4',\n",
       "  'cty': '15',\n",
       "  'hwy': '17',\n",
       "  'fl': 'r',\n",
       "  'class': 'pickup'},\n",
       " {'': '205',\n",
       "  'manufacturer': 'toyota',\n",
       "  'model': 'toyota tacoma 4wd',\n",
       "  'displ': '3.4',\n",
       "  'year': '1999',\n",
       "  'cyl': '6',\n",
       "  'trans': 'auto(l4)',\n",
       "  'drv': '4',\n",
       "  'cty': '15',\n",
       "  'hwy': '19',\n",
       "  'fl': 'r',\n",
       "  'class': 'pickup'},\n",
       " {'': '206',\n",
       "  'manufacturer': 'toyota',\n",
       "  'model': 'toyota tacoma 4wd',\n",
       "  'displ': '4',\n",
       "  'year': '2008',\n",
       "  'cyl': '6',\n",
       "  'trans': 'manual(m6)',\n",
       "  'drv': '4',\n",
       "  'cty': '15',\n",
       "  'hwy': '18',\n",
       "  'fl': 'r',\n",
       "  'class': 'pickup'},\n",
       " {'': '207',\n",
       "  'manufacturer': 'toyota',\n",
       "  'model': 'toyota tacoma 4wd',\n",
       "  'displ': '4',\n",
       "  'year': '2008',\n",
       "  'cyl': '6',\n",
       "  'trans': 'auto(l5)',\n",
       "  'drv': '4',\n",
       "  'cty': '16',\n",
       "  'hwy': '20',\n",
       "  'fl': 'r',\n",
       "  'class': 'pickup'},\n",
       " {'': '208',\n",
       "  'manufacturer': 'volkswagen',\n",
       "  'model': 'gti',\n",
       "  'displ': '2',\n",
       "  'year': '1999',\n",
       "  'cyl': '4',\n",
       "  'trans': 'manual(m5)',\n",
       "  'drv': 'f',\n",
       "  'cty': '21',\n",
       "  'hwy': '29',\n",
       "  'fl': 'r',\n",
       "  'class': 'compact'},\n",
       " {'': '209',\n",
       "  'manufacturer': 'volkswagen',\n",
       "  'model': 'gti',\n",
       "  'displ': '2',\n",
       "  'year': '1999',\n",
       "  'cyl': '4',\n",
       "  'trans': 'auto(l4)',\n",
       "  'drv': 'f',\n",
       "  'cty': '19',\n",
       "  'hwy': '26',\n",
       "  'fl': 'r',\n",
       "  'class': 'compact'},\n",
       " {'': '210',\n",
       "  'manufacturer': 'volkswagen',\n",
       "  'model': 'gti',\n",
       "  'displ': '2',\n",
       "  'year': '2008',\n",
       "  'cyl': '4',\n",
       "  'trans': 'manual(m6)',\n",
       "  'drv': 'f',\n",
       "  'cty': '21',\n",
       "  'hwy': '29',\n",
       "  'fl': 'p',\n",
       "  'class': 'compact'},\n",
       " {'': '211',\n",
       "  'manufacturer': 'volkswagen',\n",
       "  'model': 'gti',\n",
       "  'displ': '2',\n",
       "  'year': '2008',\n",
       "  'cyl': '4',\n",
       "  'trans': 'auto(s6)',\n",
       "  'drv': 'f',\n",
       "  'cty': '22',\n",
       "  'hwy': '29',\n",
       "  'fl': 'p',\n",
       "  'class': 'compact'},\n",
       " {'': '212',\n",
       "  'manufacturer': 'volkswagen',\n",
       "  'model': 'gti',\n",
       "  'displ': '2.8',\n",
       "  'year': '1999',\n",
       "  'cyl': '6',\n",
       "  'trans': 'manual(m5)',\n",
       "  'drv': 'f',\n",
       "  'cty': '17',\n",
       "  'hwy': '24',\n",
       "  'fl': 'r',\n",
       "  'class': 'compact'},\n",
       " {'': '213',\n",
       "  'manufacturer': 'volkswagen',\n",
       "  'model': 'jetta',\n",
       "  'displ': '1.9',\n",
       "  'year': '1999',\n",
       "  'cyl': '4',\n",
       "  'trans': 'manual(m5)',\n",
       "  'drv': 'f',\n",
       "  'cty': '33',\n",
       "  'hwy': '44',\n",
       "  'fl': 'd',\n",
       "  'class': 'compact'},\n",
       " {'': '214',\n",
       "  'manufacturer': 'volkswagen',\n",
       "  'model': 'jetta',\n",
       "  'displ': '2',\n",
       "  'year': '1999',\n",
       "  'cyl': '4',\n",
       "  'trans': 'manual(m5)',\n",
       "  'drv': 'f',\n",
       "  'cty': '21',\n",
       "  'hwy': '29',\n",
       "  'fl': 'r',\n",
       "  'class': 'compact'},\n",
       " {'': '215',\n",
       "  'manufacturer': 'volkswagen',\n",
       "  'model': 'jetta',\n",
       "  'displ': '2',\n",
       "  'year': '1999',\n",
       "  'cyl': '4',\n",
       "  'trans': 'auto(l4)',\n",
       "  'drv': 'f',\n",
       "  'cty': '19',\n",
       "  'hwy': '26',\n",
       "  'fl': 'r',\n",
       "  'class': 'compact'},\n",
       " {'': '216',\n",
       "  'manufacturer': 'volkswagen',\n",
       "  'model': 'jetta',\n",
       "  'displ': '2',\n",
       "  'year': '2008',\n",
       "  'cyl': '4',\n",
       "  'trans': 'auto(s6)',\n",
       "  'drv': 'f',\n",
       "  'cty': '22',\n",
       "  'hwy': '29',\n",
       "  'fl': 'p',\n",
       "  'class': 'compact'},\n",
       " {'': '217',\n",
       "  'manufacturer': 'volkswagen',\n",
       "  'model': 'jetta',\n",
       "  'displ': '2',\n",
       "  'year': '2008',\n",
       "  'cyl': '4',\n",
       "  'trans': 'manual(m6)',\n",
       "  'drv': 'f',\n",
       "  'cty': '21',\n",
       "  'hwy': '29',\n",
       "  'fl': 'p',\n",
       "  'class': 'compact'},\n",
       " {'': '218',\n",
       "  'manufacturer': 'volkswagen',\n",
       "  'model': 'jetta',\n",
       "  'displ': '2.5',\n",
       "  'year': '2008',\n",
       "  'cyl': '5',\n",
       "  'trans': 'auto(s6)',\n",
       "  'drv': 'f',\n",
       "  'cty': '21',\n",
       "  'hwy': '29',\n",
       "  'fl': 'r',\n",
       "  'class': 'compact'},\n",
       " {'': '219',\n",
       "  'manufacturer': 'volkswagen',\n",
       "  'model': 'jetta',\n",
       "  'displ': '2.5',\n",
       "  'year': '2008',\n",
       "  'cyl': '5',\n",
       "  'trans': 'manual(m5)',\n",
       "  'drv': 'f',\n",
       "  'cty': '21',\n",
       "  'hwy': '29',\n",
       "  'fl': 'r',\n",
       "  'class': 'compact'},\n",
       " {'': '220',\n",
       "  'manufacturer': 'volkswagen',\n",
       "  'model': 'jetta',\n",
       "  'displ': '2.8',\n",
       "  'year': '1999',\n",
       "  'cyl': '6',\n",
       "  'trans': 'auto(l4)',\n",
       "  'drv': 'f',\n",
       "  'cty': '16',\n",
       "  'hwy': '23',\n",
       "  'fl': 'r',\n",
       "  'class': 'compact'},\n",
       " {'': '221',\n",
       "  'manufacturer': 'volkswagen',\n",
       "  'model': 'jetta',\n",
       "  'displ': '2.8',\n",
       "  'year': '1999',\n",
       "  'cyl': '6',\n",
       "  'trans': 'manual(m5)',\n",
       "  'drv': 'f',\n",
       "  'cty': '17',\n",
       "  'hwy': '24',\n",
       "  'fl': 'r',\n",
       "  'class': 'compact'},\n",
       " {'': '222',\n",
       "  'manufacturer': 'volkswagen',\n",
       "  'model': 'new beetle',\n",
       "  'displ': '1.9',\n",
       "  'year': '1999',\n",
       "  'cyl': '4',\n",
       "  'trans': 'manual(m5)',\n",
       "  'drv': 'f',\n",
       "  'cty': '35',\n",
       "  'hwy': '44',\n",
       "  'fl': 'd',\n",
       "  'class': 'subcompact'},\n",
       " {'': '223',\n",
       "  'manufacturer': 'volkswagen',\n",
       "  'model': 'new beetle',\n",
       "  'displ': '1.9',\n",
       "  'year': '1999',\n",
       "  'cyl': '4',\n",
       "  'trans': 'auto(l4)',\n",
       "  'drv': 'f',\n",
       "  'cty': '29',\n",
       "  'hwy': '41',\n",
       "  'fl': 'd',\n",
       "  'class': 'subcompact'},\n",
       " {'': '224',\n",
       "  'manufacturer': 'volkswagen',\n",
       "  'model': 'new beetle',\n",
       "  'displ': '2',\n",
       "  'year': '1999',\n",
       "  'cyl': '4',\n",
       "  'trans': 'manual(m5)',\n",
       "  'drv': 'f',\n",
       "  'cty': '21',\n",
       "  'hwy': '29',\n",
       "  'fl': 'r',\n",
       "  'class': 'subcompact'},\n",
       " {'': '225',\n",
       "  'manufacturer': 'volkswagen',\n",
       "  'model': 'new beetle',\n",
       "  'displ': '2',\n",
       "  'year': '1999',\n",
       "  'cyl': '4',\n",
       "  'trans': 'auto(l4)',\n",
       "  'drv': 'f',\n",
       "  'cty': '19',\n",
       "  'hwy': '26',\n",
       "  'fl': 'r',\n",
       "  'class': 'subcompact'},\n",
       " {'': '226',\n",
       "  'manufacturer': 'volkswagen',\n",
       "  'model': 'new beetle',\n",
       "  'displ': '2.5',\n",
       "  'year': '2008',\n",
       "  'cyl': '5',\n",
       "  'trans': 'manual(m5)',\n",
       "  'drv': 'f',\n",
       "  'cty': '20',\n",
       "  'hwy': '28',\n",
       "  'fl': 'r',\n",
       "  'class': 'subcompact'},\n",
       " {'': '227',\n",
       "  'manufacturer': 'volkswagen',\n",
       "  'model': 'new beetle',\n",
       "  'displ': '2.5',\n",
       "  'year': '2008',\n",
       "  'cyl': '5',\n",
       "  'trans': 'auto(s6)',\n",
       "  'drv': 'f',\n",
       "  'cty': '20',\n",
       "  'hwy': '29',\n",
       "  'fl': 'r',\n",
       "  'class': 'subcompact'},\n",
       " {'': '228',\n",
       "  'manufacturer': 'volkswagen',\n",
       "  'model': 'passat',\n",
       "  'displ': '1.8',\n",
       "  'year': '1999',\n",
       "  'cyl': '4',\n",
       "  'trans': 'manual(m5)',\n",
       "  'drv': 'f',\n",
       "  'cty': '21',\n",
       "  'hwy': '29',\n",
       "  'fl': 'p',\n",
       "  'class': 'midsize'},\n",
       " {'': '229',\n",
       "  'manufacturer': 'volkswagen',\n",
       "  'model': 'passat',\n",
       "  'displ': '1.8',\n",
       "  'year': '1999',\n",
       "  'cyl': '4',\n",
       "  'trans': 'auto(l5)',\n",
       "  'drv': 'f',\n",
       "  'cty': '18',\n",
       "  'hwy': '29',\n",
       "  'fl': 'p',\n",
       "  'class': 'midsize'},\n",
       " {'': '230',\n",
       "  'manufacturer': 'volkswagen',\n",
       "  'model': 'passat',\n",
       "  'displ': '2',\n",
       "  'year': '2008',\n",
       "  'cyl': '4',\n",
       "  'trans': 'auto(s6)',\n",
       "  'drv': 'f',\n",
       "  'cty': '19',\n",
       "  'hwy': '28',\n",
       "  'fl': 'p',\n",
       "  'class': 'midsize'},\n",
       " {'': '231',\n",
       "  'manufacturer': 'volkswagen',\n",
       "  'model': 'passat',\n",
       "  'displ': '2',\n",
       "  'year': '2008',\n",
       "  'cyl': '4',\n",
       "  'trans': 'manual(m6)',\n",
       "  'drv': 'f',\n",
       "  'cty': '21',\n",
       "  'hwy': '29',\n",
       "  'fl': 'p',\n",
       "  'class': 'midsize'},\n",
       " {'': '232',\n",
       "  'manufacturer': 'volkswagen',\n",
       "  'model': 'passat',\n",
       "  'displ': '2.8',\n",
       "  'year': '1999',\n",
       "  'cyl': '6',\n",
       "  'trans': 'auto(l5)',\n",
       "  'drv': 'f',\n",
       "  'cty': '16',\n",
       "  'hwy': '26',\n",
       "  'fl': 'p',\n",
       "  'class': 'midsize'},\n",
       " {'': '233',\n",
       "  'manufacturer': 'volkswagen',\n",
       "  'model': 'passat',\n",
       "  'displ': '2.8',\n",
       "  'year': '1999',\n",
       "  'cyl': '6',\n",
       "  'trans': 'manual(m5)',\n",
       "  'drv': 'f',\n",
       "  'cty': '18',\n",
       "  'hwy': '26',\n",
       "  'fl': 'p',\n",
       "  'class': 'midsize'},\n",
       " {'': '234',\n",
       "  'manufacturer': 'volkswagen',\n",
       "  'model': 'passat',\n",
       "  'displ': '3.6',\n",
       "  'year': '2008',\n",
       "  'cyl': '6',\n",
       "  'trans': 'auto(s6)',\n",
       "  'drv': 'f',\n",
       "  'cty': '17',\n",
       "  'hwy': '26',\n",
       "  'fl': 'p',\n",
       "  'class': 'midsize'}]"
      ]
     },
     "execution_count": 56,
     "metadata": {},
     "output_type": "execute_result"
    }
   ],
   "source": [
    "mpg"
   ]
  },
  {
   "cell_type": "markdown",
   "metadata": {},
   "source": [
    "`csv.Dictreader` has read in each row of our csv file as a dictionary. `len` shows that our list is comprised of 234 dictionaries."
   ]
  },
  {
   "cell_type": "code",
   "execution_count": null,
   "metadata": {},
   "outputs": [],
   "source": []
  },
  {
   "cell_type": "markdown",
   "metadata": {},
   "source": [
    "`keys` gives us the column names of our csv."
   ]
  },
  {
   "cell_type": "code",
   "execution_count": null,
   "metadata": {},
   "outputs": [],
   "source": []
  },
  {
   "cell_type": "markdown",
   "metadata": {},
   "source": [
    "This is how to find the average cty fuel economy across all cars. All values in the dictionaries are strings, so we need to convert to float."
   ]
  },
  {
   "cell_type": "code",
   "execution_count": null,
   "metadata": {},
   "outputs": [],
   "source": []
  },
  {
   "cell_type": "markdown",
   "metadata": {},
   "source": [
    "Similarly this is how to find the average hwy fuel economy across all cars."
   ]
  },
  {
   "cell_type": "code",
   "execution_count": null,
   "metadata": {},
   "outputs": [],
   "source": []
  },
  {
   "cell_type": "markdown",
   "metadata": {},
   "source": [
    "\n",
    "Use `set` to return the unique values for the number of cylinders the cars in our dataset have."
   ]
  },
  {
   "cell_type": "code",
   "execution_count": null,
   "metadata": {},
   "outputs": [],
   "source": []
  },
  {
   "cell_type": "markdown",
   "metadata": {},
   "source": [
    "Here's a more complex example where we are grouping the cars by number of cylinder, and finding the average cty mpg for each group."
   ]
  },
  {
   "cell_type": "code",
   "execution_count": null,
   "metadata": {},
   "outputs": [],
   "source": [
    "CtyMpgByCyl = []\n",
    "\n",
    "for c in cylinders: # iterate over all the cylinder levels\n",
    "    summpg = 0\n",
    "    cyltypecount = 0\n",
    "    for d in mpg: # iterate over all dictionaries\n",
    "        if d['cyl'] == c: # if the cylinder level type matches,\n",
    "            summpg += float(d['cty']) # add the cty mpg\n",
    "            cyltypecount += 1 # increment the count\n",
    "    CtyMpgByCyl.append((c, summpg / cyltypecount)) # append the tuple ('cylinder', 'avg mpg')\n",
    "\n",
    "#CtyMpgByCyl.sort(key=lambda x: x[0])\n",
    "CtyMpgByCyl"
   ]
  },
  {
   "cell_type": "code",
   "execution_count": null,
   "metadata": {},
   "outputs": [],
   "source": [
    "vehicleclass = set([row['class'] for row in mpg])\n",
    "vehicleclass"
   ]
  },
  {
   "cell_type": "markdown",
   "metadata": {},
   "source": [
    "And here's an example of how to find the average hwy mpg for each class of vehicle in our dataset."
   ]
  },
  {
   "cell_type": "code",
   "execution_count": null,
   "metadata": {},
   "outputs": [],
   "source": [
    "HwyMpgByClass = []\n",
    "\n",
    "for t in vehicleclass: # iterate over all the vehicle classes\n",
    "    summpg = 0\n",
    "    vclasscount = 0\n",
    "    for d in mpg: # iterate over all dictionaries\n",
    "        if d['class'] == t: # if the cylinder amount type matches,\n",
    "            summpg += float(d['hwy']) # add the hwy mpg\n",
    "            vclasscount += 1 # increment the count\n",
    "    HwyMpgByClass.append((t, summpg / vclasscount)) # append the tuple ('class', 'avg mpg')\n",
    "\n",
    "HwyMpgByClass.sort(key=lambda x: x[1])\n",
    "HwyMpgByClass"
   ]
  },
  {
   "cell_type": "markdown",
   "metadata": {},
   "source": [
    "# The Python Programming Language: Dates and Times"
   ]
  },
  {
   "cell_type": "code",
   "execution_count": null,
   "metadata": {},
   "outputs": [],
   "source": [
    "import datetime as dt\n",
    "import time as tm"
   ]
  },
  {
   "cell_type": "markdown",
   "metadata": {},
   "source": [
    "`time` returns the current time in seconds since the Epoch. (January 1st, 1970)"
   ]
  },
  {
   "cell_type": "code",
   "execution_count": null,
   "metadata": {},
   "outputs": [],
   "source": []
  },
  {
   "cell_type": "markdown",
   "metadata": {},
   "source": [
    "Convert the timestamp to datetime."
   ]
  },
  {
   "cell_type": "code",
   "execution_count": null,
   "metadata": {},
   "outputs": [],
   "source": []
  },
  {
   "cell_type": "markdown",
   "metadata": {},
   "source": [
    "Handy datetime attributes:"
   ]
  },
  {
   "cell_type": "code",
   "execution_count": null,
   "metadata": {},
   "outputs": [],
   "source": []
  },
  {
   "cell_type": "markdown",
   "metadata": {},
   "source": [
    "`timedelta` is a duration expressing the difference between two dates."
   ]
  },
  {
   "cell_type": "code",
   "execution_count": null,
   "metadata": {},
   "outputs": [],
   "source": []
  },
  {
   "cell_type": "markdown",
   "metadata": {},
   "source": [
    "`date.today` returns the current local date."
   ]
  },
  {
   "cell_type": "code",
   "execution_count": null,
   "metadata": {},
   "outputs": [],
   "source": []
  },
  {
   "cell_type": "markdown",
   "metadata": {},
   "source": [
    "\n",
    "# The Python Programming Language: Objects and map()"
   ]
  },
  {
   "cell_type": "markdown",
   "metadata": {},
   "source": [
    "An example of a class in python:"
   ]
  },
  {
   "cell_type": "code",
   "execution_count": null,
   "metadata": {},
   "outputs": [],
   "source": [
    "class Person:\n",
    "    department = \"School\"\n",
    "    \n",
    "    def set_name(self, new_name):\n",
    "        self.name = new_name\n",
    "    def say_name(self):\n",
    "        print(self.name)"
   ]
  },
  {
   "cell_type": "code",
   "execution_count": 1,
   "metadata": {},
   "outputs": [
    {
     "data": {
      "text/plain": [
       "7"
      ]
     },
     "execution_count": 1,
     "metadata": {},
     "output_type": "execute_result"
    }
   ],
   "source": [
    "def add(x,y):\n",
    "    return x+y\n",
    "add(3,4)"
   ]
  },
  {
   "cell_type": "code",
   "execution_count": 3,
   "metadata": {},
   "outputs": [
    {
     "data": {
      "text/plain": [
       "9"
      ]
     },
     "execution_count": 3,
     "metadata": {},
     "output_type": "execute_result"
    }
   ],
   "source": [
    "lambda_add = lambda x,y: x+y\n",
    "\n",
    "lambda_add(3,6)"
   ]
  },
  {
   "cell_type": "code",
   "execution_count": 4,
   "metadata": {},
   "outputs": [
    {
     "data": {
      "text/plain": [
       "1"
      ]
     },
     "execution_count": 4,
     "metadata": {},
     "output_type": "execute_result"
    }
   ],
   "source": [
    "items = ['a', 'b', 'c']\n",
    "len(items[0])"
   ]
  },
  {
   "cell_type": "code",
   "execution_count": 5,
   "metadata": {},
   "outputs": [
    {
     "data": {
      "text/plain": [
       "2"
      ]
     },
     "execution_count": 5,
     "metadata": {},
     "output_type": "execute_result"
    }
   ],
   "source": [
    "min(2,3)"
   ]
  },
  {
   "cell_type": "markdown",
   "metadata": {},
   "source": [
    "Here's an example of mapping the `min` function between two lists."
   ]
  },
  {
   "cell_type": "code",
   "execution_count": 9,
   "metadata": {},
   "outputs": [
    {
     "name": "stdout",
     "output_type": "stream",
     "text": [
      "11\n",
      "22\n",
      "13\n"
     ]
    }
   ],
   "source": [
    "price = [10,12,13,14]\n",
    "price2 = [11,22,9]\n",
    "\n",
    "cheapest = map(max, price, price2)\n",
    "\n",
    "for item in cheapest:\n",
    "    print(item)"
   ]
  },
  {
   "cell_type": "markdown",
   "metadata": {},
   "source": [
    "Now let's iterate through the map object to see the values."
   ]
  },
  {
   "cell_type": "code",
   "execution_count": null,
   "metadata": {},
   "outputs": [],
   "source": []
  },
  {
   "cell_type": "markdown",
   "metadata": {},
   "source": [
    "# The Python Programming Language: Lambda and List Comprehensions"
   ]
  },
  {
   "cell_type": "markdown",
   "metadata": {},
   "source": [
    "Here's an example of lambda that takes in three parameters and adds the first two."
   ]
  },
  {
   "cell_type": "code",
   "execution_count": 14,
   "metadata": {},
   "outputs": [
    {
     "data": {
      "text/plain": [
       "[0, 2, 4, 6, 8]"
      ]
     },
     "execution_count": 14,
     "metadata": {},
     "output_type": "execute_result"
    }
   ],
   "source": [
    "is_even = lambda x: x % 2 == 0\n",
    "\n",
    "[x for x in filter(is_even, range(0,10))]"
   ]
  },
  {
   "cell_type": "markdown",
   "metadata": {},
   "source": [
    "Let's iterate from 0 to 999 and return the even numbers."
   ]
  },
  {
   "cell_type": "code",
   "execution_count": null,
   "metadata": {},
   "outputs": [],
   "source": []
  },
  {
   "cell_type": "markdown",
   "metadata": {},
   "source": [
    "Now the same thing but with list comprehension."
   ]
  },
  {
   "cell_type": "code",
   "execution_count": null,
   "metadata": {},
   "outputs": [],
   "source": []
  },
  {
   "cell_type": "markdown",
   "metadata": {
    "collapsed": true
   },
   "source": [
    "# The Python Programming Language: Numerical Python (NumPy)"
   ]
  },
  {
   "cell_type": "code",
   "execution_count": null,
   "metadata": {},
   "outputs": [],
   "source": [
    "import numpy as np"
   ]
  },
  {
   "cell_type": "markdown",
   "metadata": {},
   "source": [
    "## Creating Arrays"
   ]
  },
  {
   "cell_type": "markdown",
   "metadata": {},
   "source": [
    "Create a list and convert it to a numpy array"
   ]
  },
  {
   "cell_type": "code",
   "execution_count": null,
   "metadata": {},
   "outputs": [],
   "source": []
  },
  {
   "cell_type": "markdown",
   "metadata": {},
   "source": [
    "Or just pass in a list directly"
   ]
  },
  {
   "cell_type": "code",
   "execution_count": null,
   "metadata": {},
   "outputs": [],
   "source": []
  },
  {
   "cell_type": "markdown",
   "metadata": {},
   "source": [
    "Pass in a list of lists to create a multidimensional array."
   ]
  },
  {
   "cell_type": "code",
   "execution_count": null,
   "metadata": {},
   "outputs": [],
   "source": []
  },
  {
   "cell_type": "markdown",
   "metadata": {},
   "source": [
    "Use the shape method to find the dimensions of the array. (rows, columns)"
   ]
  },
  {
   "cell_type": "code",
   "execution_count": null,
   "metadata": {},
   "outputs": [],
   "source": []
  },
  {
   "cell_type": "markdown",
   "metadata": {},
   "source": [
    "`arange` returns evenly spaced values within a given interval."
   ]
  },
  {
   "cell_type": "code",
   "execution_count": null,
   "metadata": {},
   "outputs": [],
   "source": []
  },
  {
   "cell_type": "markdown",
   "metadata": {},
   "source": [
    "`reshape` returns an array with the same data with a new shape."
   ]
  },
  {
   "cell_type": "code",
   "execution_count": null,
   "metadata": {},
   "outputs": [],
   "source": []
  },
  {
   "cell_type": "markdown",
   "metadata": {},
   "source": [
    "`linspace` returns evenly spaced numbers over a specified interval."
   ]
  },
  {
   "cell_type": "code",
   "execution_count": null,
   "metadata": {},
   "outputs": [],
   "source": []
  },
  {
   "cell_type": "markdown",
   "metadata": {},
   "source": [
    "`resize` changes the shape and size of array in-place."
   ]
  },
  {
   "cell_type": "code",
   "execution_count": null,
   "metadata": {},
   "outputs": [],
   "source": []
  },
  {
   "cell_type": "markdown",
   "metadata": {},
   "source": [
    "`ones` returns a new array of given shape and type, filled with ones."
   ]
  },
  {
   "cell_type": "code",
   "execution_count": null,
   "metadata": {},
   "outputs": [],
   "source": []
  },
  {
   "cell_type": "markdown",
   "metadata": {},
   "source": [
    "`zeros` returns a new array of given shape and type, filled with zeros."
   ]
  },
  {
   "cell_type": "code",
   "execution_count": null,
   "metadata": {},
   "outputs": [],
   "source": []
  },
  {
   "cell_type": "markdown",
   "metadata": {},
   "source": [
    "`eye` returns a 2-D array with ones on the diagonal and zeros elsewhere."
   ]
  },
  {
   "cell_type": "code",
   "execution_count": null,
   "metadata": {},
   "outputs": [],
   "source": []
  },
  {
   "cell_type": "markdown",
   "metadata": {},
   "source": [
    "`diag` extracts a diagonal or constructs a diagonal array."
   ]
  },
  {
   "cell_type": "code",
   "execution_count": null,
   "metadata": {},
   "outputs": [],
   "source": []
  },
  {
   "cell_type": "markdown",
   "metadata": {},
   "source": [
    "Create an array using repeating list (or see `np.tile`)"
   ]
  },
  {
   "cell_type": "code",
   "execution_count": null,
   "metadata": {},
   "outputs": [],
   "source": []
  },
  {
   "cell_type": "markdown",
   "metadata": {},
   "source": [
    "Repeat elements of an array using `repeat`."
   ]
  },
  {
   "cell_type": "code",
   "execution_count": null,
   "metadata": {},
   "outputs": [],
   "source": []
  },
  {
   "cell_type": "markdown",
   "metadata": {},
   "source": [
    "#### Combining Arrays"
   ]
  },
  {
   "cell_type": "code",
   "execution_count": null,
   "metadata": {},
   "outputs": [],
   "source": []
  },
  {
   "cell_type": "markdown",
   "metadata": {},
   "source": [
    "Use `vstack` to stack arrays in sequence vertically (row wise)."
   ]
  },
  {
   "cell_type": "code",
   "execution_count": null,
   "metadata": {},
   "outputs": [],
   "source": []
  },
  {
   "cell_type": "markdown",
   "metadata": {},
   "source": [
    "Use `hstack` to stack arrays in sequence horizontally (column wise)."
   ]
  },
  {
   "cell_type": "code",
   "execution_count": null,
   "metadata": {},
   "outputs": [],
   "source": []
  },
  {
   "cell_type": "markdown",
   "metadata": {},
   "source": [
    "## Operations"
   ]
  },
  {
   "cell_type": "markdown",
   "metadata": {},
   "source": [
    "Use `+`, `-`, `*`, `/` and `**` to perform element wise addition, subtraction, multiplication, division and power."
   ]
  },
  {
   "cell_type": "code",
   "execution_count": null,
   "metadata": {},
   "outputs": [],
   "source": []
  },
  {
   "cell_type": "markdown",
   "metadata": {},
   "source": [
    "**Dot Product:**  \n",
    "\n",
    "$ \\begin{bmatrix}x_1 \\ x_2 \\ x_3\\end{bmatrix}\n",
    "\\cdot\n",
    "\\begin{bmatrix}y_1 \\\\ y_2 \\\\ y_3\\end{bmatrix}\n",
    "= x_1 y_1 + x_2 y_2 + x_3 y_3$"
   ]
  },
  {
   "cell_type": "code",
   "execution_count": null,
   "metadata": {},
   "outputs": [],
   "source": []
  },
  {
   "cell_type": "markdown",
   "metadata": {},
   "source": [
    "Let's look at transposing arrays. Transposing permutes the dimensions of the array."
   ]
  },
  {
   "cell_type": "code",
   "execution_count": null,
   "metadata": {},
   "outputs": [],
   "source": []
  },
  {
   "cell_type": "markdown",
   "metadata": {},
   "source": [
    "The shape of array `z` is `(2,3)` before transposing."
   ]
  },
  {
   "cell_type": "code",
   "execution_count": null,
   "metadata": {},
   "outputs": [],
   "source": []
  },
  {
   "cell_type": "markdown",
   "metadata": {},
   "source": [
    "Use `.T` to get the transpose."
   ]
  },
  {
   "cell_type": "code",
   "execution_count": null,
   "metadata": {},
   "outputs": [],
   "source": []
  },
  {
   "cell_type": "markdown",
   "metadata": {},
   "source": [
    "\n",
    "The number of rows has swapped with the number of columns."
   ]
  },
  {
   "cell_type": "code",
   "execution_count": null,
   "metadata": {},
   "outputs": [],
   "source": []
  },
  {
   "cell_type": "markdown",
   "metadata": {},
   "source": [
    "Use `.dtype` to see the data type of the elements in the array."
   ]
  },
  {
   "cell_type": "code",
   "execution_count": null,
   "metadata": {},
   "outputs": [],
   "source": []
  },
  {
   "cell_type": "markdown",
   "metadata": {},
   "source": [
    "Use `.astype` to cast to a specific type."
   ]
  },
  {
   "cell_type": "code",
   "execution_count": null,
   "metadata": {},
   "outputs": [],
   "source": []
  },
  {
   "cell_type": "markdown",
   "metadata": {},
   "source": [
    "## Math Functions"
   ]
  },
  {
   "cell_type": "markdown",
   "metadata": {},
   "source": [
    "Numpy has many built in math functions that can be performed on arrays."
   ]
  },
  {
   "cell_type": "code",
   "execution_count": null,
   "metadata": {},
   "outputs": [],
   "source": []
  },
  {
   "cell_type": "markdown",
   "metadata": {},
   "source": [
    "Sum"
   ]
  },
  {
   "cell_type": "code",
   "execution_count": null,
   "metadata": {},
   "outputs": [],
   "source": []
  },
  {
   "cell_type": "markdown",
   "metadata": {},
   "source": [
    "Max"
   ]
  },
  {
   "cell_type": "code",
   "execution_count": null,
   "metadata": {},
   "outputs": [],
   "source": []
  },
  {
   "cell_type": "markdown",
   "metadata": {},
   "source": [
    "Min"
   ]
  },
  {
   "cell_type": "code",
   "execution_count": null,
   "metadata": {},
   "outputs": [],
   "source": []
  },
  {
   "cell_type": "markdown",
   "metadata": {},
   "source": [
    "Mean"
   ]
  },
  {
   "cell_type": "code",
   "execution_count": null,
   "metadata": {},
   "outputs": [],
   "source": []
  },
  {
   "cell_type": "markdown",
   "metadata": {},
   "source": [
    "Std"
   ]
  },
  {
   "cell_type": "code",
   "execution_count": null,
   "metadata": {},
   "outputs": [],
   "source": []
  },
  {
   "cell_type": "markdown",
   "metadata": {},
   "source": [
    "`argmax` and `argmin` return the index of the maximum and minimum values in the array."
   ]
  },
  {
   "cell_type": "markdown",
   "metadata": {
    "collapsed": true
   },
   "source": [
    "argmax()"
   ]
  },
  {
   "cell_type": "code",
   "execution_count": null,
   "metadata": {},
   "outputs": [],
   "source": []
  },
  {
   "cell_type": "markdown",
   "metadata": {
    "collapsed": true
   },
   "source": [
    "a.argmin()"
   ]
  },
  {
   "cell_type": "code",
   "execution_count": null,
   "metadata": {},
   "outputs": [],
   "source": []
  },
  {
   "cell_type": "markdown",
   "metadata": {},
   "source": [
    "## Indexing / Slicing"
   ]
  },
  {
   "cell_type": "code",
   "execution_count": null,
   "metadata": {},
   "outputs": [],
   "source": []
  },
  {
   "cell_type": "markdown",
   "metadata": {},
   "source": [
    "Use bracket notation to get the value at a specific index. Remember that indexing starts at 0."
   ]
  },
  {
   "cell_type": "code",
   "execution_count": null,
   "metadata": {},
   "outputs": [],
   "source": []
  },
  {
   "cell_type": "markdown",
   "metadata": {},
   "source": [
    "Use `:` to indicate a range. `array[start:stop]`\n",
    "\n",
    "\n",
    "Leaving `start` or `stop` empty will default to the beginning/end of the array."
   ]
  },
  {
   "cell_type": "code",
   "execution_count": null,
   "metadata": {},
   "outputs": [],
   "source": []
  },
  {
   "cell_type": "markdown",
   "metadata": {},
   "source": [
    "Use negatives to count from the back."
   ]
  },
  {
   "cell_type": "code",
   "execution_count": null,
   "metadata": {},
   "outputs": [],
   "source": []
  },
  {
   "cell_type": "markdown",
   "metadata": {},
   "source": [
    "A second `:` can be used to indicate step-size. `array[start:stop:stepsize]`\n",
    "\n",
    "Here we are starting 5th element from the end, and counting backwards by 2 until the beginning of the array is reached."
   ]
  },
  {
   "cell_type": "code",
   "execution_count": null,
   "metadata": {},
   "outputs": [],
   "source": []
  },
  {
   "cell_type": "markdown",
   "metadata": {},
   "source": [
    "Let's look at a multidimensional array."
   ]
  },
  {
   "cell_type": "code",
   "execution_count": null,
   "metadata": {},
   "outputs": [],
   "source": []
  },
  {
   "cell_type": "markdown",
   "metadata": {},
   "source": [
    "Use bracket notation to slice: `array[row, column]`"
   ]
  },
  {
   "cell_type": "code",
   "execution_count": null,
   "metadata": {},
   "outputs": [],
   "source": []
  },
  {
   "cell_type": "markdown",
   "metadata": {},
   "source": [
    "And use : to select a range of rows or columns"
   ]
  },
  {
   "cell_type": "code",
   "execution_count": null,
   "metadata": {},
   "outputs": [],
   "source": []
  },
  {
   "cell_type": "markdown",
   "metadata": {},
   "source": [
    "Here we are selecting all the rows up to (and not including) row 2, and all the columns up to (and not including) the last column."
   ]
  },
  {
   "cell_type": "code",
   "execution_count": null,
   "metadata": {},
   "outputs": [],
   "source": []
  },
  {
   "cell_type": "markdown",
   "metadata": {},
   "source": [
    "This is a slice of the last row, and only every other element."
   ]
  },
  {
   "cell_type": "code",
   "execution_count": null,
   "metadata": {},
   "outputs": [],
   "source": []
  },
  {
   "cell_type": "markdown",
   "metadata": {},
   "source": [
    "We can also perform conditional indexing. Here we are selecting values from the array that are greater than 30. (Also see `np.where`)"
   ]
  },
  {
   "cell_type": "code",
   "execution_count": null,
   "metadata": {},
   "outputs": [],
   "source": []
  },
  {
   "cell_type": "markdown",
   "metadata": {},
   "source": [
    "Here we are assigning all values in the array that are greater than 30 to the value of 30."
   ]
  },
  {
   "cell_type": "code",
   "execution_count": null,
   "metadata": {},
   "outputs": [],
   "source": [
    "r[r>30] = 100"
   ]
  },
  {
   "cell_type": "code",
   "execution_count": null,
   "metadata": {},
   "outputs": [],
   "source": [
    "r"
   ]
  },
  {
   "cell_type": "markdown",
   "metadata": {},
   "source": [
    "## Copying Data"
   ]
  },
  {
   "cell_type": "markdown",
   "metadata": {},
   "source": [
    "Be careful with copying and modifying arrays in NumPy!\n",
    "\n",
    "\n",
    "`r2` is a slice of `r`"
   ]
  },
  {
   "cell_type": "code",
   "execution_count": null,
   "metadata": {},
   "outputs": [],
   "source": []
  },
  {
   "cell_type": "code",
   "execution_count": null,
   "metadata": {},
   "outputs": [],
   "source": [
    "# r2 = 0"
   ]
  },
  {
   "cell_type": "markdown",
   "metadata": {},
   "source": [
    "Set this slice's values to zero ([:] selects the entire array)"
   ]
  },
  {
   "cell_type": "code",
   "execution_count": null,
   "metadata": {},
   "outputs": [],
   "source": []
  },
  {
   "cell_type": "markdown",
   "metadata": {},
   "source": [
    "`r` has also been changed!"
   ]
  },
  {
   "cell_type": "code",
   "execution_count": null,
   "metadata": {},
   "outputs": [],
   "source": []
  },
  {
   "cell_type": "markdown",
   "metadata": {},
   "source": [
    "To avoid this, use `r.copy` to create a copy that will not affect the original array"
   ]
  },
  {
   "cell_type": "code",
   "execution_count": null,
   "metadata": {},
   "outputs": [],
   "source": []
  },
  {
   "cell_type": "markdown",
   "metadata": {},
   "source": [
    "Now when r_copy is modified, r will not be changed."
   ]
  },
  {
   "cell_type": "code",
   "execution_count": null,
   "metadata": {},
   "outputs": [],
   "source": []
  },
  {
   "cell_type": "markdown",
   "metadata": {},
   "source": [
    "### Iterating Over Arrays"
   ]
  },
  {
   "cell_type": "markdown",
   "metadata": {},
   "source": [
    "Let's create a new 4 by 3 array of random numbers 0-9."
   ]
  },
  {
   "cell_type": "code",
   "execution_count": null,
   "metadata": {},
   "outputs": [],
   "source": []
  },
  {
   "cell_type": "markdown",
   "metadata": {},
   "source": [
    "\n",
    "Iterate by row:"
   ]
  },
  {
   "cell_type": "code",
   "execution_count": null,
   "metadata": {},
   "outputs": [],
   "source": []
  },
  {
   "cell_type": "markdown",
   "metadata": {},
   "source": [
    "\n",
    "Iterate by index:"
   ]
  },
  {
   "cell_type": "code",
   "execution_count": null,
   "metadata": {},
   "outputs": [],
   "source": []
  },
  {
   "cell_type": "markdown",
   "metadata": {},
   "source": [
    "Iterate by row and index:"
   ]
  },
  {
   "cell_type": "code",
   "execution_count": null,
   "metadata": {},
   "outputs": [],
   "source": []
  },
  {
   "cell_type": "markdown",
   "metadata": {},
   "source": [
    "Use `zip` to iterate over multiple iterables."
   ]
  },
  {
   "cell_type": "code",
   "execution_count": null,
   "metadata": {},
   "outputs": [],
   "source": []
  }
 ],
 "metadata": {
  "kernelspec": {
   "display_name": "Python 3 (ipykernel)",
   "language": "python",
   "name": "python3"
  },
  "language_info": {
   "codemirror_mode": {
    "name": "ipython",
    "version": 3
   },
   "file_extension": ".py",
   "mimetype": "text/x-python",
   "name": "python",
   "nbconvert_exporter": "python",
   "pygments_lexer": "ipython3",
   "version": "3.9.12"
  }
 },
 "nbformat": 4,
 "nbformat_minor": 1
}
