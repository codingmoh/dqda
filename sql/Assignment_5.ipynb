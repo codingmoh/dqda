{
 "nbformat": 4,
 "nbformat_minor": 0,
 "metadata": {
  "colab": {
   "name": "Assignment-5.ipynb",
   "provenance": [],
   "collapsed_sections": []
  },
  "kernelspec": {
   "name": "python3",
   "display_name": "Python 3"
  }
 },
 "cells": [
  {
   "cell_type": "markdown",
   "metadata": {
    "id": "ilI5YXYLzPuP"
   },
   "source": [
    " How many albums does the artist Led Zeppelin have?"
   ]
  },
  {
   "cell_type": "code",
   "execution_count": null,
   "outputs": [],
   "source": [],
   "metadata": {
    "collapsed": false,
    "pycharm": {
     "name": "#%%\n"
    }
   }
  },
  {
   "cell_type": "markdown",
   "metadata": {
    "id": "jDxz4RSezQir",
    "pycharm": {
     "name": "#%% md\n"
    }
   },
   "source": [
    "Create a list of album titles and the unit prices for the artist \"Audioslave\". **How many records are returned?**"
   ]
  },
  {
   "cell_type": "code",
   "execution_count": null,
   "outputs": [],
   "source": [],
   "metadata": {
    "collapsed": false,
    "pycharm": {
     "name": "#%%\n"
    }
   }
  },
  {
   "cell_type": "markdown",
   "metadata": {
    "id": "6TVnINglAGsv"
   },
   "source": [
    "Using a subquery, find the names of all the tracks for the album \"Californication\"."
   ]
  },
  {
   "cell_type": "code",
   "metadata": {
    "id": "dUppFfETAM9U"
   },
   "source": [
    ""
   ],
   "execution_count": null,
   "outputs": []
  },
  {
   "cell_type": "markdown",
   "metadata": {
    "id": "vulChgqDANLU"
   },
   "source": [
    "Find the total number of invoices for each customer along with the customer's full name, city and email."
   ]
  },
  {
   "cell_type": "code",
   "metadata": {
    "id": "sGRBCv0lAOsq"
   },
   "source": [
    ""
   ],
   "execution_count": null,
   "outputs": []
  },
  {
   "cell_type": "markdown",
   "metadata": {
    "id": "lyJ4BHyIAO2v"
   },
   "source": [
    "After running the query described above, what is the email address of the 5th person, František Wichterlová?"
   ]
  },
  {
   "cell_type": "code",
   "metadata": {
    "id": "5NrjVMXtARuo"
   },
   "source": [
    ""
   ],
   "execution_count": null,
   "outputs": []
  },
  {
   "cell_type": "markdown",
   "metadata": {
    "id": "7goiyepjAR7T"
   },
   "source": [
    "Retrieve the track name, album, artistID, and trackID for all the albums."
   ]
  },
  {
   "cell_type": "code",
   "metadata": {
    "id": "9rPwWSkFATpd"
   },
   "source": [
    ""
   ],
   "execution_count": null,
   "outputs": []
  },
  {
   "cell_type": "markdown",
   "metadata": {
    "id": "V0CwhMAbAVqr"
   },
   "source": [
    "What is the song title of trackID 12 from the \"For Those About to Rock We Salute You\" ?"
   ]
  },
  {
   "cell_type": "code",
   "metadata": {
    "id": "BYzFVF9zAYhV"
   },
   "source": [
    ""
   ],
   "execution_count": null,
   "outputs": []
  },
  {
   "cell_type": "markdown",
   "metadata": {
    "id": "qiIaQQX1AYrq"
   },
   "source": [
    "Retrieve a list with the managers last name, and the last name of the employees who report to him or her. **Who are the reports for the manager named Mitchell?**"
   ]
  },
  {
   "cell_type": "code",
   "metadata": {
    "id": "AQZBCthEAftB"
   },
   "source": [
    ""
   ],
   "execution_count": null,
   "outputs": []
  },
  {
   "cell_type": "markdown",
   "metadata": {
    "id": "6gZBptiOAh2c"
   },
   "source": [
    "Find the name and ID of the artists who do not have albums. "
   ]
  },
  {
   "cell_type": "code",
   "metadata": {
    "id": "IgbisBHkAkU4"
   },
   "source": [
    ""
   ],
   "execution_count": null,
   "outputs": []
  },
  {
   "cell_type": "markdown",
   "metadata": {
    "id": "lpETQyAhAkgL"
   },
   "source": [
    "Use a UNION to create a list of all the employee's and customer's first names and last names ordered by the last name in descending order. **Determine what is the last name of the 6th record** Remember to order things in descending order to be sure to get the correct answer."
   ]
  },
  {
   "cell_type": "code",
   "metadata": {
    "id": "zLWDnZ5AArVK"
   },
   "source": [
    ""
   ],
   "execution_count": null,
   "outputs": []
  },
  {
   "cell_type": "markdown",
   "metadata": {
    "id": "E-HmEIsZArpl"
   },
   "source": [
    "See if there are any customers who have a different city listed in their billing city versus their customer city."
   ]
  },
  {
   "cell_type": "code",
   "metadata": {
    "id": "Bi4tcpV-AuJM"
   },
   "source": [
    ""
   ],
   "execution_count": null,
   "outputs": []
  }
 ]
}