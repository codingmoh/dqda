{
 "cells": [
  {
   "cell_type": "markdown",
   "metadata": {},
   "source": [
    "# Assignment 1 - Python coding warm up\n",
    "## Play with cookie"
   ]
  },
  {
   "cell_type": "markdown",
   "metadata": {},
   "source": [
    " Erstelle ein Spiel welches beim Start eine zufällig gewählte Ganzzahl zwischen 1 und 25 generiert. Der Benutzer soll dann mittels Aufruf einer geeigneten Methode eine Zahl eingeben können und das Programm teilt dem Benutzer mit ob die generierte Zahl höher oder niedriger ist. Der Benutzer soll maximal 5 Versuche haben die richtige Zahl zu finden.\n",
    "\n",
    "Nachdem der Benutzer die richtige Zahl gefunden hat bekommt dieser einen Keks (Textausgabe). Sollte dies nicht gelingen, ermuntere Ihn es nochmals zu versuchen, wobei das Spiel dann von neuem beginnen soll."
   ]
  },
  {
   "cell_type": "code",
   "execution_count": null,
   "metadata": {
    "collapsed": true
   },
   "outputs": [],
   "source": [
    "def give_cookie():\n",
    "    print(\"Have your cookie\")"
   ]
  },
  {
   "cell_type": "code",
   "execution_count": null,
   "metadata": {
    "collapsed": true
   },
   "outputs": [],
   "source": [
    "def generate_number(): # write your code\n",
    "    return"
   ]
  },
  {
   "cell_type": "code",
   "execution_count": null,
   "metadata": {
    "collapsed": true
   },
   "outputs": [],
   "source": [
    "def compare_numbers(): #add parameters and return wheither comparison returned true\n",
    "    return"
   ]
  },
  {
   "cell_type": "code",
   "execution_count": null,
   "metadata": {
    "collapsed": true
   },
   "outputs": [],
   "source": [
    "my_guess = None\n",
    "\n",
    "#write code for comparison and hold state of tries."
   ]
  },
  {
   "cell_type": "markdown",
   "metadata": {},
   "source": [
    "## Schere, Stein, Papier\n",
    "\n",
    "Erstelle ein Python Programm welches das Spiel „Schere Stein Papier“ emuliert.\n",
    "\n",
    "\n",
    "Das Programm soll den Benutzer fragen welche Option Spieler 1 bzw. Spieler 2 wählt (Mögliche Optionen sind \"Schere\", \"Stein\", \"Papier\"). (Dies kann auch über direktes aufrufen von Klassen geschehen)\n",
    "\n",
    "Danach soll das Programm den Gewinner ausgeben. Sollte es keinen Gewinner geben, soll \"Unentschieden\" ausgegeben werden.\n",
    "\n",
    "Wenn der Benutzer etwas Anderes eingibt als o.a. Optionen soll das Programm einen Fehler ausgeben, der besagt, dass dies keine gültige Option ist. Er/Sie möge doch eine der drei Optionen verwenden.\n",
    "\n",
    " \n",
    "\n",
    "Tipp: Erstelle eine Klasse „Spieler“ welche ein Parameter übernimmt („Schere“....)\n",
    "\n",
    "Überprüfe in der Klasse ob der Parameter gültig ist.\n",
    "\n",
    "**Optional extra points (+3) ** <br />\n",
    "Extend *Rock, paper, scissors* with *lizard, Spock*! \n",
    "For more information visit: https://www.youtube.com/watch?v=x5Q6-wMx-K8\n",
    "![Game](game.webp)"
   ]
  },
  {
   "cell_type": "code",
   "execution_count": null,
   "metadata": {
    "collapsed": true
   },
   "outputs": [],
   "source": [
    "class Player:\n",
    "    __option = None\n",
    "    # add constructor, which receives option\n",
    "    # add private setter for option\n",
    "    # add public getter"
   ]
  },
  {
   "cell_type": "code",
   "execution_count": null,
   "metadata": {
    "collapsed": true
   },
   "outputs": [],
   "source": [
    "class Game:\n",
    "    def __init__(self, Player_One: Player, Player_Two: Player):\n",
    "        return\n",
    "    def play():\n",
    "        return"
   ]
  }
 ],
 "metadata": {
  "anaconda-cloud": {},
  "coursera": {
   "course_slug": "python-data-analysis",
   "graded_item_id": "tHmgx",
   "launcher_item_id": "Um6Bz",
   "part_id": "OQsnr"
  },
  "kernelspec": {
   "display_name": "Python 3",
   "language": "python",
   "name": "python3"
  },
  "language_info": {
   "codemirror_mode": {
    "name": "ipython",
    "version": 3
   },
   "file_extension": ".py",
   "mimetype": "text/x-python",
   "name": "python",
   "nbconvert_exporter": "python",
   "pygments_lexer": "ipython3",
   "version": "3.7.8"
  }
 },
 "nbformat": 4,
 "nbformat_minor": 1
}